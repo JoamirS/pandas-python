{
 "cells": [
  {
   "cell_type": "code",
   "execution_count": 27,
   "id": "1a1219bf",
   "metadata": {},
   "outputs": [],
   "source": [
    "import pandas as pd"
   ]
  },
  {
   "cell_type": "code",
   "execution_count": 28,
   "id": "8791800e",
   "metadata": {},
   "outputs": [],
   "source": [
    "# List with names of students"
   ]
  },
  {
   "cell_type": "code",
   "execution_count": 29,
   "id": "af692c0e",
   "metadata": {},
   "outputs": [],
   "source": [
    "name_students = [\"Ana\", \"João\", \"Maria\", \"Pedro\", \"Mariana\", \"Carlos\", \"Juliana\", \"Lucas\", \"Gabriela\", \"Rafael\",\n",
    "                \"Larissa\", \"Mateus\", \"Camila\", \"Thiago\", \"Isabela\", \"Fernando\", \"Beatriz\", \"Daniel\", \"Vanessa\",\n",
    "                \"Paulo\", \"Amanda\", \"Diego\", \"Carolina\", \"Felipe\", \"Patrícia\", \"Ricardo\", \"Luana\", \"Vinícius\",\n",
    "                \"Laura\", \"Bruno\"]"
   ]
  },
  {
   "cell_type": "code",
   "execution_count": 30,
   "id": "1ac774a4",
   "metadata": {},
   "outputs": [],
   "source": [
    "students_series = pd.Series(name_students, index=range(1,31))"
   ]
  },
  {
   "cell_type": "code",
   "execution_count": 31,
   "id": "08da887b",
   "metadata": {},
   "outputs": [
    {
     "name": "stdout",
     "output_type": "stream",
     "text": [
      "1          Ana\n",
      "2         João\n",
      "3        Maria\n",
      "4        Pedro\n",
      "5      Mariana\n",
      "6       Carlos\n",
      "7      Juliana\n",
      "8        Lucas\n",
      "9     Gabriela\n",
      "10      Rafael\n",
      "11     Larissa\n",
      "12      Mateus\n",
      "13      Camila\n",
      "14      Thiago\n",
      "15     Isabela\n",
      "16    Fernando\n",
      "17     Beatriz\n",
      "18      Daniel\n",
      "19     Vanessa\n",
      "20       Paulo\n",
      "21      Amanda\n",
      "22       Diego\n",
      "23    Carolina\n",
      "24      Felipe\n",
      "25    Patrícia\n",
      "26     Ricardo\n",
      "27       Luana\n",
      "28    Vinícius\n",
      "29       Laura\n",
      "30       Bruno\n",
      "dtype: object\n"
     ]
    }
   ],
   "source": [
    "print(students_series)"
   ]
  },
  {
   "cell_type": "code",
   "execution_count": 32,
   "id": "ca225270",
   "metadata": {},
   "outputs": [
    {
     "data": {
      "text/plain": [
       "'Ana'"
      ]
     },
     "execution_count": 32,
     "metadata": {},
     "output_type": "execute_result"
    }
   ],
   "source": [
    "students_series[1]"
   ]
  },
  {
   "cell_type": "code",
   "execution_count": 33,
   "id": "b220afa8",
   "metadata": {},
   "outputs": [
    {
     "data": {
      "text/plain": [
       "1     Ana\n",
       "2    João\n",
       "dtype: object"
      ]
     },
     "execution_count": 33,
     "metadata": {},
     "output_type": "execute_result"
    }
   ],
   "source": [
    "students_series[0:2]"
   ]
  },
  {
   "cell_type": "code",
   "execution_count": 34,
   "id": "cd460d10",
   "metadata": {},
   "outputs": [
    {
     "data": {
      "text/plain": [
       "RangeIndex(start=1, stop=31, step=1)"
      ]
     },
     "execution_count": 34,
     "metadata": {},
     "output_type": "execute_result"
    }
   ],
   "source": [
    "students_series.index"
   ]
  },
  {
   "cell_type": "code",
   "execution_count": 35,
   "id": "9856f298",
   "metadata": {},
   "outputs": [
    {
     "name": "stdout",
     "output_type": "stream",
     "text": [
      "1          Ana\n",
      "2         João\n",
      "3        Maria\n",
      "4        Pedro\n",
      "5      Mariana\n",
      "6       Carlos\n",
      "7      Juliana\n",
      "8        Lucas\n",
      "9     Gabriela\n",
      "10      Rafael\n",
      "11     Larissa\n",
      "12      Mateus\n",
      "13      Camila\n",
      "14      Thiago\n",
      "15     Isabela\n",
      "16    Fernando\n",
      "17     Beatriz\n",
      "18      Daniel\n",
      "19     Vanessa\n",
      "20       Paulo\n",
      "21      Amanda\n",
      "22       Diego\n",
      "23    Carolina\n",
      "24      Felipe\n",
      "25    Patrícia\n",
      "26     Ricardo\n",
      "27       Luana\n",
      "28    Vinícius\n",
      "29       Laura\n",
      "30       Bruno\n",
      "dtype: object\n"
     ]
    }
   ],
   "source": [
    "print(students_series)"
   ]
  },
  {
   "cell_type": "code",
   "execution_count": 36,
   "id": "ed71a4d4",
   "metadata": {},
   "outputs": [
    {
     "data": {
      "text/plain": [
       "1          Ana\n",
       "2         João\n",
       "3        Maria\n",
       "4        Pedro\n",
       "5      Mariana\n",
       "6       Carlos\n",
       "7      Juliana\n",
       "8        Lucas\n",
       "9     Gabriela\n",
       "10      Rafael\n",
       "11     Larissa\n",
       "12      Mateus\n",
       "13      Camila\n",
       "14      Thiago\n",
       "15     Isabela\n",
       "16    Fernando\n",
       "17     Beatriz\n",
       "18      Daniel\n",
       "19     Vanessa\n",
       "20       Paulo\n",
       "21      Amanda\n",
       "22       Diego\n",
       "23    Carolina\n",
       "24      Felipe\n",
       "25    Patrícia\n",
       "26     Ricardo\n",
       "27       Luana\n",
       "28    Vinícius\n",
       "29       Laura\n",
       "30       Bruno\n",
       "dtype: object"
      ]
     },
     "execution_count": 36,
     "metadata": {},
     "output_type": "execute_result"
    }
   ],
   "source": [
    "students_series"
   ]
  },
  {
   "cell_type": "code",
   "execution_count": 37,
   "id": "d0108f5e",
   "metadata": {},
   "outputs": [],
   "source": [
    "students_series.name = \"Alunos\"\n",
    "students_series.index.name = 'Matrículas'"
   ]
  },
  {
   "cell_type": "code",
   "execution_count": 38,
   "id": "f2558119",
   "metadata": {},
   "outputs": [],
   "source": [
    "size_series = students_series.size\n",
    "values_series = students_series.values\n",
    "index_series = students_series.index\n",
    "type_serie_students = type(students_series)\n",
    "students_dtype = students_series.dtype\n",
    "students_series_index_dtype = students_series.index.dtype"
   ]
  },
  {
   "cell_type": "code",
   "execution_count": 39,
   "id": "a5949009",
   "metadata": {},
   "outputs": [
    {
     "name": "stdout",
     "output_type": "stream",
     "text": [
      "Número de elementos:  30\n",
      "Vetor de dados:  ['Ana' 'João' 'Maria' 'Pedro' 'Mariana' 'Carlos' 'Juliana' 'Lucas'\n",
      " 'Gabriela' 'Rafael' 'Larissa' 'Mateus' 'Camila' 'Thiago' 'Isabela'\n",
      " 'Fernando' 'Beatriz' 'Daniel' 'Vanessa' 'Paulo' 'Amanda' 'Diego'\n",
      " 'Carolina' 'Felipe' 'Patrícia' 'Ricardo' 'Luana' 'Vinícius' 'Laura'\n",
      " 'Bruno']\n",
      "Vetor de rótulos:  RangeIndex(start=1, stop=31, step=1, name='Matrículas')\n",
      "Tipo (dtype): <class 'pandas.core.series.Series'>\n",
      "dtype da Series: object\n",
      "dtype do vetor de rótulos: int64\n"
     ]
    }
   ],
   "source": [
    "print('Número de elementos: ', size_series)\n",
    "print('Vetor de dados: ', values_series)\n",
    "print('Vetor de rótulos: ', index_series)\n",
    "print('Tipo (dtype):', type_serie_students)\n",
    "print('dtype da Series:', students_dtype)\n",
    "print('dtype do vetor de rótulos:', students_series_index_dtype)"
   ]
  },
  {
   "cell_type": "code",
   "execution_count": 40,
   "id": "ef861823",
   "metadata": {},
   "outputs": [
    {
     "name": "stdout",
     "output_type": "stream",
     "text": [
      "Matrículas\n",
      "1          Ana\n",
      "2         João\n",
      "3        Maria\n",
      "4        Pedro\n",
      "5      Mariana\n",
      "6       Carlos\n",
      "7      Juliana\n",
      "8        Lucas\n",
      "9     Gabriela\n",
      "10      Rafael\n",
      "11     Larissa\n",
      "12      Mateus\n",
      "13      Camila\n",
      "14      Thiago\n",
      "15     Isabela\n",
      "16    Fernando\n",
      "17     Beatriz\n",
      "18      Daniel\n",
      "19     Vanessa\n",
      "20       Paulo\n",
      "21      Amanda\n",
      "22       Diego\n",
      "23    Carolina\n",
      "24      Felipe\n",
      "25    Patrícia\n",
      "26     Ricardo\n",
      "27       Luana\n",
      "28    Vinícius\n",
      "29       Laura\n",
      "30       Bruno\n",
      "Name: Alunos, dtype: object\n"
     ]
    }
   ],
   "source": [
    "print(students_series)"
   ]
  },
  {
   "cell_type": "code",
   "execution_count": 41,
   "id": "2082df98",
   "metadata": {},
   "outputs": [
    {
     "data": {
      "text/plain": [
       "'Vanessa'"
      ]
     },
     "execution_count": 41,
     "metadata": {},
     "output_type": "execute_result"
    }
   ],
   "source": [
    "students_series[19]"
   ]
  },
  {
   "cell_type": "code",
   "execution_count": 42,
   "id": "d74ba2a0",
   "metadata": {},
   "outputs": [
    {
     "data": {
      "text/plain": [
       "'Rafael'"
      ]
     },
     "execution_count": 42,
     "metadata": {},
     "output_type": "execute_result"
    }
   ],
   "source": [
    "students_series[10]"
   ]
  },
  {
   "cell_type": "code",
   "execution_count": 43,
   "id": "e1e5f23b",
   "metadata": {},
   "outputs": [
    {
     "data": {
      "text/plain": [
       "'Vinícius'"
      ]
     },
     "execution_count": 43,
     "metadata": {},
     "output_type": "execute_result"
    }
   ],
   "source": [
    "students_series[students_series.size - 2]"
   ]
  },
  {
   "cell_type": "code",
   "execution_count": 44,
   "id": "cbbf91c5",
   "metadata": {},
   "outputs": [
    {
     "data": {
      "text/plain": [
       "'Ana'"
      ]
     },
     "execution_count": 44,
     "metadata": {},
     "output_type": "execute_result"
    }
   ],
   "source": [
    "students_series[1]"
   ]
  },
  {
   "cell_type": "code",
   "execution_count": 45,
   "id": "3ea71352",
   "metadata": {},
   "outputs": [
    {
     "data": {
      "text/plain": [
       "'Bruno'"
      ]
     },
     "execution_count": 45,
     "metadata": {},
     "output_type": "execute_result"
    }
   ],
   "source": [
    "students_series[students_series.size]"
   ]
  },
  {
   "cell_type": "code",
   "execution_count": 46,
   "id": "f9dcdc4e",
   "metadata": {},
   "outputs": [
    {
     "data": {
      "text/plain": [
       "Matrículas\n",
       "2         João\n",
       "3        Maria\n",
       "4        Pedro\n",
       "5      Mariana\n",
       "6       Carlos\n",
       "7      Juliana\n",
       "8        Lucas\n",
       "9     Gabriela\n",
       "10      Rafael\n",
       "Name: Alunos, dtype: object"
      ]
     },
     "execution_count": 46,
     "metadata": {},
     "output_type": "execute_result"
    }
   ],
   "source": [
    "students_series[1:10]"
   ]
  },
  {
   "cell_type": "code",
   "execution_count": 47,
   "id": "14057e87",
   "metadata": {},
   "outputs": [
    {
     "data": {
      "text/plain": [
       "Matrículas\n",
       "11     Larissa\n",
       "12      Mateus\n",
       "13      Camila\n",
       "14      Thiago\n",
       "15     Isabela\n",
       "16    Fernando\n",
       "17     Beatriz\n",
       "18      Daniel\n",
       "19     Vanessa\n",
       "20       Paulo\n",
       "21      Amanda\n",
       "22       Diego\n",
       "23    Carolina\n",
       "24      Felipe\n",
       "25    Patrícia\n",
       "26     Ricardo\n",
       "27       Luana\n",
       "28    Vinícius\n",
       "29       Laura\n",
       "30       Bruno\n",
       "Name: Alunos, dtype: object"
      ]
     },
     "execution_count": 47,
     "metadata": {},
     "output_type": "execute_result"
    }
   ],
   "source": [
    "students_series[10:]"
   ]
  },
  {
   "cell_type": "code",
   "execution_count": 48,
   "id": "a5bd6cc5",
   "metadata": {},
   "outputs": [
    {
     "data": {
      "text/plain": [
       "Matrículas\n",
       "1          Ana\n",
       "2         João\n",
       "3        Maria\n",
       "4        Pedro\n",
       "5      Mariana\n",
       "6       Carlos\n",
       "7      Juliana\n",
       "8        Lucas\n",
       "9     Gabriela\n",
       "10      Rafael\n",
       "Name: Alunos, dtype: object"
      ]
     },
     "execution_count": 48,
     "metadata": {},
     "output_type": "execute_result"
    }
   ],
   "source": [
    "students_series[:10]"
   ]
  },
  {
   "cell_type": "code",
   "execution_count": 49,
   "id": "8e6ad1ed",
   "metadata": {
    "scrolled": true
   },
   "outputs": [
    {
     "data": {
      "text/plain": [
       "Matrículas\n",
       "26     Ricardo\n",
       "27       Luana\n",
       "28    Vinícius\n",
       "29       Laura\n",
       "30       Bruno\n",
       "Name: Alunos, dtype: object"
      ]
     },
     "execution_count": 49,
     "metadata": {},
     "output_type": "execute_result"
    }
   ],
   "source": [
    "students_series[-5:]"
   ]
  },
  {
   "cell_type": "code",
   "execution_count": 51,
   "id": "2a8f15f1",
   "metadata": {},
   "outputs": [
    {
     "data": {
      "text/plain": [
       "Matrículas\n",
       "2     João\n",
       "1      Ana\n",
       "4    Pedro\n",
       "Name: Alunos, dtype: object"
      ]
     },
     "execution_count": 51,
     "metadata": {},
     "output_type": "execute_result"
    }
   ],
   "source": [
    "students_series[[2, 1, 4]]"
   ]
  },
  {
   "cell_type": "code",
   "execution_count": 52,
   "id": "52745465",
   "metadata": {},
   "outputs": [],
   "source": [
    "grades = pd.Series([8.5, 7.2, 9.0, 6.8, 8.9])\n",
    "names_students = pd.Series(['Ana', 'João', 'Maria', 'Pedro', 'Carla'])"
   ]
  },
  {
   "cell_type": "code",
   "execution_count": 54,
   "id": "ad2985a0",
   "metadata": {},
   "outputs": [
    {
     "data": {
      "text/plain": [
       "RangeIndex(start=0, stop=5, step=1)"
      ]
     },
     "execution_count": 54,
     "metadata": {},
     "output_type": "execute_result"
    }
   ],
   "source": [
    "names_students.index"
   ]
  },
  {
   "cell_type": "code",
   "execution_count": 55,
   "id": "32141b0e",
   "metadata": {},
   "outputs": [],
   "source": [
    "index_approved_students = grades[grades >= 7].index"
   ]
  },
  {
   "cell_type": "code",
   "execution_count": 57,
   "id": "784665aa",
   "metadata": {},
   "outputs": [
    {
     "name": "stdout",
     "output_type": "stream",
     "text": [
      "Relação de alunos aprovados\n",
      "0      Ana\n",
      "1     João\n",
      "2    Maria\n",
      "4    Carla\n",
      "dtype: object\n"
     ]
    }
   ],
   "source": [
    "print('Relação de alunos aprovados')\n",
    "print(names_students[index_approved_students])"
   ]
  },
  {
   "cell_type": "markdown",
   "id": "426e5a7a",
   "metadata": {},
   "source": [
    "#### Checar se um rótulo ou valor está na serie"
   ]
  },
  {
   "cell_type": "code",
   "execution_count": 62,
   "id": "5420c7bc",
   "metadata": {},
   "outputs": [],
   "source": [
    "is_90 = 99 in students_series"
   ]
  },
  {
   "cell_type": "code",
   "execution_count": 63,
   "id": "c5b61fe5",
   "metadata": {},
   "outputs": [
    {
     "data": {
      "text/plain": [
       "False"
      ]
     },
     "execution_count": 63,
     "metadata": {},
     "output_type": "execute_result"
    }
   ],
   "source": [
    "is_90"
   ]
  },
  {
   "cell_type": "code",
   "execution_count": 64,
   "id": "da77cc6e",
   "metadata": {},
   "outputs": [],
   "source": [
    "is_13 = 13 in students_series"
   ]
  },
  {
   "cell_type": "code",
   "execution_count": 65,
   "id": "94a63b3c",
   "metadata": {},
   "outputs": [
    {
     "data": {
      "text/plain": [
       "True"
      ]
     },
     "execution_count": 65,
     "metadata": {},
     "output_type": "execute_result"
    }
   ],
   "source": [
    "is_13"
   ]
  },
  {
   "cell_type": "code",
   "execution_count": 66,
   "id": "c5c11ba8",
   "metadata": {},
   "outputs": [],
   "source": [
    "# Testa se o valor faz parte de uma serie"
   ]
  },
  {
   "cell_type": "code",
   "execution_count": 70,
   "id": "10ced2be",
   "metadata": {},
   "outputs": [],
   "source": [
    "tem_Laura = students_series.isin(['Laura'])"
   ]
  },
  {
   "cell_type": "code",
   "execution_count": 71,
   "id": "f085f8e4",
   "metadata": {},
   "outputs": [
    {
     "data": {
      "text/plain": [
       "Matrículas\n",
       "1     False\n",
       "2     False\n",
       "3     False\n",
       "4     False\n",
       "5     False\n",
       "6     False\n",
       "7     False\n",
       "8     False\n",
       "9     False\n",
       "10    False\n",
       "11    False\n",
       "12    False\n",
       "13    False\n",
       "14    False\n",
       "15    False\n",
       "16    False\n",
       "17    False\n",
       "18    False\n",
       "19    False\n",
       "20    False\n",
       "21    False\n",
       "22    False\n",
       "23    False\n",
       "24    False\n",
       "25    False\n",
       "26    False\n",
       "27    False\n",
       "28    False\n",
       "29     True\n",
       "30    False\n",
       "Name: Alunos, dtype: bool"
      ]
     },
     "execution_count": 71,
     "metadata": {},
     "output_type": "execute_result"
    }
   ],
   "source": [
    "tem_Laura"
   ]
  },
  {
   "cell_type": "code",
   "execution_count": 72,
   "id": "0c6c108b",
   "metadata": {},
   "outputs": [],
   "source": [
    "tem_Joamir = students_series.isin(['Joamir'])"
   ]
  },
  {
   "cell_type": "code",
   "execution_count": 73,
   "id": "a1891685",
   "metadata": {},
   "outputs": [
    {
     "data": {
      "text/plain": [
       "Matrículas\n",
       "1     False\n",
       "2     False\n",
       "3     False\n",
       "4     False\n",
       "5     False\n",
       "6     False\n",
       "7     False\n",
       "8     False\n",
       "9     False\n",
       "10    False\n",
       "11    False\n",
       "12    False\n",
       "13    False\n",
       "14    False\n",
       "15    False\n",
       "16    False\n",
       "17    False\n",
       "18    False\n",
       "19    False\n",
       "20    False\n",
       "21    False\n",
       "22    False\n",
       "23    False\n",
       "24    False\n",
       "25    False\n",
       "26    False\n",
       "27    False\n",
       "28    False\n",
       "29    False\n",
       "30    False\n",
       "Name: Alunos, dtype: bool"
      ]
     },
     "execution_count": 73,
     "metadata": {},
     "output_type": "execute_result"
    }
   ],
   "source": [
    "tem_Joamir"
   ]
  },
  {
   "cell_type": "code",
   "execution_count": 74,
   "id": "6b15a380",
   "metadata": {},
   "outputs": [],
   "source": [
    "students_series[31] = 'Joamir'"
   ]
  },
  {
   "cell_type": "code",
   "execution_count": 75,
   "id": "0a30c4e4",
   "metadata": {},
   "outputs": [],
   "source": [
    "students_series[10] = 'Billy'"
   ]
  },
  {
   "cell_type": "code",
   "execution_count": 76,
   "id": "36705d31",
   "metadata": {},
   "outputs": [],
   "source": [
    "students_series[6] = 'Jimmy'"
   ]
  },
  {
   "cell_type": "code",
   "execution_count": 77,
   "id": "fc375ea9",
   "metadata": {},
   "outputs": [],
   "source": [
    "students_series = students_series.drop(30)"
   ]
  },
  {
   "cell_type": "code",
   "execution_count": 78,
   "id": "54f5734b",
   "metadata": {},
   "outputs": [
    {
     "data": {
      "text/plain": [
       "Matrículas\n",
       "1          Ana\n",
       "2         João\n",
       "3        Maria\n",
       "4        Pedro\n",
       "5      Mariana\n",
       "6        Jimmy\n",
       "7      Juliana\n",
       "8        Lucas\n",
       "9     Gabriela\n",
       "10       Billy\n",
       "11     Larissa\n",
       "12      Mateus\n",
       "13      Camila\n",
       "14      Thiago\n",
       "15     Isabela\n",
       "16    Fernando\n",
       "17     Beatriz\n",
       "18      Daniel\n",
       "19     Vanessa\n",
       "20       Paulo\n",
       "21      Amanda\n",
       "22       Diego\n",
       "23    Carolina\n",
       "24      Felipe\n",
       "25    Patrícia\n",
       "26     Ricardo\n",
       "27       Luana\n",
       "28    Vinícius\n",
       "29       Laura\n",
       "31      Joamir\n",
       "Name: Alunos, dtype: object"
      ]
     },
     "execution_count": 78,
     "metadata": {},
     "output_type": "execute_result"
    }
   ],
   "source": [
    "students_series"
   ]
  },
  {
   "cell_type": "code",
   "execution_count": 79,
   "id": "f9089538",
   "metadata": {},
   "outputs": [],
   "source": [
    "# Percorrendo uma series"
   ]
  },
  {
   "cell_type": "code",
   "execution_count": 80,
   "id": "1ad9958e",
   "metadata": {},
   "outputs": [
    {
     "name": "stdout",
     "output_type": "stream",
     "text": [
      "Ana\n",
      "João\n",
      "Maria\n",
      "Pedro\n",
      "Mariana\n",
      "Jimmy\n",
      "Juliana\n",
      "Lucas\n",
      "Gabriela\n",
      "Billy\n",
      "Larissa\n",
      "Mateus\n",
      "Camila\n",
      "Thiago\n",
      "Isabela\n",
      "Fernando\n",
      "Beatriz\n",
      "Daniel\n",
      "Vanessa\n",
      "Paulo\n",
      "Amanda\n",
      "Diego\n",
      "Carolina\n",
      "Felipe\n",
      "Patrícia\n",
      "Ricardo\n",
      "Luana\n",
      "Vinícius\n",
      "Laura\n",
      "Joamir\n"
     ]
    }
   ],
   "source": [
    "for student in students_series:\n",
    "    print(student)"
   ]
  },
  {
   "cell_type": "code",
   "execution_count": 81,
   "id": "79646a80",
   "metadata": {},
   "outputs": [
    {
     "name": "stdout",
     "output_type": "stream",
     "text": [
      "1\n",
      "2\n",
      "3\n",
      "4\n",
      "5\n",
      "6\n",
      "7\n",
      "8\n",
      "9\n",
      "10\n",
      "11\n",
      "12\n",
      "13\n",
      "14\n",
      "15\n",
      "16\n",
      "17\n",
      "18\n",
      "19\n",
      "20\n",
      "21\n",
      "22\n",
      "23\n",
      "24\n",
      "25\n",
      "26\n",
      "27\n",
      "28\n",
      "29\n",
      "31\n"
     ]
    }
   ],
   "source": [
    "for indice in students_series.index:\n",
    "    print(indice)"
   ]
  },
  {
   "cell_type": "code",
   "execution_count": 82,
   "id": "1be37bdb",
   "metadata": {},
   "outputs": [],
   "source": [
    "import numpy as np"
   ]
  },
  {
   "cell_type": "code",
   "execution_count": 83,
   "id": "4faf4531",
   "metadata": {},
   "outputs": [],
   "source": [
    "series_one = pd.Series([2, 4, 6])\n",
    "series_two = pd.Series([1, 3, 5])"
   ]
  },
  {
   "cell_type": "code",
   "execution_count": 84,
   "id": "66c66c50",
   "metadata": {},
   "outputs": [
    {
     "name": "stdout",
     "output_type": "stream",
     "text": [
      "Series one * Series two\n",
      "0     2\n",
      "1    12\n",
      "2    30\n",
      "dtype: int64\n"
     ]
    }
   ],
   "source": [
    "print('Series one * Series two')\n",
    "print(series_one * series_two)"
   ]
  },
  {
   "cell_type": "code",
   "execution_count": 85,
   "id": "04a51b0f",
   "metadata": {},
   "outputs": [
    {
     "name": "stdout",
     "output_type": "stream",
     "text": [
      "Series one + Series two\n",
      "0     3\n",
      "1     7\n",
      "2    11\n",
      "dtype: int64\n"
     ]
    }
   ],
   "source": [
    "print('Series one + Series two')\n",
    "print(series_one + series_two)"
   ]
  },
  {
   "cell_type": "code",
   "execution_count": 86,
   "id": "706ab337",
   "metadata": {},
   "outputs": [
    {
     "name": "stdout",
     "output_type": "stream",
     "text": [
      "Raiz quadrada dos elementos da Series Two\n",
      "0    1.414214\n",
      "1    2.000000\n",
      "2    2.449490\n",
      "dtype: float64\n"
     ]
    }
   ],
   "source": [
    "print('Raiz quadrada dos elementos da Series Two')\n",
    "print(np.sqrt(series_one))"
   ]
  },
  {
   "cell_type": "code",
   "execution_count": null,
   "id": "6ba2117c",
   "metadata": {},
   "outputs": [],
   "source": []
  }
 ],
 "metadata": {
  "kernelspec": {
   "display_name": "Python 3 (ipykernel)",
   "language": "python",
   "name": "python3"
  },
  "language_info": {
   "codemirror_mode": {
    "name": "ipython",
    "version": 3
   },
   "file_extension": ".py",
   "mimetype": "text/x-python",
   "name": "python",
   "nbconvert_exporter": "python",
   "pygments_lexer": "ipython3",
   "version": "3.9.7"
  }
 },
 "nbformat": 4,
 "nbformat_minor": 5
}
