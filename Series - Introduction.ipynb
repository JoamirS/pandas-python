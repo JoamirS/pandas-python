{
 "cells": [
  {
   "cell_type": "code",
   "execution_count": 56,
   "id": "df2525dc",
   "metadata": {},
   "outputs": [],
   "source": [
    "import pandas as pd"
   ]
  },
  {
   "cell_type": "code",
   "execution_count": 57,
   "id": "5c5a0f67",
   "metadata": {},
   "outputs": [],
   "source": [
    "grades_student = pd.Series([7.6, 5.0, 8.5, 9.5, 6.4])"
   ]
  },
  {
   "cell_type": "code",
   "execution_count": 58,
   "id": "d9e1999a",
   "metadata": {},
   "outputs": [],
   "source": [
    "list_enrollment = ['M02', 'M05', 'M13', 'M14', 'M19']"
   ]
  },
  {
   "cell_type": "code",
   "execution_count": 59,
   "id": "02ffbe05",
   "metadata": {},
   "outputs": [],
   "source": [
    "list_names = ['Bob', 'Dayse', 'Bill', 'Cris', 'Jimi']"
   ]
  },
  {
   "cell_type": "code",
   "execution_count": 60,
   "id": "ad12b281",
   "metadata": {},
   "outputs": [],
   "source": [
    "students = pd.Series(list_names, index=list_enrollment)"
   ]
  },
  {
   "cell_type": "code",
   "execution_count": 61,
   "id": "2277a0b0",
   "metadata": {},
   "outputs": [
    {
     "name": "stdout",
     "output_type": "stream",
     "text": [
      "0    7.6\n",
      "1    5.0\n",
      "2    8.5\n",
      "3    9.5\n",
      "4    6.4\n",
      "dtype: float64\n",
      "---------\n",
      "M02      Bob\n",
      "M05    Dayse\n",
      "M13     Bill\n",
      "M14     Cris\n",
      "M19     Jimi\n",
      "dtype: object\n"
     ]
    }
   ],
   "source": [
    "print(grades_student); print('---------'); print(students)"
   ]
  },
  {
   "cell_type": "markdown",
   "id": "71a7fbab",
   "metadata": {},
   "source": [
    "### Series criada a partir de um dicionário"
   ]
  },
  {
   "cell_type": "code",
   "execution_count": 62,
   "id": "e97cfae5",
   "metadata": {},
   "outputs": [],
   "source": [
    "dict_students = {'M02': 'Bob', 'M05': 'Dayse', 'M13': 'Bill', 'M14': 'Cris', 'M19': 'Jimi'}"
   ]
  },
  {
   "cell_type": "code",
   "execution_count": 63,
   "id": "3b280294",
   "metadata": {},
   "outputs": [],
   "source": [
    "students = pd.Series(dict_students)"
   ]
  },
  {
   "cell_type": "code",
   "execution_count": 64,
   "id": "501f3623",
   "metadata": {},
   "outputs": [
    {
     "name": "stdout",
     "output_type": "stream",
     "text": [
      "M02      Bob\n",
      "M05    Dayse\n",
      "M13     Bill\n",
      "M14     Cris\n",
      "M19     Jimi\n",
      "dtype: object\n"
     ]
    }
   ],
   "source": [
    "print(students)"
   ]
  },
  {
   "cell_type": "code",
   "execution_count": 65,
   "id": "060e2e88",
   "metadata": {},
   "outputs": [],
   "source": [
    "students.name = 'Alunos'"
   ]
  },
  {
   "cell_type": "code",
   "execution_count": 66,
   "id": "fe90a1f0",
   "metadata": {},
   "outputs": [],
   "source": [
    "students.index.name = 'Matrículas'"
   ]
  },
  {
   "cell_type": "code",
   "execution_count": 67,
   "id": "b57962cb",
   "metadata": {},
   "outputs": [
    {
     "name": "stdout",
     "output_type": "stream",
     "text": [
      "Matrículas\n",
      "M02      Bob\n",
      "M05    Dayse\n",
      "M13     Bill\n",
      "M14     Cris\n",
      "M19     Jimi\n",
      "Name: Alunos, dtype: object\n"
     ]
    }
   ],
   "source": [
    "print(students)"
   ]
  },
  {
   "cell_type": "code",
   "execution_count": 68,
   "id": "4341fc1a",
   "metadata": {},
   "outputs": [
    {
     "name": "stdout",
     "output_type": "stream",
     "text": [
      "Matrículas\n",
      "M02      Bob\n",
      "M05    Dayse\n",
      "M13     Bill\n",
      "M14     Cris\n",
      "M19     Jimi\n",
      "Name: Alunos, dtype: object\n",
      "----------------\n",
      "Número de elementos: 5\n",
      "Vetor de dados: ['Bob' 'Dayse' 'Bill' 'Cris' 'Jimi']\n",
      "Vetor de rótulos Index(['M02', 'M05', 'M13', 'M14', 'M19'], dtype='object', name='Matrículas')\n",
      "Tipo <class 'pandas.core.series.Series'>\n",
      "dtype da Series: object\n",
      "dtype do vetor de rótulos: object\n"
     ]
    }
   ],
   "source": [
    "print(students)\n",
    "print('----------------')\n",
    "size = students.size\n",
    "data_values = students.values\n",
    "labels = students.index\n",
    "students_type = type(students)\n",
    "students_dtype = students.dtype\n",
    "students_idx_dtype = students.index.dtype\n",
    "\n",
    "print('Número de elementos:', size)\n",
    "print('Vetor de dados:', data_values)\n",
    "print('Vetor de rótulos', labels)\n",
    "print('Tipo', students_type)\n",
    "print('dtype da Series:', students_dtype)\n",
    "print('dtype do vetor de rótulos:', students_idx_dtype)"
   ]
  },
  {
   "cell_type": "code",
   "execution_count": 69,
   "id": "a8a6933d",
   "metadata": {},
   "outputs": [
    {
     "data": {
      "text/plain": [
       "'Bob'"
      ]
     },
     "execution_count": 69,
     "metadata": {},
     "output_type": "execute_result"
    }
   ],
   "source": [
    "students[0]"
   ]
  },
  {
   "cell_type": "code",
   "execution_count": 70,
   "id": "25504217",
   "metadata": {},
   "outputs": [
    {
     "data": {
      "text/plain": [
       "'Bob'"
      ]
     },
     "execution_count": 70,
     "metadata": {},
     "output_type": "execute_result"
    }
   ],
   "source": [
    "students['M02']"
   ]
  },
  {
   "cell_type": "code",
   "execution_count": 71,
   "id": "84a84762",
   "metadata": {},
   "outputs": [
    {
     "data": {
      "text/plain": [
       "'Dayse'"
      ]
     },
     "execution_count": 71,
     "metadata": {},
     "output_type": "execute_result"
    }
   ],
   "source": [
    "students[1]"
   ]
  },
  {
   "cell_type": "code",
   "execution_count": 72,
   "id": "0aec4a83",
   "metadata": {},
   "outputs": [
    {
     "data": {
      "text/plain": [
       "'Cris'"
      ]
     },
     "execution_count": 72,
     "metadata": {},
     "output_type": "execute_result"
    }
   ],
   "source": [
    "students['M14']"
   ]
  },
  {
   "cell_type": "code",
   "execution_count": 73,
   "id": "eb6ccf00",
   "metadata": {},
   "outputs": [
    {
     "data": {
      "text/plain": [
       "'Jimi'"
      ]
     },
     "execution_count": 73,
     "metadata": {},
     "output_type": "execute_result"
    }
   ],
   "source": [
    "students[students.size - 1]"
   ]
  },
  {
   "cell_type": "code",
   "execution_count": 74,
   "id": "f6c2fdab",
   "metadata": {},
   "outputs": [
    {
     "data": {
      "text/plain": [
       "'Jimi'"
      ]
     },
     "execution_count": 74,
     "metadata": {},
     "output_type": "execute_result"
    }
   ],
   "source": [
    "students[-1]"
   ]
  },
  {
   "cell_type": "markdown",
   "id": "6b118187",
   "metadata": {},
   "source": [
    "### Slice "
   ]
  },
  {
   "cell_type": "markdown",
   "id": "dc6ee629",
   "metadata": {},
   "source": [
    "#####  A técnica de indexação \n",
    "baseada  em fatiamento (slicing)  deve\n",
    "ser utilizada quando você quiser recuperar mais de um elemento\n",
    "da Series. Você pode fatiar de duas diferentes formas:\n",
    "Por intervalos (ranges) definidos por dois pontos  : ;\n",
    "Por listas."
   ]
  },
  {
   "cell_type": "code",
   "execution_count": 75,
   "id": "02f0db6f",
   "metadata": {},
   "outputs": [
    {
     "data": {
      "text/plain": [
       "Matrículas\n",
       "M14    Cris\n",
       "M19    Jimi\n",
       "Name: Alunos, dtype: object"
      ]
     },
     "execution_count": 75,
     "metadata": {},
     "output_type": "execute_result"
    }
   ],
   "source": [
    "# últimos  k  elementos\n",
    "students[-2:]"
   ]
  },
  {
   "cell_type": "code",
   "execution_count": 76,
   "id": "4308b163",
   "metadata": {},
   "outputs": [
    {
     "data": {
      "text/plain": [
       "Matrículas\n",
       "M05    Dayse\n",
       "M14     Cris\n",
       "Name: Alunos, dtype: object"
      ]
     },
     "execution_count": 76,
     "metadata": {},
     "output_type": "execute_result"
    }
   ],
   "source": [
    "students[1:6:2]"
   ]
  },
  {
   "cell_type": "code",
   "execution_count": 77,
   "id": "6c56ed2f",
   "metadata": {},
   "outputs": [
    {
     "data": {
      "text/plain": [
       "Matrículas\n",
       "M13    Bill\n",
       "M02     Bob\n",
       "M19    Jimi\n",
       "Name: Alunos, dtype: object"
      ]
     },
     "execution_count": 77,
     "metadata": {},
     "output_type": "execute_result"
    }
   ],
   "source": [
    "students[[2, 0, 4]]"
   ]
  },
  {
   "cell_type": "code",
   "execution_count": 78,
   "id": "5f5319d9",
   "metadata": {},
   "outputs": [
    {
     "data": {
      "text/plain": [
       "Matrículas\n",
       "M13    Bill\n",
       "M02     Bob\n",
       "M19    Jimi\n",
       "Name: Alunos, dtype: object"
      ]
     },
     "execution_count": 78,
     "metadata": {},
     "output_type": "execute_result"
    }
   ],
   "source": [
    "students[['M13', 'M02', 'M19']]"
   ]
  },
  {
   "cell_type": "code",
   "execution_count": 79,
   "id": "214bbb46",
   "metadata": {},
   "outputs": [],
   "source": [
    "idx_approved = grades_student[grades_student >= 7].index"
   ]
  },
  {
   "cell_type": "code",
   "execution_count": 80,
   "id": "f4559fdb",
   "metadata": {},
   "outputs": [
    {
     "name": "stdout",
     "output_type": "stream",
     "text": [
      "Int64Index([0, 2, 3], dtype='int64')\n"
     ]
    }
   ],
   "source": [
    "print(idx_approved)"
   ]
  },
  {
   "cell_type": "code",
   "execution_count": 81,
   "id": "37163ba7",
   "metadata": {},
   "outputs": [
    {
     "name": "stdout",
     "output_type": "stream",
     "text": [
      "Relação de alunos aprovados:\n",
      "Matrículas\n",
      "M02     Bob\n",
      "M13    Bill\n",
      "M14    Cris\n",
      "Name: Alunos, dtype: object\n"
     ]
    }
   ],
   "source": [
    "print('Relação de alunos aprovados:')\n",
    "print(students[idx_approved])"
   ]
  },
  {
   "cell_type": "markdown",
   "id": "e14ef6d6",
   "metadata": {},
   "source": [
    "#####  A técnica de busca \n",
    "O programa mostra  como  verificar  se determinados\n",
    "rótulos ou valores estão presentes em uma Series"
   ]
  },
  {
   "cell_type": "code",
   "execution_count": 82,
   "id": "b65315b8",
   "metadata": {},
   "outputs": [],
   "source": [
    "has_M13 = 'M13' in students\n",
    "has_M99 = 'M99' in students"
   ]
  },
  {
   "cell_type": "code",
   "execution_count": 83,
   "id": "5c954229",
   "metadata": {},
   "outputs": [
    {
     "name": "stdout",
     "output_type": "stream",
     "text": [
      "Existe o rótulo 'M13'?  True\n",
      "Existe o rótulo 'M99'?  False\n"
     ]
    }
   ],
   "source": [
    "print(\"Existe o rótulo 'M13'? \", has_M13)\n",
    "print(\"Existe o rótulo 'M99'? \", has_M99)"
   ]
  },
  {
   "cell_type": "code",
   "execution_count": 84,
   "id": "4e8494af",
   "metadata": {},
   "outputs": [],
   "source": [
    "has_Bob = students.isin(['Bob'])"
   ]
  },
  {
   "cell_type": "code",
   "execution_count": 85,
   "id": "33536a3d",
   "metadata": {},
   "outputs": [
    {
     "name": "stdout",
     "output_type": "stream",
     "text": [
      "Existe o valor 'Bob'\n",
      "Matrículas\n",
      "M02     True\n",
      "M05    False\n",
      "M13    False\n",
      "M14    False\n",
      "M19    False\n",
      "Name: Alunos, dtype: bool\n"
     ]
    }
   ],
   "source": [
    "print(\"Existe o valor 'Bob'\")\n",
    "print(has_Bob)"
   ]
  },
  {
   "cell_type": "code",
   "execution_count": 86,
   "id": "b5b0b179",
   "metadata": {},
   "outputs": [
    {
     "name": "stdout",
     "output_type": "stream",
     "text": [
      "Matrículas\n",
      "M02      Bob\n",
      "M05    Dayse\n",
      "M13     Bill\n",
      "M14     Cris\n",
      "M19     Jimi\n",
      "Name: Alunos, dtype: object\n"
     ]
    }
   ],
   "source": [
    "print(students)"
   ]
  },
  {
   "cell_type": "code",
   "execution_count": 87,
   "id": "c41d529b",
   "metadata": {},
   "outputs": [],
   "source": [
    "#insert the student with enrollment M55, Rakesh\n",
    "students['M55'] = 'Rakesh'"
   ]
  },
  {
   "cell_type": "code",
   "execution_count": 88,
   "id": "bc75f335",
   "metadata": {},
   "outputs": [],
   "source": [
    "# change names\n",
    "students['M13'] = 'Billy'\n",
    "students[['M14', 'M19']] = ['Cristy', 'Jimmy']"
   ]
  },
  {
   "cell_type": "code",
   "execution_count": 89,
   "id": "42da6aff",
   "metadata": {},
   "outputs": [],
   "source": [
    "students = students.drop('M02')"
   ]
  },
  {
   "cell_type": "code",
   "execution_count": 90,
   "id": "009401de",
   "metadata": {},
   "outputs": [
    {
     "data": {
      "text/plain": [
       "Matrículas\n",
       "M05     Dayse\n",
       "M13     Billy\n",
       "M14    Cristy\n",
       "M19     Jimmy\n",
       "M55    Rakesh\n",
       "Name: Alunos, dtype: object"
      ]
     },
     "execution_count": 90,
     "metadata": {},
     "output_type": "execute_result"
    }
   ],
   "source": [
    "students"
   ]
  },
  {
   "cell_type": "markdown",
   "id": "6bb2e951",
   "metadata": {},
   "source": [
    "##### Iterando uma Series"
   ]
  },
  {
   "cell_type": "code",
   "execution_count": 91,
   "id": "0cc23b77",
   "metadata": {},
   "outputs": [
    {
     "name": "stdout",
     "output_type": "stream",
     "text": [
      "Dayse\n",
      "Billy\n",
      "Cristy\n",
      "Jimmy\n",
      "Rakesh\n"
     ]
    }
   ],
   "source": [
    "for student in students: print(student)"
   ]
  },
  {
   "cell_type": "code",
   "execution_count": 96,
   "id": "80cd6867",
   "metadata": {},
   "outputs": [
    {
     "name": "stdout",
     "output_type": "stream",
     "text": [
      "M05\n",
      "M13\n",
      "M14\n",
      "M19\n",
      "M55\n"
     ]
    }
   ],
   "source": [
    "for student_index in students.index:\n",
    "    print(student_index)"
   ]
  },
  {
   "cell_type": "markdown",
   "id": "584f526f",
   "metadata": {},
   "source": [
    "### Introduzindo o Numpy com computação vetorizada"
   ]
  },
  {
   "cell_type": "code",
   "execution_count": 97,
   "id": "e8d64a29",
   "metadata": {},
   "outputs": [],
   "source": [
    "import numpy as np"
   ]
  },
  {
   "cell_type": "code",
   "execution_count": 98,
   "id": "1aa17ce7",
   "metadata": {},
   "outputs": [],
   "source": [
    "series_01 = pd.Series([2, 4, 6])\n",
    "series_02 = pd.Series([1, 3, 5])"
   ]
  },
  {
   "cell_type": "code",
   "execution_count": 101,
   "id": "c74f0867",
   "metadata": {},
   "outputs": [
    {
     "name": "stdout",
     "output_type": "stream",
     "text": [
      " A soma entre series_01 + series_02\n",
      "0     3\n",
      "1     7\n",
      "2    11\n",
      "dtype: int64\n"
     ]
    }
   ],
   "source": [
    "print(f' A soma entre series_01 + series_02')\n",
    "print(series_01 + series_02)"
   ]
  },
  {
   "cell_type": "code",
   "execution_count": 102,
   "id": "594007cc",
   "metadata": {},
   "outputs": [
    {
     "name": "stdout",
     "output_type": "stream",
     "text": [
      "A multiplicação a series_01 e series_02\n",
      "0     2\n",
      "1    12\n",
      "2    30\n",
      "dtype: int64\n"
     ]
    }
   ],
   "source": [
    "print('A multiplicação a series_01 e series_02')\n",
    "print(series_01 * series_02)"
   ]
  },
  {
   "cell_type": "code",
   "execution_count": 103,
   "id": "eaf3e5ad",
   "metadata": {},
   "outputs": [
    {
     "name": "stdout",
     "output_type": "stream",
     "text": [
      "A raiz quadrada dos elementos a series_01\n",
      "0    1.414214\n",
      "1    2.000000\n",
      "2    2.449490\n",
      "dtype: float64\n"
     ]
    }
   ],
   "source": [
    "print('A raiz quadrada dos elementos a series_01')\n",
    "print(np.sqrt(series_01))"
   ]
  },
  {
   "cell_type": "code",
   "execution_count": null,
   "id": "b040a7f1",
   "metadata": {},
   "outputs": [],
   "source": []
  }
 ],
 "metadata": {
  "kernelspec": {
   "display_name": "Python 3 (ipykernel)",
   "language": "python",
   "name": "python3"
  },
  "language_info": {
   "codemirror_mode": {
    "name": "ipython",
    "version": 3
   },
   "file_extension": ".py",
   "mimetype": "text/x-python",
   "name": "python",
   "nbconvert_exporter": "python",
   "pygments_lexer": "ipython3",
   "version": "3.9.7"
  }
 },
 "nbformat": 4,
 "nbformat_minor": 5
}
