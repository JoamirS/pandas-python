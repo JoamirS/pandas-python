{
 "cells": [
  {
   "cell_type": "code",
   "execution_count": 8,
   "id": "df2525dc",
   "metadata": {},
   "outputs": [],
   "source": [
    "import pandas as pd"
   ]
  },
  {
   "cell_type": "code",
   "execution_count": 9,
   "id": "5c5a0f67",
   "metadata": {},
   "outputs": [],
   "source": [
    "grades_student = pd.Series([7.6, 5.0, 8.5, 9.5, 6.4])"
   ]
  },
  {
   "cell_type": "code",
   "execution_count": 10,
   "id": "d9e1999a",
   "metadata": {},
   "outputs": [],
   "source": [
    "list_enrollment = ['M02', 'M05', 'M13', 'M14', 'M19']"
   ]
  },
  {
   "cell_type": "code",
   "execution_count": 11,
   "id": "02ffbe05",
   "metadata": {},
   "outputs": [],
   "source": [
    "list_names = ['Bob', 'Dayse', 'Bill', 'Cris', 'Jimi']"
   ]
  },
  {
   "cell_type": "code",
   "execution_count": 12,
   "id": "ad12b281",
   "metadata": {},
   "outputs": [],
   "source": [
    "students = pd.Series(list_names, index=list_enrollment)"
   ]
  },
  {
   "cell_type": "code",
   "execution_count": 13,
   "id": "2277a0b0",
   "metadata": {},
   "outputs": [
    {
     "name": "stdout",
     "output_type": "stream",
     "text": [
      "0    7.6\n",
      "1    5.0\n",
      "2    8.5\n",
      "3    9.5\n",
      "4    6.4\n",
      "dtype: float64\n",
      "---------\n",
      "M02      Bob\n",
      "M05    Dayse\n",
      "M13     Bill\n",
      "M14     Cris\n",
      "M19     Jimi\n",
      "dtype: object\n"
     ]
    }
   ],
   "source": [
    "print(grades_student); print('---------'); print(students)"
   ]
  },
  {
   "cell_type": "markdown",
   "id": "71a7fbab",
   "metadata": {},
   "source": [
    "### Series criada a partir de um dicionário"
   ]
  },
  {
   "cell_type": "code",
   "execution_count": 14,
   "id": "e97cfae5",
   "metadata": {},
   "outputs": [],
   "source": [
    "dict_students = {'M02': 'Bob', 'M05': 'Dayse', 'M13': 'Bill', 'M14': 'Cris', 'M19': 'Jimi'}"
   ]
  },
  {
   "cell_type": "code",
   "execution_count": 15,
   "id": "3b280294",
   "metadata": {},
   "outputs": [],
   "source": [
    "students = pd.Series(dict_students)"
   ]
  },
  {
   "cell_type": "code",
   "execution_count": 16,
   "id": "501f3623",
   "metadata": {},
   "outputs": [
    {
     "name": "stdout",
     "output_type": "stream",
     "text": [
      "M02      Bob\n",
      "M05    Dayse\n",
      "M13     Bill\n",
      "M14     Cris\n",
      "M19     Jimi\n",
      "dtype: object\n"
     ]
    }
   ],
   "source": [
    "print(students)"
   ]
  },
  {
   "cell_type": "code",
   "execution_count": 17,
   "id": "060e2e88",
   "metadata": {},
   "outputs": [],
   "source": [
    "students.name = 'Alunos'"
   ]
  },
  {
   "cell_type": "code",
   "execution_count": 18,
   "id": "fe90a1f0",
   "metadata": {},
   "outputs": [],
   "source": [
    "students.index.name = 'Matrículas'"
   ]
  },
  {
   "cell_type": "code",
   "execution_count": 19,
   "id": "b57962cb",
   "metadata": {},
   "outputs": [
    {
     "name": "stdout",
     "output_type": "stream",
     "text": [
      "Matrículas\n",
      "M02      Bob\n",
      "M05    Dayse\n",
      "M13     Bill\n",
      "M14     Cris\n",
      "M19     Jimi\n",
      "Name: Alunos, dtype: object\n"
     ]
    }
   ],
   "source": [
    "print(students)"
   ]
  },
  {
   "cell_type": "code",
   "execution_count": null,
   "id": "4341fc1a",
   "metadata": {},
   "outputs": [],
   "source": []
  }
 ],
 "metadata": {
  "kernelspec": {
   "display_name": "Python 3 (ipykernel)",
   "language": "python",
   "name": "python3"
  },
  "language_info": {
   "codemirror_mode": {
    "name": "ipython",
    "version": 3
   },
   "file_extension": ".py",
   "mimetype": "text/x-python",
   "name": "python",
   "nbconvert_exporter": "python",
   "pygments_lexer": "ipython3",
   "version": "3.9.7"
  }
 },
 "nbformat": 4,
 "nbformat_minor": 5
}
