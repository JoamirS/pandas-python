{
 "cells": [
  {
   "cell_type": "code",
   "execution_count": 1,
   "id": "dada75a4-150b-470f-881d-6a052b6540e3",
   "metadata": {},
   "outputs": [],
   "source": [
    "import pandas as pd"
   ]
  },
  {
   "cell_type": "markdown",
   "id": "797aeb18-f52c-44b0-bfd3-dcd9b6d36a6e",
   "metadata": {},
   "source": [
    "###### Obter as propriedades de todos os atributos da base flags;\n",
    "###### Gerar uma tabela de frequência a partir um conjunto de atributos selecionados;\n",
    "###### Gerar um gráfico de barras para um conjunto de atributos selecionados;"
   ]
  },
  {
   "cell_type": "code",
   "execution_count": 3,
   "id": "22a788d9-574a-46e5-9fd9-e9b39c921e6e",
   "metadata": {},
   "outputs": [],
   "source": [
    "# Estudando a base de dados"
   ]
  },
  {
   "cell_type": "code",
   "execution_count": 4,
   "id": "ebafb96f-320a-4793-b1d2-180a09414628",
   "metadata": {},
   "outputs": [],
   "source": [
    "flags = pd.read_csv('flags.csv')"
   ]
  },
  {
   "cell_type": "code",
   "execution_count": 5,
   "id": "257b30f7-7863-483c-a238-7ef25d9508c9",
   "metadata": {},
   "outputs": [],
   "source": [
    "# Propriedades de cada atributo"
   ]
  },
  {
   "cell_type": "code",
   "execution_count": 6,
   "id": "53a91870-6ba3-4b9b-b282-03035b04ba7c",
   "metadata": {},
   "outputs": [
    {
     "name": "stdout",
     "output_type": "stream",
     "text": [
      "(1) atributo: name \t dtype: object \t nulos: False \n",
      " domínio (Primeiros elementos):  ['Afghanistan' 'Albania' 'Algeria' 'American-Samoa' 'Andorra' 'Angola'\n",
      " 'Anguilla' 'Antigua-Barbuda']\n",
      "(2) atributo: landmass \t dtype: int64 \t nulos:  False \n",
      " domínio:  [5 3 4 6 1 2]\n",
      "(3) atributo: zone \t dtype: int64 \t nulos:  False \n",
      " domínio:  [1 3 2 4]\n",
      "(4) atributo: area \t dtype: int64 \t nulos:  False \n",
      " min: 0 \t max: 22402 \t média 700.05 \t d.p.: 2170.93\n",
      "(5) atributo: population \t dtype: int64 \t nulos:  False \n",
      " min: 0 \t max: 1008 \t média 23.27 \t d.p.: 91.93\n",
      "(6) atributo: language \t dtype: int64 \t nulos:  False \n",
      " min: 1 \t max: 10 \t média 5.34 \t d.p.: 3.5\n",
      "(7) atributo: religion \t dtype: int64 \t nulos:  False \n",
      " min: 0 \t max: 7 \t média 2.19 \t d.p.: 2.06\n",
      "(8) atributo: bars \t dtype: int64 \t nulos:  False \n",
      " domínio:  [0 2 3 1 5]\n",
      "(9) atributo: stripes \t dtype: int64 \t nulos:  False \n",
      " min: 0 \t max: 14 \t média 1.55 \t d.p.: 2.33\n",
      "(10) atributo: colours \t dtype: int64 \t nulos:  False \n",
      " min: 1 \t max: 8 \t média 3.46 \t d.p.: 1.3\n",
      "(11) atributo: red \t dtype: int64 \t nulos:  False \n",
      " domínio:  [1 0]\n",
      "(12) atributo: green \t dtype: int64 \t nulos:  False \n",
      " domínio:  [1 0]\n",
      "(13) atributo: blue \t dtype: int64 \t nulos:  False \n",
      " domínio:  [0 1]\n",
      "(14) atributo: gold \t dtype: int64 \t nulos:  False \n",
      " domínio:  [1 0]\n",
      "(15) atributo: white \t dtype: int64 \t nulos:  False \n",
      " domínio:  [1 0]\n",
      "(16) atributo: black \t dtype: int64 \t nulos:  False \n",
      " domínio:  [1 0]\n",
      "(17) atributo: orange \t dtype: int64 \t nulos:  False \n",
      " domínio:  [0 1]\n",
      "(18) atributo: mainhue \t dtype: object \t nulos: False \n",
      " domínio (Primeiros elementos):  ['green' 'red' 'blue' 'gold' 'white' 'orange' 'black' 'brown']\n",
      "(19) atributo: circles \t dtype: int64 \t nulos:  False \n",
      " domínio:  [0 1 4 2]\n",
      "(20) atributo: crosses \t dtype: int64 \t nulos:  False \n",
      " domínio:  [0 1 2]\n",
      "(21) atributo: saltires \t dtype: int64 \t nulos:  False \n",
      " domínio:  [0 1]\n",
      "(22) atributo: quarters \t dtype: int64 \t nulos:  False \n",
      " domínio:  [0 1 4]\n",
      "(23) atributo: sunstars \t dtype: int64 \t nulos:  False \n",
      " min: 0 \t max: 50 \t média 1.39 \t d.p.: 4.4\n",
      "(24) atributo: crescent \t dtype: int64 \t nulos:  False \n",
      " domínio:  [0 1]\n",
      "(25) atributo: triangle \t dtype: int64 \t nulos:  False \n",
      " domínio:  [0 1]\n",
      "(26) atributo: icon \t dtype: int64 \t nulos:  False \n",
      " domínio:  [1 0]\n",
      "(27) atributo: animate \t dtype: int64 \t nulos:  False \n",
      " domínio:  [0 1]\n",
      "(28) atributo: text \t dtype: int64 \t nulos:  False \n",
      " domínio:  [0 1]\n",
      "(29) atributo: topleft \t dtype: object \t nulos:  False \n",
      " domínio:  ['black' 'red' 'green' 'blue' 'white' 'orange' 'gold']\n",
      "(30) atributo: botright \t dtype: object \t nulos: False \n",
      " domínio (Primeiros elementos):  ['green' 'red' 'white' 'black' 'blue' 'gold' 'orange' 'brown']\n"
     ]
    }
   ],
   "source": [
    "counter = 0\n",
    "for row in flags.columns:\n",
    "    counter += 1\n",
    "    attribute = flags[row]\n",
    "    attribute_dtype = attribute.dtype\n",
    "    attribute_size_domain = attribute.unique().size\n",
    "    has_null_attribute = any(attribute.isnull())\n",
    "\n",
    "    if (attribute_size_domain < 8):\n",
    "        print(\"(\"+str(counter)+\") atributo:\", row, \"\\t\",\n",
    "              \"dtype:\", attribute_dtype, \"\\t\",\n",
    "              \"nulos: \", has_null_attribute, \"\\n\",\n",
    "              \"domínio: \", attribute.unique())\n",
    "    else:\n",
    "        if (attribute_dtype == 'object'):\n",
    "            print(\"(\"+str(counter)+\") atributo:\", row, \"\\t\",\n",
    "                  \"dtype:\", attribute_dtype, \"\\t\",\n",
    "                  \"nulos:\", has_null_attribute, \"\\n\",\n",
    "                  \"domínio (Primeiros elementos): \", attribute.unique()[:8])\n",
    "        else:\n",
    "            print(\"(\"+str(counter)+\") atributo:\", row, \"\\t\",\n",
    "                  \"dtype:\", attribute_dtype, \"\\t\",\n",
    "                  \"nulos: \", has_null_attribute, \"\\n\",\n",
    "                  \"min:\", attribute.min(), \"\\t\",\n",
    "                  \"max:\", attribute.max(), \"\\t\",\n",
    "                  \"média\", round(attribute.mean(), 2), \"\\t\",\n",
    "                  \"d.p.:\", round(attribute.std(), 2))"
   ]
  },
  {
   "cell_type": "code",
   "execution_count": null,
   "id": "ae056932-bbdc-4514-b131-025fb285503a",
   "metadata": {},
   "outputs": [],
   "source": []
  }
 ],
 "metadata": {
  "kernelspec": {
   "display_name": "Python 3 (ipykernel)",
   "language": "python",
   "name": "python3"
  },
  "language_info": {
   "codemirror_mode": {
    "name": "ipython",
    "version": 3
   },
   "file_extension": ".py",
   "mimetype": "text/x-python",
   "name": "python",
   "nbconvert_exporter": "python",
   "pygments_lexer": "ipython3",
   "version": "3.11.7"
  }
 },
 "nbformat": 4,
 "nbformat_minor": 5
}
