{
 "cells": [
  {
   "cell_type": "markdown",
   "id": "d38132ad-b4a0-410e-a2f7-ca3840f9bb78",
   "metadata": {},
   "source": [
    "# Frequency table"
   ]
  },
  {
   "cell_type": "markdown",
   "id": "d8056a1b-0c44-45e9-a860-9eb0b6416fec",
   "metadata": {},
   "source": [
    "## Simple absolute frequency and Simple relative frequency"
   ]
  },
  {
   "cell_type": "code",
   "execution_count": 3,
   "id": "98c09bc3-1bfc-471d-97d4-8cae44601c2e",
   "metadata": {},
   "outputs": [],
   "source": [
    "import pandas as pd"
   ]
  },
  {
   "cell_type": "code",
   "execution_count": 4,
   "id": "c662151b-586e-4dfa-9c19-d9f893727573",
   "metadata": {},
   "outputs": [],
   "source": [
    "list_to_frequency = [10, 10, 10, 10, 30, 30, 30, 30, 30, 30, 30, 30, 50, 50, 50, 50, 70, 70, 70, 90]"
   ]
  },
  {
   "cell_type": "code",
   "execution_count": 5,
   "id": "b4783b20-e7a2-4997-953d-329c6fc60588",
   "metadata": {},
   "outputs": [],
   "source": [
    "dataframe_frequency = pd.Series(list_to_frequency)"
   ]
  },
  {
   "cell_type": "code",
   "execution_count": 6,
   "id": "c0453769-6a70-4638-98c7-c42af723288d",
   "metadata": {},
   "outputs": [
    {
     "data": {
      "text/plain": [
       "0     10\n",
       "1     10\n",
       "2     10\n",
       "3     10\n",
       "4     30\n",
       "5     30\n",
       "6     30\n",
       "7     30\n",
       "8     30\n",
       "9     30\n",
       "10    30\n",
       "11    30\n",
       "12    50\n",
       "13    50\n",
       "14    50\n",
       "15    50\n",
       "16    70\n",
       "17    70\n",
       "18    70\n",
       "19    90\n",
       "dtype: int64"
      ]
     },
     "execution_count": 6,
     "metadata": {},
     "output_type": "execute_result"
    }
   ],
   "source": [
    "dataframe_frequency"
   ]
  },
  {
   "cell_type": "code",
   "execution_count": 7,
   "id": "22b4b570-34df-4caa-97a0-aa57367f3065",
   "metadata": {},
   "outputs": [
    {
     "name": "stdout",
     "output_type": "stream",
     "text": [
      "(20,)\n"
     ]
    }
   ],
   "source": [
    "print(dataframe_frequency.shape)"
   ]
  },
  {
   "cell_type": "markdown",
   "id": "7924228f-d322-4197-8f00-8d963f69ad69",
   "metadata": {},
   "source": [
    "#### Simple absolute frequency of Series"
   ]
  },
  {
   "cell_type": "code",
   "execution_count": 9,
   "id": "3d936518-9ecf-4c5b-8e4d-2cd1eed3683c",
   "metadata": {},
   "outputs": [
    {
     "name": "stdout",
     "output_type": "stream",
     "text": [
      "30    8\n",
      "10    4\n",
      "50    4\n",
      "70    3\n",
      "90    1\n",
      "Name: count, dtype: int64\n"
     ]
    }
   ],
   "source": [
    "print(dataframe_frequency.value_counts())"
   ]
  },
  {
   "cell_type": "markdown",
   "id": "b2ac7558-d595-48ba-893a-4efcabf69e22",
   "metadata": {},
   "source": [
    "#### Simple relative frequency of Series"
   ]
  },
  {
   "cell_type": "code",
   "execution_count": 11,
   "id": "d17b3b5d-1bbb-4577-8128-2c4cac43a1e2",
   "metadata": {},
   "outputs": [],
   "source": [
    "# select the label vector to perfom the calculation"
   ]
  },
  {
   "cell_type": "code",
   "execution_count": 12,
   "id": "1cc8e44a-010f-426f-a310-585492dbee40",
   "metadata": {},
   "outputs": [],
   "source": [
    "label_vector_simple_absolute_frenquency = dataframe_frequency.value_counts().index"
   ]
  },
  {
   "cell_type": "code",
   "execution_count": 13,
   "id": "07c1a96b-d1b8-4778-98df-a7dd8582b7e0",
   "metadata": {},
   "outputs": [
    {
     "name": "stdout",
     "output_type": "stream",
     "text": [
      "Index([30, 10, 50, 70, 90], dtype='int64')\n"
     ]
    }
   ],
   "source": [
    "print(label_vector_simple_absolute_frenquency)"
   ]
  },
  {
   "cell_type": "code",
   "execution_count": 14,
   "id": "ef13a6d6-3e7c-4db1-881e-949e4bbb9c7b",
   "metadata": {},
   "outputs": [],
   "source": [
    "values_vector_frequency_simple_absolute_frequency = dataframe_frequency.value_counts().values"
   ]
  },
  {
   "cell_type": "code",
   "execution_count": 15,
   "id": "94b1c341-33df-4498-afa3-abd5ffcc7d94",
   "metadata": {},
   "outputs": [
    {
     "name": "stdout",
     "output_type": "stream",
     "text": [
      "[8 4 4 3 1]\n"
     ]
    }
   ],
   "source": [
    "print(values_vector_frequency_simple_absolute_frequency)"
   ]
  },
  {
   "cell_type": "code",
   "execution_count": 16,
   "id": "cf59cfdb-cca0-4860-8f27-6699853aa206",
   "metadata": {},
   "outputs": [],
   "source": [
    "DIVISOR_IS_THE_SIZE_DATAFRAME_FREQUENCY = dataframe_frequency.size"
   ]
  },
  {
   "cell_type": "code",
   "execution_count": 17,
   "id": "ac8e0248-b147-485d-8e0e-39cc37504257",
   "metadata": {},
   "outputs": [],
   "source": [
    "simple_relative_frequency_column = []"
   ]
  },
  {
   "cell_type": "code",
   "execution_count": 18,
   "id": "7427caf6-1a8e-4376-bbb4-1d47037ae6c7",
   "metadata": {},
   "outputs": [
    {
     "name": "stdout",
     "output_type": "stream",
     "text": [
      "0.4\n",
      "0.2\n",
      "0.2\n",
      "0.15\n",
      "0.05\n"
     ]
    }
   ],
   "source": [
    "for each_value_frequency in values_vector_frequency_simple_absolute_frequency:\n",
    "    quocient_result_each_value = each_value_frequency / DIVISOR_IS_THE_SIZE_DATAFRAME_FREQUENCY\n",
    "    simple_relative_frequency_column.append(quocient_result_each_value)\n",
    "    print(quocient_result_each_value)"
   ]
  },
  {
   "cell_type": "code",
   "execution_count": 19,
   "id": "a80b8eef-0e0f-44a3-a48c-a56fa2baaa4f",
   "metadata": {},
   "outputs": [],
   "source": [
    "all_data_kind_frequency = pd.DataFrame()"
   ]
  },
  {
   "cell_type": "code",
   "execution_count": 20,
   "id": "d54d9ef5-6cb8-48f8-ba42-12dcd6193ff3",
   "metadata": {},
   "outputs": [],
   "source": [
    "all_data_kind_frequency['Values'] = label_vector_simple_absolute_frenquency"
   ]
  },
  {
   "cell_type": "code",
   "execution_count": 21,
   "id": "ba494c45-ef5a-48e1-a3dc-5a29f8e85bcd",
   "metadata": {},
   "outputs": [],
   "source": [
    "all_data_kind_frequency['Frequency Simple Absolute'] = values_vector_frequency_simple_absolute_frequency"
   ]
  },
  {
   "cell_type": "code",
   "execution_count": 22,
   "id": "d6e16d62-6c53-4503-962c-eecb13b3563e",
   "metadata": {},
   "outputs": [],
   "source": [
    "all_data_kind_frequency['Simple Relative Frequency'] = simple_relative_frequency_column"
   ]
  },
  {
   "cell_type": "code",
   "execution_count": 23,
   "id": "9231e0a4-725b-4969-8bc5-c402f0b2b92d",
   "metadata": {},
   "outputs": [
    {
     "data": {
      "text/html": [
       "<div>\n",
       "<style scoped>\n",
       "    .dataframe tbody tr th:only-of-type {\n",
       "        vertical-align: middle;\n",
       "    }\n",
       "\n",
       "    .dataframe tbody tr th {\n",
       "        vertical-align: top;\n",
       "    }\n",
       "\n",
       "    .dataframe thead th {\n",
       "        text-align: right;\n",
       "    }\n",
       "</style>\n",
       "<table border=\"1\" class=\"dataframe\">\n",
       "  <thead>\n",
       "    <tr style=\"text-align: right;\">\n",
       "      <th></th>\n",
       "      <th>Values</th>\n",
       "      <th>Frequency Simple Absolute</th>\n",
       "      <th>Simple Relative Frequency</th>\n",
       "    </tr>\n",
       "  </thead>\n",
       "  <tbody>\n",
       "    <tr>\n",
       "      <th>0</th>\n",
       "      <td>30</td>\n",
       "      <td>8</td>\n",
       "      <td>0.40</td>\n",
       "    </tr>\n",
       "    <tr>\n",
       "      <th>1</th>\n",
       "      <td>10</td>\n",
       "      <td>4</td>\n",
       "      <td>0.20</td>\n",
       "    </tr>\n",
       "    <tr>\n",
       "      <th>2</th>\n",
       "      <td>50</td>\n",
       "      <td>4</td>\n",
       "      <td>0.20</td>\n",
       "    </tr>\n",
       "    <tr>\n",
       "      <th>3</th>\n",
       "      <td>70</td>\n",
       "      <td>3</td>\n",
       "      <td>0.15</td>\n",
       "    </tr>\n",
       "    <tr>\n",
       "      <th>4</th>\n",
       "      <td>90</td>\n",
       "      <td>1</td>\n",
       "      <td>0.05</td>\n",
       "    </tr>\n",
       "  </tbody>\n",
       "</table>\n",
       "</div>"
      ],
      "text/plain": [
       "   Values  Frequency Simple Absolute  Simple Relative Frequency\n",
       "0      30                          8                       0.40\n",
       "1      10                          4                       0.20\n",
       "2      50                          4                       0.20\n",
       "3      70                          3                       0.15\n",
       "4      90                          1                       0.05"
      ]
     },
     "execution_count": 23,
     "metadata": {},
     "output_type": "execute_result"
    }
   ],
   "source": [
    "all_data_kind_frequency"
   ]
  },
  {
   "cell_type": "markdown",
   "id": "99876f8d-b067-45ba-8b28-e54c90607686",
   "metadata": {},
   "source": [
    "#### Cumulative absolute frequency"
   ]
  },
  {
   "cell_type": "code",
   "execution_count": 25,
   "id": "70c13c4e-8c70-4dca-b25e-186a22d24f88",
   "metadata": {},
   "outputs": [
    {
     "name": "stdout",
     "output_type": "stream",
     "text": [
      "8\n",
      "12\n",
      "16\n",
      "19\n",
      "20\n"
     ]
    }
   ],
   "source": [
    "total_frequency_absolute = 0\n",
    "cumulative_absolute_frequency_list = []\n",
    "\n",
    "for each_value_frequency in values_vector_frequency_simple_absolute_frequency:\n",
    "    total_frequency_absolute += each_value_frequency\n",
    "    cumulative_absolute_frequency_list.append(total_frequency_absolute)\n",
    "    print(total_frequency_absolute)"
   ]
  },
  {
   "cell_type": "code",
   "execution_count": 26,
   "id": "18f451eb-4a16-4476-a914-5103db1fcfe5",
   "metadata": {},
   "outputs": [],
   "source": [
    "all_data_kind_frequency['Cumulative Absolute Frequency'] = cumulative_absolute_frequency_list"
   ]
  },
  {
   "cell_type": "code",
   "execution_count": 27,
   "id": "22f1fc0f-644d-41c8-a987-78a547262d10",
   "metadata": {},
   "outputs": [
    {
     "data": {
      "text/html": [
       "<div>\n",
       "<style scoped>\n",
       "    .dataframe tbody tr th:only-of-type {\n",
       "        vertical-align: middle;\n",
       "    }\n",
       "\n",
       "    .dataframe tbody tr th {\n",
       "        vertical-align: top;\n",
       "    }\n",
       "\n",
       "    .dataframe thead th {\n",
       "        text-align: right;\n",
       "    }\n",
       "</style>\n",
       "<table border=\"1\" class=\"dataframe\">\n",
       "  <thead>\n",
       "    <tr style=\"text-align: right;\">\n",
       "      <th></th>\n",
       "      <th>Values</th>\n",
       "      <th>Frequency Simple Absolute</th>\n",
       "      <th>Simple Relative Frequency</th>\n",
       "      <th>Cumulative Absolute Frequency</th>\n",
       "    </tr>\n",
       "  </thead>\n",
       "  <tbody>\n",
       "    <tr>\n",
       "      <th>0</th>\n",
       "      <td>30</td>\n",
       "      <td>8</td>\n",
       "      <td>0.40</td>\n",
       "      <td>8</td>\n",
       "    </tr>\n",
       "    <tr>\n",
       "      <th>1</th>\n",
       "      <td>10</td>\n",
       "      <td>4</td>\n",
       "      <td>0.20</td>\n",
       "      <td>12</td>\n",
       "    </tr>\n",
       "    <tr>\n",
       "      <th>2</th>\n",
       "      <td>50</td>\n",
       "      <td>4</td>\n",
       "      <td>0.20</td>\n",
       "      <td>16</td>\n",
       "    </tr>\n",
       "    <tr>\n",
       "      <th>3</th>\n",
       "      <td>70</td>\n",
       "      <td>3</td>\n",
       "      <td>0.15</td>\n",
       "      <td>19</td>\n",
       "    </tr>\n",
       "    <tr>\n",
       "      <th>4</th>\n",
       "      <td>90</td>\n",
       "      <td>1</td>\n",
       "      <td>0.05</td>\n",
       "      <td>20</td>\n",
       "    </tr>\n",
       "  </tbody>\n",
       "</table>\n",
       "</div>"
      ],
      "text/plain": [
       "   Values  Frequency Simple Absolute  Simple Relative Frequency  \\\n",
       "0      30                          8                       0.40   \n",
       "1      10                          4                       0.20   \n",
       "2      50                          4                       0.20   \n",
       "3      70                          3                       0.15   \n",
       "4      90                          1                       0.05   \n",
       "\n",
       "   Cumulative Absolute Frequency  \n",
       "0                              8  \n",
       "1                             12  \n",
       "2                             16  \n",
       "3                             19  \n",
       "4                             20  "
      ]
     },
     "execution_count": 27,
     "metadata": {},
     "output_type": "execute_result"
    }
   ],
   "source": [
    "all_data_kind_frequency"
   ]
  },
  {
   "cell_type": "markdown",
   "id": "bcc1ad35-a6ca-4f09-bdd1-88597a4696e6",
   "metadata": {},
   "source": [
    "#### Cumulative relative frequency"
   ]
  },
  {
   "cell_type": "code",
   "execution_count": 29,
   "id": "7715d238-9784-4081-9cfd-d65bfe6a423c",
   "metadata": {},
   "outputs": [
    {
     "name": "stdout",
     "output_type": "stream",
     "text": [
      "0.4\n",
      "0.6000000000000001\n",
      "0.8\n",
      "0.9500000000000001\n",
      "1.0\n"
     ]
    }
   ],
   "source": [
    "total_frequency_relative_int = 0\n",
    "total_frequency_relative_list = []\n",
    "\n",
    "for each_value_frequecy in values_vector_frequency_simple_absolute_frequency:\n",
    "    total_frequency_relative_int += each_value_frequecy / DIVISOR_IS_THE_SIZE_DATAFRAME_FREQUENCY\n",
    "    total_frequency_relative_list.append(total_frequency_relative_int)\n",
    "    print(total_frequency_relative_int)"
   ]
  },
  {
   "cell_type": "code",
   "execution_count": 30,
   "id": "899cc9e8-1bef-44b3-a9ad-832370e359ee",
   "metadata": {},
   "outputs": [],
   "source": [
    "all_data_kind_frequency['Cumulative relative frequency'] = total_frequency_relative_list"
   ]
  },
  {
   "cell_type": "code",
   "execution_count": 31,
   "id": "2992f390-e182-473e-8cfe-01e839b08667",
   "metadata": {},
   "outputs": [
    {
     "data": {
      "text/html": [
       "<div>\n",
       "<style scoped>\n",
       "    .dataframe tbody tr th:only-of-type {\n",
       "        vertical-align: middle;\n",
       "    }\n",
       "\n",
       "    .dataframe tbody tr th {\n",
       "        vertical-align: top;\n",
       "    }\n",
       "\n",
       "    .dataframe thead th {\n",
       "        text-align: right;\n",
       "    }\n",
       "</style>\n",
       "<table border=\"1\" class=\"dataframe\">\n",
       "  <thead>\n",
       "    <tr style=\"text-align: right;\">\n",
       "      <th></th>\n",
       "      <th>Values</th>\n",
       "      <th>Frequency Simple Absolute</th>\n",
       "      <th>Simple Relative Frequency</th>\n",
       "      <th>Cumulative Absolute Frequency</th>\n",
       "      <th>Cumulative relative frequency</th>\n",
       "    </tr>\n",
       "  </thead>\n",
       "  <tbody>\n",
       "    <tr>\n",
       "      <th>0</th>\n",
       "      <td>30</td>\n",
       "      <td>8</td>\n",
       "      <td>0.40</td>\n",
       "      <td>8</td>\n",
       "      <td>0.40</td>\n",
       "    </tr>\n",
       "    <tr>\n",
       "      <th>1</th>\n",
       "      <td>10</td>\n",
       "      <td>4</td>\n",
       "      <td>0.20</td>\n",
       "      <td>12</td>\n",
       "      <td>0.60</td>\n",
       "    </tr>\n",
       "    <tr>\n",
       "      <th>2</th>\n",
       "      <td>50</td>\n",
       "      <td>4</td>\n",
       "      <td>0.20</td>\n",
       "      <td>16</td>\n",
       "      <td>0.80</td>\n",
       "    </tr>\n",
       "    <tr>\n",
       "      <th>3</th>\n",
       "      <td>70</td>\n",
       "      <td>3</td>\n",
       "      <td>0.15</td>\n",
       "      <td>19</td>\n",
       "      <td>0.95</td>\n",
       "    </tr>\n",
       "    <tr>\n",
       "      <th>4</th>\n",
       "      <td>90</td>\n",
       "      <td>1</td>\n",
       "      <td>0.05</td>\n",
       "      <td>20</td>\n",
       "      <td>1.00</td>\n",
       "    </tr>\n",
       "  </tbody>\n",
       "</table>\n",
       "</div>"
      ],
      "text/plain": [
       "   Values  Frequency Simple Absolute  Simple Relative Frequency  \\\n",
       "0      30                          8                       0.40   \n",
       "1      10                          4                       0.20   \n",
       "2      50                          4                       0.20   \n",
       "3      70                          3                       0.15   \n",
       "4      90                          1                       0.05   \n",
       "\n",
       "   Cumulative Absolute Frequency  Cumulative relative frequency  \n",
       "0                              8                           0.40  \n",
       "1                             12                           0.60  \n",
       "2                             16                           0.80  \n",
       "3                             19                           0.95  \n",
       "4                             20                           1.00  "
      ]
     },
     "execution_count": 31,
     "metadata": {},
     "output_type": "execute_result"
    }
   ],
   "source": [
    "all_data_kind_frequency"
   ]
  },
  {
   "cell_type": "markdown",
   "id": "3f9d9b80-f8a7-4202-a52a-c14f52677b5c",
   "metadata": {},
   "source": [
    "#### Separating Measures"
   ]
  },
  {
   "cell_type": "code",
   "execution_count": 33,
   "id": "e4ea527f-6ca7-434d-85d2-85bc2b17ad4f",
   "metadata": {},
   "outputs": [],
   "source": [
    "first_quartile = dataframe_frequency.quantile(0.25)"
   ]
  },
  {
   "cell_type": "code",
   "execution_count": 61,
   "id": "57fcc513-25c8-4988-936d-4d19a7b7ebb7",
   "metadata": {},
   "outputs": [],
   "source": [
    "second_quartile = dataframe_frequency.quantile(0.5) # Is the median"
   ]
  },
  {
   "cell_type": "code",
   "execution_count": 63,
   "id": "94124cbf-902b-427d-939c-65b6b84fbfcc",
   "metadata": {},
   "outputs": [],
   "source": [
    "third_quartile = dataframe_frequency.quantile(0.75)"
   ]
  },
  {
   "cell_type": "code",
   "execution_count": 67,
   "id": "56da921a-2656-4af1-85c1-51d3aa1c0870",
   "metadata": {},
   "outputs": [
    {
     "name": "stdout",
     "output_type": "stream",
     "text": [
      "O primeiro quartil é 30.0\n",
      "O segundo quartil é 30.0\n",
      "O terceiro quartil é 50.0\n"
     ]
    }
   ],
   "source": [
    "print(f'O primeiro quartil é {first_quartile}')\n",
    "print(f'O segundo quartil é {second_quartile}')\n",
    "print(f'O terceiro quartil é {third_quartile}')"
   ]
  },
  {
   "cell_type": "markdown",
   "id": "6da67bdf-dfb4-45ab-a823-ea4a49d339be",
   "metadata": {},
   "source": [
    "#### Coefficient of Asymmetry"
   ]
  },
  {
   "cell_type": "code",
   "execution_count": 70,
   "id": "e6fd2b48-2016-4e80-8fb8-64564b4d6ea1",
   "metadata": {},
   "outputs": [],
   "source": [
    "# skewness coefficient"
   ]
  },
  {
   "cell_type": "code",
   "execution_count": 72,
   "id": "e7e8c8f4-6eca-4857-be4b-477d5572d5c5",
   "metadata": {},
   "outputs": [],
   "source": [
    "import matplotlib.pyplot as plt\n",
    "import seaborn as sns"
   ]
  },
  {
   "cell_type": "code",
   "execution_count": 74,
   "id": "cc362283-0e0b-4fec-90c3-30d630c984ab",
   "metadata": {},
   "outputs": [],
   "source": [
    "skewness_coefficient = dataframe_frequency.skew()"
   ]
  },
  {
   "cell_type": "code",
   "execution_count": 78,
   "id": "af888282-cfef-475e-8039-2dae6fa97888",
   "metadata": {},
   "outputs": [
    {
     "data": {
      "text/plain": [
       "<Figure size 1000x600 with 0 Axes>"
      ]
     },
     "execution_count": 78,
     "metadata": {},
     "output_type": "execute_result"
    },
    {
     "data": {
      "text/plain": [
       "<Figure size 1000x600 with 0 Axes>"
      ]
     },
     "metadata": {},
     "output_type": "display_data"
    }
   ],
   "source": [
    "# Size of graphic\n",
    "plt.figure(figsize=(10, 6))"
   ]
  },
  {
   "cell_type": "code",
   "execution_count": 90,
   "id": "a678ea04-ed0a-4e3e-8204-fbb346121d6d",
   "metadata": {},
   "outputs": [
    {
     "name": "stderr",
     "output_type": "stream",
     "text": [
      "J:\\Anaconda\\Lib\\site-packages\\seaborn\\_oldcore.py:1119: FutureWarning: use_inf_as_na option is deprecated and will be removed in a future version. Convert inf values to NaN before operating instead.\n",
      "  with pd.option_context('mode.use_inf_as_na', True):\n"
     ]
    },
    {
     "data": {
      "text/plain": [
       "<Axes: ylabel='Count'>"
      ]
     },
     "execution_count": 90,
     "metadata": {},
     "output_type": "execute_result"
    },
    {
     "data": {
      "image/png": "[encoded data removed]",
      "text/plain": [
       "<Figure size 640x480 with 1 Axes>"
      ]
     },
     "metadata": {},
     "output_type": "display_data"
    }
   ],
   "source": [
    "sns.histplot(dataframe_frequency, kde=True, color='skyblue', bins=10, label='Histograma', edgecolor='black')"
   ]
  },
  {
   "cell_type": "code",
   "execution_count": 92,
   "id": "d461ae6a-f159-4297-b93d-edcaefea44e1",
   "metadata": {},
   "outputs": [],
   "source": [
    "# Pearson coefficient"
   ]
  },
  {
   "cell_type": "code",
   "execution_count": 94,
   "id": "c692e80f-ec67-4786-b066-102565fe5ad8",
   "metadata": {},
   "outputs": [],
   "source": [
    "import numpy"
   ]
  },
  {
   "cell_type": "code",
   "execution_count": 96,
   "id": "77db588c-efcf-456b-ab61-3b175633aa3d",
   "metadata": {},
   "outputs": [],
   "source": [
    "average_dataframe_frequency = dataframe_frequency.mean()\n",
    "median_dataframe_frequency = dataframe_frequency.median()"
   ]
  },
  {
   "cell_type": "code",
   "execution_count": 100,
   "id": "eb894e62-a461-458c-a0c0-52bde9eab392",
   "metadata": {},
   "outputs": [
    {
     "name": "stderr",
     "output_type": "stream",
     "text": [
      "J:\\Anaconda\\Lib\\site-packages\\seaborn\\_oldcore.py:1119: FutureWarning: use_inf_as_na option is deprecated and will be removed in a future version. Convert inf values to NaN before operating instead.\n",
      "  with pd.option_context('mode.use_inf_as_na', True):\n"
     ]
    },
    {
     "data": {
      "image/png": "[encoded data removed]",
      "text/plain": [
       "<Figure size 1000x600 with 1 Axes>"
      ]
     },
     "metadata": {},
     "output_type": "display_data"
    }
   ],
   "source": [
    "plt.figure(figsize=(10, 6))\n",
    "sns.histplot(dataframe_frequency, kde=True, color='skyblue', bins=10, label='histograma', edgecolor='black')\n",
    "# add average line\n",
    "plt.axvline(average_dataframe_frequency, color='red', linestyle='--', linewidth=2, label=f'Média ({average_dataframe_frequency:.2f})')\n",
    "# add median line\n",
    "plt.axvline(median_dataframe_frequency, color='green', linestyle='-', linewidth=2, label=f'Mediana ({median_dataframe_frequency:.2f})')\n",
    "plt.title('Visualização da Assimetria - Média Vs Mediana', fontsize=15)\n",
    "plt.xlabel('Valores', fontsize=12)\n",
    "plt.ylabel('Frequência', fontsize=12)\n",
    "plt.show()"
   ]
  },
  {
   "cell_type": "code",
   "execution_count": null,
   "id": "558dca42-a324-4a68-ba9b-74016ed86bd1",
   "metadata": {},
   "outputs": [],
   "source": []
  }
 ],
 "metadata": {
  "kernelspec": {
   "display_name": "Python 3 (ipykernel)",
   "language": "python",
   "name": "python3"
  },
  "language_info": {
   "codemirror_mode": {
    "name": "ipython",
    "version": 3
   },
   "file_extension": ".py",
   "mimetype": "text/x-python",
   "name": "python",
   "nbconvert_exporter": "python",
   "pygments_lexer": "ipython3",
   "version": "3.11.7"
  }
 },
 "nbformat": 4,
 "nbformat_minor": 5
}
