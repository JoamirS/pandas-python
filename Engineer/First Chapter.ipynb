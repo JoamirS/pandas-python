{
 "cells": [
  {
   "cell_type": "code",
   "execution_count": 1,
   "id": "ba667021-5129-4abf-9d8b-950faa5a6356",
   "metadata": {},
   "outputs": [],
   "source": [
    "# Variáveis: Definição de tipos\n",
    "# Declarando 4 variáveis e atribuindo valores a elas\n",
    "a_string = \"Student\"\n",
    "an_interger = 7\n",
    "a_float = 7.584\n",
    "a_boolean = True"
   ]
  },
  {
   "cell_type": "code",
   "execution_count": 2,
   "id": "18dfaef9-b1ed-4fa7-bddc-f9a77dd829b9",
   "metadata": {},
   "outputs": [],
   "source": [
    "# Print a valor and the type of variable"
   ]
  },
  {
   "cell_type": "code",
   "execution_count": 3,
   "id": "cdb5313d-da2b-490b-bc93-d166ee8efba3",
   "metadata": {},
   "outputs": [
    {
     "name": "stdout",
     "output_type": "stream",
     "text": [
      "7.584\n",
      "<class 'float'>\n"
     ]
    }
   ],
   "source": [
    "print(a_float)\n",
    "print(type(a_float))"
   ]
  },
  {
   "cell_type": "code",
   "execution_count": 4,
   "id": "652c9a25-d6cc-4e4a-926c-bb1e9bb9ad3c",
   "metadata": {},
   "outputs": [],
   "source": [
    "# Casting: Converting a variable kind float for string"
   ]
  },
  {
   "cell_type": "code",
   "execution_count": 5,
   "id": "fc2b0f55-8515-452a-b04a-471d288eb899",
   "metadata": {},
   "outputs": [
    {
     "name": "stdout",
     "output_type": "stream",
     "text": [
      "7\n"
     ]
    }
   ],
   "source": [
    "print(int(a_float))"
   ]
  },
  {
   "cell_type": "code",
   "execution_count": 6,
   "id": "5e5468fe-19e9-4582-8e43-27e2e7d0f1ae",
   "metadata": {},
   "outputs": [
    {
     "name": "stdout",
     "output_type": "stream",
     "text": [
      "7.584\n"
     ]
    }
   ],
   "source": [
    "print(str(a_float))"
   ]
  },
  {
   "cell_type": "markdown",
   "id": "d94c3a19-fdb6-4c0c-bf23-21a45dd01bd4",
   "metadata": {},
   "source": [
    "### Arithmetic Operations"
   ]
  },
  {
   "cell_type": "code",
   "execution_count": 8,
   "id": "d63802c7-55b5-4703-a484-2d65ce248769",
   "metadata": {},
   "outputs": [],
   "source": [
    "# Sum, subtraction, multiplication, division"
   ]
  },
  {
   "cell_type": "code",
   "execution_count": 9,
   "id": "3aeeebc9-8f12-40cf-982d-07245f6f1c81",
   "metadata": {},
   "outputs": [],
   "source": [
    "result_1 = 7 + 5\n",
    "result_2 = an_interger - result_1\n",
    "result_3 = result_2 * 3\n",
    "result_4 = result_3 / 4"
   ]
  },
  {
   "cell_type": "code",
   "execution_count": 10,
   "id": "b5113b63-c07b-420e-a878-726d1e45fe67",
   "metadata": {},
   "outputs": [],
   "source": [
    "# Printing the results concatenating a string with numeric result"
   ]
  },
  {
   "cell_type": "code",
   "execution_count": 11,
   "id": "c9e43043-7010-487d-8adc-ddd28e02aa45",
   "metadata": {},
   "outputs": [
    {
     "name": "stdout",
     "output_type": "stream",
     "text": [
      "Result of sum = 12\n"
     ]
    }
   ],
   "source": [
    "print(\"Result of sum = {}\".format(str(result_1)))"
   ]
  },
  {
   "cell_type": "code",
   "execution_count": 12,
   "id": "a59a8fcf-4fa2-4f89-9398-8874e93b555f",
   "metadata": {},
   "outputs": [
    {
     "name": "stdout",
     "output_type": "stream",
     "text": [
      "Result of subtration = -5\n"
     ]
    }
   ],
   "source": [
    "print(\"Result of subtration = {}\".format(str(result_2)))"
   ]
  },
  {
   "cell_type": "code",
   "execution_count": 13,
   "id": "feebfe8c-b791-4f10-985f-59bc3f304ef7",
   "metadata": {},
   "outputs": [
    {
     "name": "stdout",
     "output_type": "stream",
     "text": [
      "Result of multiplication = -15\n"
     ]
    }
   ],
   "source": [
    "print(\"Result of multiplication = {}\".format(str(result_3)))"
   ]
  },
  {
   "cell_type": "code",
   "execution_count": 14,
   "id": "a295332c-5a46-4c4b-927b-7a87817cefb7",
   "metadata": {},
   "outputs": [
    {
     "name": "stdout",
     "output_type": "stream",
     "text": [
      "Result of division = -3.75\n"
     ]
    }
   ],
   "source": [
    "print(\"Result of division = {}\".format(str(result_4)))"
   ]
  },
  {
   "cell_type": "code",
   "execution_count": 15,
   "id": "596109c2-eca3-402f-905e-b6afcbeede44",
   "metadata": {},
   "outputs": [],
   "source": [
    "# Increment and decrement"
   ]
  },
  {
   "cell_type": "code",
   "execution_count": 16,
   "id": "4918eb95-1a55-4449-ab9c-4aca3ba80707",
   "metadata": {},
   "outputs": [
    {
     "name": "stdout",
     "output_type": "stream",
     "text": [
      "Result: 4\n"
     ]
    }
   ],
   "source": [
    "an_interger  -= 3\n",
    "print(\"Result: \" + str(an_interger))"
   ]
  },
  {
   "cell_type": "code",
   "execution_count": 17,
   "id": "f80838a6-d463-4ebd-9bf1-173ba0df5d41",
   "metadata": {},
   "outputs": [
    {
     "name": "stdout",
     "output_type": "stream",
     "text": [
      "Resultado é 9\n"
     ]
    }
   ],
   "source": [
    "an_interger += 5\n",
    "print(f\"Resultado é {str(an_interger)}\")"
   ]
  },
  {
   "cell_type": "code",
   "execution_count": 18,
   "id": "7ff88f8d-9deb-48c7-967b-819b326067ed",
   "metadata": {},
   "outputs": [],
   "source": [
    "# Equality Operators"
   ]
  },
  {
   "cell_type": "code",
   "execution_count": 19,
   "id": "7465ccce-0d19-4638-877a-c8b570db9a9a",
   "metadata": {},
   "outputs": [
    {
     "name": "stdout",
     "output_type": "stream",
     "text": [
      "True\n",
      "True\n"
     ]
    }
   ],
   "source": [
    "variable_01 = 1\n",
    "variable_02 = 2\n",
    "variable_03 = 3\n",
    "\n",
    "print(1 == variable_01)\n",
    "print(2 == variable_02)\n",
    "\n",
    "equality_variable = variable_01 == variable_02\n",
    "not_equality = variable_01 != variable_02"
   ]
  },
  {
   "cell_type": "code",
   "execution_count": 20,
   "id": "8702fe3e-a6ad-4d6d-8a42-d7677b7fd1d9",
   "metadata": {},
   "outputs": [
    {
     "name": "stdout",
     "output_type": "stream",
     "text": [
      "Is one equal to two? False\n"
     ]
    }
   ],
   "source": [
    "print(f\"Is one equal to two? {str(equality_variable)}\")"
   ]
  },
  {
   "cell_type": "code",
   "execution_count": 21,
   "id": "3728150d-9a71-439c-b990-7b4ff42a44ba",
   "metadata": {},
   "outputs": [
    {
     "name": "stdout",
     "output_type": "stream",
     "text": [
      "Is one different from two? True\n"
     ]
    }
   ],
   "source": [
    "print(f'Is one different from two? {str(not_equality)}')"
   ]
  },
  {
   "cell_type": "code",
   "execution_count": 22,
   "id": "2ab201cb-d5b7-40e6-a9d4-f816c6c01dda",
   "metadata": {},
   "outputs": [],
   "source": [
    "# Comparison operators"
   ]
  },
  {
   "cell_type": "code",
   "execution_count": 23,
   "id": "2d4eaffd-6abe-4a3a-9eb7-84b03957634f",
   "metadata": {},
   "outputs": [
    {
     "name": "stdout",
     "output_type": "stream",
     "text": [
      "Is one bigger than two? False\n"
     ]
    }
   ],
   "source": [
    "print(f\"Is one bigger than two? {str(variable_01 > variable_02)}\")"
   ]
  },
  {
   "cell_type": "code",
   "execution_count": 24,
   "id": "25b4dcd0-2cdc-4691-90be-2da75e3809a5",
   "metadata": {},
   "outputs": [
    {
     "name": "stdout",
     "output_type": "stream",
     "text": [
      "Is one less than two? True\n"
     ]
    }
   ],
   "source": [
    "print(f\"Is one less than two? {str(variable_01 < variable_02)}\")"
   ]
  },
  {
   "cell_type": "code",
   "execution_count": 25,
   "id": "caad0da1-3415-4784-ac74-c1f426f8fb75",
   "metadata": {},
   "outputs": [],
   "source": [
    "# Logical Operators"
   ]
  },
  {
   "cell_type": "code",
   "execution_count": 26,
   "id": "f2be1add-0ae3-4361-84de-b377ef168e4c",
   "metadata": {},
   "outputs": [
    {
     "name": "stdout",
     "output_type": "stream",
     "text": [
      "True\n",
      "False\n"
     ]
    }
   ],
   "source": [
    "print((2 > 1) and (3 < 5))\n",
    "print((2 > 1) and (1 > 3))"
   ]
  },
  {
   "cell_type": "code",
   "execution_count": 27,
   "id": "b5e77c66-023b-4e8f-9fd2-c1782acd0e72",
   "metadata": {},
   "outputs": [
    {
     "name": "stdout",
     "output_type": "stream",
     "text": [
      "True\n",
      "False\n",
      "True\n"
     ]
    }
   ],
   "source": [
    "print((3 < 5) or (2 > 1))\n",
    "print((0 > 1) or (0 == -1))\n",
    "print((0 < 1) or (0 == -1))"
   ]
  },
  {
   "cell_type": "code",
   "execution_count": 28,
   "id": "d722ce4a-3ea3-4cd4-8580-20d2e3d3abed",
   "metadata": {},
   "outputs": [],
   "source": [
    "# Concatenation"
   ]
  },
  {
   "cell_type": "code",
   "execution_count": 29,
   "id": "fe5531b8-3161-4d46-9f6b-64f7655b09de",
   "metadata": {},
   "outputs": [
    {
     "name": "stdout",
     "output_type": "stream",
     "text": [
      "Programming OO\n"
     ]
    }
   ],
   "source": [
    "programming = \"Programming\"\n",
    "oo = 'OO'\n",
    "programming_oo = programming + \" \" + oo\n",
    "print(programming_oo)"
   ]
  },
  {
   "cell_type": "code",
   "execution_count": 30,
   "id": "431f446f-c103-477c-954a-d122b06823c0",
   "metadata": {},
   "outputs": [],
   "source": [
    "# length"
   ]
  },
  {
   "cell_type": "code",
   "execution_count": 31,
   "id": "113a1f94-ad22-449c-beed-c3feacc69060",
   "metadata": {},
   "outputs": [
    {
     "name": "stdout",
     "output_type": "stream",
     "text": [
      "14\n"
     ]
    }
   ],
   "source": [
    "print(len(programming_oo))"
   ]
  },
  {
   "cell_type": "code",
   "execution_count": 32,
   "id": "b2f4201c-d3ac-4680-8faf-1f13ad280f4d",
   "metadata": {},
   "outputs": [],
   "source": [
    "# Indexing and Substrings"
   ]
  },
  {
   "cell_type": "code",
   "execution_count": 33,
   "id": "93c4e940-4f37-40fc-8118-1f8a78db943e",
   "metadata": {},
   "outputs": [],
   "source": [
    "phrase = \"Python is very fun!\""
   ]
  },
  {
   "cell_type": "code",
   "execution_count": 34,
   "id": "8a7f2fa2-776a-47c5-88bc-a070445cd12e",
   "metadata": {},
   "outputs": [],
   "source": [
    "# The index starts in 0"
   ]
  },
  {
   "cell_type": "code",
   "execution_count": 35,
   "id": "94893307-d244-40a5-97a2-4b3dcd33b574",
   "metadata": {},
   "outputs": [
    {
     "name": "stdout",
     "output_type": "stream",
     "text": [
      "h\n",
      "!\n",
      "n\n",
      "Pyth\n",
      "very fun!\n",
      "n is \n",
      "Python is very fun!\n"
     ]
    }
   ],
   "source": [
    "print(phrase[3])\n",
    "print(phrase[-1])\n",
    "print(phrase[-2])\n",
    "print(phrase[:4])\n",
    "print(phrase[10:])\n",
    "print(phrase[5:10])\n",
    "print(phrase[:])"
   ]
  },
  {
   "cell_type": "code",
   "execution_count": 36,
   "id": "5d33b38e-c65e-40d6-96ba-3a5a40d12aad",
   "metadata": {},
   "outputs": [],
   "source": [
    "# Multiplying a string by a number"
   ]
  },
  {
   "cell_type": "code",
   "execution_count": 37,
   "id": "9bbcce56-2ab7-4214-bd54-f988baf85f63",
   "metadata": {},
   "outputs": [],
   "source": [
    "hello = 'hello'\n",
    "seven_hello = hello * 7"
   ]
  },
  {
   "cell_type": "code",
   "execution_count": 38,
   "id": "946b1c8e-7268-4cdd-a9c8-c7198faa0ba9",
   "metadata": {},
   "outputs": [
    {
     "name": "stdout",
     "output_type": "stream",
     "text": [
      "hellohellohellohellohellohellohello\n"
     ]
    }
   ],
   "source": [
    "print(seven_hello)"
   ]
  },
  {
   "cell_type": "code",
   "execution_count": 39,
   "id": "3a344218-b677-44e1-a596-5a4d90eac6cf",
   "metadata": {},
   "outputs": [],
   "source": [
    "# Operator In"
   ]
  },
  {
   "cell_type": "code",
   "execution_count": 40,
   "id": "a191ea5b-a776-423c-988a-c3ebac2674d1",
   "metadata": {},
   "outputs": [
    {
     "name": "stdout",
     "output_type": "stream",
     "text": [
      "True\n",
      "False\n",
      "False\n"
     ]
    }
   ],
   "source": [
    "programming_in_python = \"Programming in Python\"\n",
    "# Check if a string contains 'Python'\n",
    "print('Python' in programming_in_python)\n",
    "print('python' in programming_in_python)\n",
    "print('abacate' in programming_in_python)"
   ]
  },
  {
   "cell_type": "code",
   "execution_count": 41,
   "id": "d335822a-1b47-4bd1-9753-e5f812729007",
   "metadata": {},
   "outputs": [],
   "source": [
    "# Escaping"
   ]
  },
  {
   "cell_type": "code",
   "execution_count": 42,
   "id": "65b4f318-2329-4927-8a6b-12b73dd1329d",
   "metadata": {},
   "outputs": [
    {
     "name": "stdout",
     "output_type": "stream",
     "text": [
      "I'm studying\n",
      "Programming in Python\n"
     ]
    }
   ],
   "source": [
    "print(\"I'm studying\\n\" + programming_in_python)"
   ]
  },
  {
   "cell_type": "code",
   "execution_count": 43,
   "id": "58b3bf1e-3165-4bf2-b8e0-29616f26cb36",
   "metadata": {},
   "outputs": [
    {
     "name": "stdout",
     "output_type": "stream",
     "text": [
      "programming in python\n",
      "PROGRAMMING IN PYTHON\n"
     ]
    }
   ],
   "source": [
    "print(programming_in_python.lower())\n",
    "print(programming_in_python.upper())"
   ]
  },
  {
   "cell_type": "code",
   "execution_count": 44,
   "id": "42d18850-3d4b-44ad-b170-53b612179a75",
   "metadata": {},
   "outputs": [
    {
     "name": "stdout",
     "output_type": "stream",
     "text": [
      "Class of python\n"
     ]
    }
   ],
   "source": [
    "all_lowercase = \"class of python\"\n",
    "print(all_lowercase.capitalize())"
   ]
  },
  {
   "cell_type": "code",
   "execution_count": 45,
   "id": "561e7ae3-f4b3-43af-9bcf-0d88a7e1c06a",
   "metadata": {},
   "outputs": [],
   "source": [
    "# Formatting"
   ]
  },
  {
   "cell_type": "code",
   "execution_count": 46,
   "id": "ed54377d-f9e1-42b6-9dac-a43bc19f463f",
   "metadata": {},
   "outputs": [],
   "source": [
    "name = \"Belinha\"\n",
    "interger_number = 7\n",
    "decimal_number = 7.584"
   ]
  },
  {
   "cell_type": "code",
   "execution_count": 47,
   "id": "a1796c91-a05a-40aa-9455-271e881c3046",
   "metadata": {},
   "outputs": [
    {
     "name": "stdout",
     "output_type": "stream",
     "text": [
      "Hello, my name is Belinha! I'm 7 years old and 7 dollars\n"
     ]
    }
   ],
   "source": [
    "print(\"Hello, my name is %s! I'm %d years old and %d dollars\" % (name, interger_number, decimal_number))"
   ]
  },
  {
   "cell_type": "code",
   "execution_count": 48,
   "id": "adaf1f2e-f88b-426d-a9db-81f846181af4",
   "metadata": {},
   "outputs": [
    {
     "name": "stdout",
     "output_type": "stream",
     "text": [
      "Hello, my name is Belinha! I'm 7 years old and 7.584 dollars\n"
     ]
    }
   ],
   "source": [
    "print(f\"Hello, my name is {name}! I'm {interger_number} years old and {decimal_number} dollars\")"
   ]
  },
  {
   "cell_type": "code",
   "execution_count": 49,
   "id": "2e77b01e-988f-4035-a1d4-bc48a21e13be",
   "metadata": {},
   "outputs": [
    {
     "name": "stdout",
     "output_type": "stream",
     "text": [
      "Hello, my name is Belinha! I'm 7 and 7.58 dollars\n"
     ]
    }
   ],
   "source": [
    "print(\"Hello, my name is %s! I'm %d and %.2f dollars\" % (name, interger_number, decimal_number))"
   ]
  },
  {
   "cell_type": "code",
   "execution_count": 50,
   "id": "5e7458e6-6776-4119-9411-7d7d20018a60",
   "metadata": {},
   "outputs": [],
   "source": [
    "# Listas"
   ]
  },
  {
   "cell_type": "code",
   "execution_count": 51,
   "id": "f6c69b4b-8482-48c5-a162-6789f9addc8b",
   "metadata": {},
   "outputs": [
    {
     "name": "stdout",
     "output_type": "stream",
     "text": [
      "[1, 10, 100, 1000]\n"
     ]
    }
   ],
   "source": [
    "numbers = [1, 10, 100, 1000]\n",
    "print(numbers)"
   ]
  },
  {
   "cell_type": "code",
   "execution_count": 52,
   "id": "b729beb4-3ae7-479f-9fa5-fc5ebe95442e",
   "metadata": {},
   "outputs": [
    {
     "name": "stdout",
     "output_type": "stream",
     "text": [
      "100\n"
     ]
    }
   ],
   "source": [
    "# print element index number 2\n",
    "print(numbers[2])"
   ]
  },
  {
   "cell_type": "code",
   "execution_count": 53,
   "id": "feca2117-590f-40a8-8586-18c2af4a6f54",
   "metadata": {},
   "outputs": [],
   "source": [
    "# Lists Operations"
   ]
  },
  {
   "cell_type": "code",
   "execution_count": 54,
   "id": "8ba575fb-8f62-43ee-977f-fca70468f7fe",
   "metadata": {},
   "outputs": [],
   "source": [
    "# include two itens with +"
   ]
  },
  {
   "cell_type": "code",
   "execution_count": 55,
   "id": "3e8064a6-3aa4-462c-b193-f48288d07aa7",
   "metadata": {},
   "outputs": [
    {
     "name": "stdout",
     "output_type": "stream",
     "text": [
      "[1, 10, 100, 1000, 10000, 100000]\n"
     ]
    }
   ],
   "source": [
    "numbers += [10000, 100000]\n",
    "print(numbers)"
   ]
  },
  {
   "cell_type": "code",
   "execution_count": 56,
   "id": "c4589551-526b-44f3-8350-2dc167db80d3",
   "metadata": {},
   "outputs": [],
   "source": [
    "# include 1 item in list using append"
   ]
  },
  {
   "cell_type": "code",
   "execution_count": 57,
   "id": "defd7771-51fb-4dc4-b4b8-ff0dca28a222",
   "metadata": {},
   "outputs": [
    {
     "name": "stdout",
     "output_type": "stream",
     "text": [
      "[1, 10, 100, 1000, 10000, 100000, 1000000]\n"
     ]
    }
   ],
   "source": [
    "numbers.append(1000000)\n",
    "print(numbers)"
   ]
  },
  {
   "cell_type": "code",
   "execution_count": 58,
   "id": "fad8638e-c2e1-424e-b788-7a13969c24cc",
   "metadata": {},
   "outputs": [],
   "source": [
    "# Substitute the itens on 1 and 2 positions"
   ]
  },
  {
   "cell_type": "code",
   "execution_count": 59,
   "id": "a4f00656-f250-46ba-a889-5f410b5b7c75",
   "metadata": {},
   "outputs": [],
   "source": [
    "numbers[1:3] = [7]"
   ]
  },
  {
   "cell_type": "code",
   "execution_count": 60,
   "id": "15a21652-1e5e-4fc9-b555-f45e9198dff8",
   "metadata": {},
   "outputs": [
    {
     "name": "stdout",
     "output_type": "stream",
     "text": [
      "[1, 7, 1000, 10000, 100000, 1000000]\n"
     ]
    }
   ],
   "source": [
    "print(numbers)"
   ]
  },
  {
   "cell_type": "code",
   "execution_count": 61,
   "id": "1b885c46-f3b2-4ca7-896b-437f342cabad",
   "metadata": {},
   "outputs": [],
   "source": [
    "# remove itens in 1 and 2 positions list"
   ]
  },
  {
   "cell_type": "code",
   "execution_count": 62,
   "id": "e7eb2f57-ebd7-409f-824c-689a0c516982",
   "metadata": {},
   "outputs": [],
   "source": [
    "numbers[1:3] = []"
   ]
  },
  {
   "cell_type": "code",
   "execution_count": 63,
   "id": "87083161-879d-4516-9fa8-704ac207a5eb",
   "metadata": {},
   "outputs": [
    {
     "name": "stdout",
     "output_type": "stream",
     "text": [
      "[1, 10000, 100000, 1000000]\n"
     ]
    }
   ],
   "source": [
    "print(numbers)"
   ]
  },
  {
   "cell_type": "code",
   "execution_count": 64,
   "id": "84add5f8-f6fc-48b2-9a00-9ccbbe035654",
   "metadata": {},
   "outputs": [],
   "source": [
    "# Size of list"
   ]
  },
  {
   "cell_type": "code",
   "execution_count": 65,
   "id": "f21dc61b-3999-4fcf-a301-60b081659d10",
   "metadata": {},
   "outputs": [
    {
     "name": "stdout",
     "output_type": "stream",
     "text": [
      "4\n"
     ]
    }
   ],
   "source": [
    "print(len(numbers))"
   ]
  },
  {
   "cell_type": "code",
   "execution_count": 66,
   "id": "a7d971d7-abcd-4f91-ad5e-75716ef2e987",
   "metadata": {},
   "outputs": [],
   "source": [
    "# Tuple"
   ]
  },
  {
   "cell_type": "code",
   "execution_count": 67,
   "id": "790a2f42-a5ef-4383-965b-efa97a0c1f50",
   "metadata": {},
   "outputs": [],
   "source": [
    "naipes = ('copas', 'ouros', 'espadas', 'paus')"
   ]
  },
  {
   "cell_type": "code",
   "execution_count": 68,
   "id": "828341b4-e06d-4d3d-9558-855f61f58214",
   "metadata": {},
   "outputs": [
    {
     "name": "stdout",
     "output_type": "stream",
     "text": [
      "('copas', 'ouros', 'espadas', 'paus')\n"
     ]
    }
   ],
   "source": [
    "print(naipes)"
   ]
  },
  {
   "cell_type": "code",
   "execution_count": 69,
   "id": "bee83458-481b-4286-b8d8-d61abc75e570",
   "metadata": {},
   "outputs": [],
   "source": [
    "# Dictionary"
   ]
  },
  {
   "cell_type": "code",
   "execution_count": 70,
   "id": "bdcfcd26-1015-437b-afc3-0e0da698ca1b",
   "metadata": {},
   "outputs": [],
   "source": [
    "# Create and print the dictionary"
   ]
  },
  {
   "cell_type": "code",
   "execution_count": 71,
   "id": "7413c207-7e3f-40ef-996e-8dd0e5c02ef7",
   "metadata": {},
   "outputs": [
    {
     "name": "stdout",
     "output_type": "stream",
     "text": [
      "{'Ana': 8, 'Maria': 5, 'Thais': 10}\n"
     ]
    }
   ],
   "source": [
    "grades_students = {'Ana': 8, 'Maria': 5, 'Thais': 10}\n",
    "print(grades_students)"
   ]
  },
  {
   "cell_type": "code",
   "execution_count": 72,
   "id": "17ec7ea8-d448-4343-9eb1-ef0440b79055",
   "metadata": {},
   "outputs": [],
   "source": [
    "# Acess the value of key"
   ]
  },
  {
   "cell_type": "code",
   "execution_count": 73,
   "id": "1be6e672-85f3-49a5-ad4e-8a540cc76e5e",
   "metadata": {},
   "outputs": [
    {
     "name": "stdout",
     "output_type": "stream",
     "text": [
      "10\n"
     ]
    }
   ],
   "source": [
    "print(grades_students['Thais'])"
   ]
  },
  {
   "cell_type": "code",
   "execution_count": 74,
   "id": "d2e9e920-5bbf-4e3e-880f-4c7105cbb6c3",
   "metadata": {},
   "outputs": [],
   "source": [
    "# include an item"
   ]
  },
  {
   "cell_type": "code",
   "execution_count": 75,
   "id": "1fd3856a-c108-40fe-8ac0-3a5419e781e6",
   "metadata": {},
   "outputs": [
    {
     "name": "stdout",
     "output_type": "stream",
     "text": [
      "{'Ana': 8, 'Maria': 5, 'Thais': 10, 'Joamir': 9}\n"
     ]
    }
   ],
   "source": [
    "grades_students['Joamir'] = 9\n",
    "print(grades_students)"
   ]
  },
  {
   "cell_type": "code",
   "execution_count": 76,
   "id": "d61d4166-b1a6-435b-bdf3-69f9d04455a0",
   "metadata": {},
   "outputs": [],
   "source": [
    "# remove an item"
   ]
  },
  {
   "cell_type": "code",
   "execution_count": 77,
   "id": "0f66d4dc-445c-4cef-8b96-ee084a29fb4b",
   "metadata": {},
   "outputs": [
    {
     "name": "stdout",
     "output_type": "stream",
     "text": [
      "{'Ana': 8, 'Maria': 5, 'Thais': 10}\n"
     ]
    }
   ],
   "source": [
    "del grades_students['Joamir']\n",
    "print(grades_students)"
   ]
  },
  {
   "cell_type": "code",
   "execution_count": 78,
   "id": "db5e84d4-8c75-4ebc-a6e7-7065121d5b28",
   "metadata": {},
   "outputs": [
    {
     "name": "stdout",
     "output_type": "stream",
     "text": [
      "False\n"
     ]
    }
   ],
   "source": [
    "print('Joamir' in grades_students)"
   ]
  },
  {
   "cell_type": "markdown",
   "id": "e74cd172-710a-4bb6-b90d-eb4f810cc11d",
   "metadata": {},
   "source": [
    "### Conditions"
   ]
  },
  {
   "cell_type": "code",
   "execution_count": 80,
   "id": "17d58df2-6c48-4aef-a294-68c08f2b7fe1",
   "metadata": {},
   "outputs": [],
   "source": [
    "name = 'Joamir'\n",
    "age = 25"
   ]
  },
  {
   "cell_type": "code",
   "execution_count": 81,
   "id": "1d2ad95b-ce42-4eb0-a73f-8a7ded82ce10",
   "metadata": {},
   "outputs": [],
   "source": [
    "# if condition"
   ]
  },
  {
   "cell_type": "code",
   "execution_count": 82,
   "id": "60742386-ba95-4a4d-bfad-af5d8327bcef",
   "metadata": {},
   "outputs": [
    {
     "name": "stdout",
     "output_type": "stream",
     "text": [
      "Passed!\n",
      "Passed again!\n",
      "Joamir has 25 years\n"
     ]
    }
   ],
   "source": [
    "if name == 'Joamir':\n",
    "    print('Passed!')\n",
    "\n",
    "if name == 'Joamir' or age == 17:\n",
    "    print('Passed again!')\n",
    "    print(f'{name} has {age} years')"
   ]
  },
  {
   "cell_type": "code",
   "execution_count": 83,
   "id": "f29b0fb6-d163-4a31-996a-9525d653d2b2",
   "metadata": {},
   "outputs": [],
   "source": [
    "# Elif, if, else commands"
   ]
  },
  {
   "cell_type": "code",
   "execution_count": 84,
   "id": "1a0f8795-b31b-4ad1-ab03-7116cd39d9b1",
   "metadata": {},
   "outputs": [
    {
     "name": "stdout",
     "output_type": "stream",
     "text": [
      "Size 2\n"
     ]
    }
   ],
   "source": [
    "days = ['saturday', 'sunday']\n",
    "if len(days) == 0:\n",
    "    print('Empty list')\n",
    "elif len(days) == 1:\n",
    "    print('only one day')\n",
    "else:\n",
    "    print(f'Size {len(days)}')"
   ]
  },
  {
   "cell_type": "markdown",
   "id": "9449756a-3a4a-49c1-8722-bb356dd002cb",
   "metadata": {},
   "source": [
    "### Loops"
   ]
  },
  {
   "cell_type": "code",
   "execution_count": 86,
   "id": "9053c40c-ab3a-43bd-8f9a-9eee92296061",
   "metadata": {},
   "outputs": [],
   "source": [
    "# Loop for"
   ]
  },
  {
   "cell_type": "code",
   "execution_count": 87,
   "id": "9b509b6d-f2a3-40a5-b298-807b25fe47e1",
   "metadata": {},
   "outputs": [
    {
     "name": "stdout",
     "output_type": "stream",
     "text": [
      "0\n",
      "1\n",
      "2\n",
      "3\n",
      "4\n",
      "5\n"
     ]
    }
   ],
   "source": [
    "for counter in range(6):\n",
    "    print(counter)"
   ]
  },
  {
   "cell_type": "code",
   "execution_count": 88,
   "id": "c76404ed-6f64-4c0e-b406-ff390207d6ae",
   "metadata": {},
   "outputs": [
    {
     "name": "stdout",
     "output_type": "stream",
     "text": [
      "6\n",
      "7\n",
      "8\n",
      "9\n"
     ]
    }
   ],
   "source": [
    "for counter in range(6, 10):\n",
    "    print(counter)"
   ]
  },
  {
   "cell_type": "code",
   "execution_count": 89,
   "id": "936ddc10-c6ba-4650-85ef-93e3804220e4",
   "metadata": {},
   "outputs": [
    {
     "name": "stdout",
     "output_type": "stream",
     "text": [
      "20\n",
      "24\n",
      "28\n",
      "32\n",
      "36\n"
     ]
    }
   ],
   "source": [
    "for counter in range(20, 40, 4):\n",
    "    print(counter)"
   ]
  },
  {
   "cell_type": "code",
   "execution_count": 90,
   "id": "68c65e1c-c8a5-45b0-876e-1bb75e29406f",
   "metadata": {},
   "outputs": [],
   "source": [
    "# Another example"
   ]
  },
  {
   "cell_type": "code",
   "execution_count": 91,
   "id": "969f19dc-91e8-4b4f-b0e7-5dcdd3d859b3",
   "metadata": {},
   "outputs": [
    {
     "name": "stdout",
     "output_type": "stream",
     "text": [
      "Index 0 - value 2\n",
      "Index 1 - value 4\n",
      "Index 2 - value 6\n",
      "Index 3 - value 8\n"
     ]
    }
   ],
   "source": [
    "even_numbers = [2, 4, 6, 8]\n",
    "for counter in range(len(even_numbers)):\n",
    "    print(f'Index {counter} - value {even_numbers[counter]}')"
   ]
  },
  {
   "cell_type": "code",
   "execution_count": 92,
   "id": "d3d3f543-adc5-4afb-9d66-ea52fad2a11c",
   "metadata": {},
   "outputs": [],
   "source": [
    "# Loop using string"
   ]
  },
  {
   "cell_type": "code",
   "execution_count": 93,
   "id": "2354a3b9-39ee-4702-9603-7816672862a5",
   "metadata": {},
   "outputs": [],
   "source": [
    "hello_world = 'Hello, World'"
   ]
  },
  {
   "cell_type": "code",
   "execution_count": 94,
   "id": "d3870683-9d05-4b59-a0f4-043b920af877",
   "metadata": {},
   "outputs": [
    {
     "name": "stdout",
     "output_type": "stream",
     "text": [
      "H\n",
      "e\n",
      "l\n",
      "l\n",
      "o\n",
      ",\n",
      " \n",
      "W\n",
      "o\n",
      "r\n",
      "l\n",
      "d\n"
     ]
    }
   ],
   "source": [
    "for character in hello_world:\n",
    "    print(character)"
   ]
  },
  {
   "cell_type": "code",
   "execution_count": 187,
   "id": "31206275-799c-4280-b1a7-5271bab0bb5c",
   "metadata": {},
   "outputs": [],
   "source": [
    "# Loop While"
   ]
  },
  {
   "cell_type": "code",
   "execution_count": 189,
   "id": "0665760c-e01c-4681-8e0f-fc5c79991a26",
   "metadata": {},
   "outputs": [],
   "source": [
    "number_while_counter = 1"
   ]
  },
  {
   "cell_type": "code",
   "execution_count": 191,
   "id": "40ff552c-91df-410e-89e5-beee6023fbc0",
   "metadata": {},
   "outputs": [
    {
     "name": "stdout",
     "output_type": "stream",
     "text": [
      "1\n",
      "2\n",
      "3\n",
      "4\n",
      "5\n",
      "6\n",
      "7\n"
     ]
    }
   ],
   "source": [
    "while number_while_counter <= 7:\n",
    "    print(number_while_counter)\n",
    "    number_while_counter += 1"
   ]
  },
  {
   "cell_type": "code",
   "execution_count": 193,
   "id": "8d5fb1b9-e55f-4039-8758-fc22fda4d79a",
   "metadata": {},
   "outputs": [],
   "source": [
    "# Print numbers less than 25"
   ]
  },
  {
   "cell_type": "code",
   "execution_count": 203,
   "id": "b0b553f4-1ecb-4397-a1f3-fcea619e7d7d",
   "metadata": {},
   "outputs": [],
   "source": [
    "number_while_counter = 1\n",
    "quadratic = 1"
   ]
  },
  {
   "cell_type": "code",
   "execution_count": 205,
   "id": "fa02bcb9-5e40-4ed6-830c-93cc5e2cc37c",
   "metadata": {},
   "outputs": [
    {
     "name": "stdout",
     "output_type": "stream",
     "text": [
      "Número 1 - quadrado 1\n",
      "Número 2 - quadrado 4\n",
      "Número 3 - quadrado 9\n",
      "Número 4 - quadrado 16\n",
      "Número 5 - quadrado 25\n",
      "Ao sair do While, 6 tem o valor\n"
     ]
    }
   ],
   "source": [
    "while quadratic <= 24:\n",
    "    quadratic = number_while_counter ** 2\n",
    "    print(f\"Número {number_while_counter} - quadrado {quadratic}\")\n",
    "    number_while_counter += 1\n",
    "print(f'Ao sair do While, {number_while_counter} tem o valor')"
   ]
  },
  {
   "cell_type": "code",
   "execution_count": 207,
   "id": "08373deb-d05b-45b3-9c8b-3f88c39e67e3",
   "metadata": {},
   "outputs": [],
   "source": [
    "# Break"
   ]
  },
  {
   "cell_type": "code",
   "execution_count": 209,
   "id": "f2a9b315-c5e0-4be8-b34d-81ba57847d0c",
   "metadata": {},
   "outputs": [
    {
     "name": "stdout",
     "output_type": "stream",
     "text": [
      "0\n",
      "1\n",
      "2\n",
      "3\n",
      "4\n"
     ]
    }
   ],
   "source": [
    "count = 0\n",
    "while True:\n",
    "    print(count)\n",
    "    count += 1\n",
    "    if count >= 5:\n",
    "        break"
   ]
  },
  {
   "cell_type": "code",
   "execution_count": 211,
   "id": "57cf25a1-c555-4b36-91ae-6e14f6694168",
   "metadata": {},
   "outputs": [],
   "source": [
    "naipes = ['copas', 'ouros', 'espadas', 'paus']"
   ]
  },
  {
   "cell_type": "code",
   "execution_count": 213,
   "id": "f173fbe7-a95f-407f-b1c5-2e7e2bf1dd6b",
   "metadata": {},
   "outputs": [],
   "source": [
    "# loop infinito"
   ]
  },
  {
   "cell_type": "code",
   "execution_count": 215,
   "id": "551e893e-c2fa-4ec9-aa28-dc22b2fe5748",
   "metadata": {},
   "outputs": [
    {
     "name": "stdout",
     "output_type": "stream",
     "text": [
      "paus\n",
      "espadas\n"
     ]
    }
   ],
   "source": [
    "while True:\n",
    "    element = naipes.pop()\n",
    "    print(element)\n",
    "    if element == 'espadas':\n",
    "        break"
   ]
  },
  {
   "cell_type": "code",
   "execution_count": 217,
   "id": "e51fb728-d98a-4ff5-bfa2-cadcdbdc9875",
   "metadata": {},
   "outputs": [],
   "source": [
    "# Continue"
   ]
  },
  {
   "cell_type": "code",
   "execution_count": 221,
   "id": "c2bf6f11-09ae-4336-b9ad-186a9e4c3c8f",
   "metadata": {},
   "outputs": [
    {
     "name": "stdout",
     "output_type": "stream",
     "text": [
      "0\n",
      "1\n",
      "2\n",
      "4\n"
     ]
    }
   ],
   "source": [
    "for counter in range(5):\n",
    "    if counter == 3:\n",
    "        continue\n",
    "    print(counter)"
   ]
  },
  {
   "cell_type": "code",
   "execution_count": 223,
   "id": "72d0971e-a5bb-4b29-8b12-d2631c7ac119",
   "metadata": {},
   "outputs": [],
   "source": [
    "# print only odd"
   ]
  },
  {
   "cell_type": "code",
   "execution_count": 229,
   "id": "c6894fc5-6090-4ffc-9f5f-e710dde95760",
   "metadata": {},
   "outputs": [
    {
     "name": "stdout",
     "output_type": "stream",
     "text": [
      "Número 1\n",
      "Número 3\n",
      "Número 5\n",
      "Número 7\n",
      "Número 9\n"
     ]
    }
   ],
   "source": [
    "for counter in range(10):\n",
    "    if (counter % 2) == 0:\n",
    "        # skip print (counter) for this loop\n",
    "        continue\n",
    "    print(f'Número {counter}')"
   ]
  },
  {
   "cell_type": "markdown",
   "id": "b8eacec5-7f05-4cb4-a17a-7a9e8fc53545",
   "metadata": {},
   "source": [
    "### Funções"
   ]
  },
  {
   "cell_type": "code",
   "execution_count": 232,
   "id": "bfcfda52-65d7-4e94-8276-e1094f584f68",
   "metadata": {},
   "outputs": [],
   "source": [
    "# Define a function call hello_world"
   ]
  },
  {
   "cell_type": "code",
   "execution_count": 234,
   "id": "676a401b-59e6-40dd-bbf2-aad24312de95",
   "metadata": {},
   "outputs": [],
   "source": [
    "def hello_word():\n",
    "    print('Hello, World')\n",
    "    print('Oi, Mundo')\n",
    "    print('Salut, Monde')\n",
    "    print('Hola, mundo')"
   ]
  },
  {
   "cell_type": "code",
   "execution_count": 236,
   "id": "a1ec0f37-60f5-4e38-a7b3-8d7fc476172b",
   "metadata": {},
   "outputs": [
    {
     "name": "stdout",
     "output_type": "stream",
     "text": [
      "Hello, World\n",
      "Oi, Mundo\n",
      "Salut, Monde\n",
      "Hola, mundo\n",
      "Hello, World\n",
      "Oi, Mundo\n",
      "Salut, Monde\n",
      "Hola, mundo\n",
      "Hello, World\n",
      "Oi, Mundo\n",
      "Salut, Monde\n",
      "Hola, mundo\n"
     ]
    }
   ],
   "source": [
    "for counter in range(3):\n",
    "    hello_word()"
   ]
  },
  {
   "cell_type": "code",
   "execution_count": 238,
   "id": "f7c446ea-4f82-410b-b8ee-eddce701561b",
   "metadata": {},
   "outputs": [],
   "source": [
    "# Functions with parameters"
   ]
  },
  {
   "cell_type": "code",
   "execution_count": 242,
   "id": "80773c89-829e-4b56-858a-b46383359f61",
   "metadata": {},
   "outputs": [],
   "source": [
    "def a_function(j):\n",
    "    print(f'x = {j}')"
   ]
  },
  {
   "cell_type": "code",
   "execution_count": 244,
   "id": "af23b445-47bf-4eb7-a023-f5a810f83fb5",
   "metadata": {},
   "outputs": [
    {
     "name": "stdout",
     "output_type": "stream",
     "text": [
      "x = 5\n"
     ]
    }
   ],
   "source": [
    "a_function(5)"
   ]
  },
  {
   "cell_type": "code",
   "execution_count": 246,
   "id": "09d5207d-33b2-4358-b7fd-16b01d467475",
   "metadata": {},
   "outputs": [],
   "source": [
    "# Function with return"
   ]
  },
  {
   "cell_type": "code",
   "execution_count": 248,
   "id": "2bd41da7-a6ab-4b09-bd45-ec162f47a0db",
   "metadata": {},
   "outputs": [],
   "source": [
    "def sum_function(a, b):\n",
    "    return a + b"
   ]
  },
  {
   "cell_type": "code",
   "execution_count": 252,
   "id": "00215434-af33-4652-a170-26c17a4c0788",
   "metadata": {},
   "outputs": [
    {
     "name": "stdout",
     "output_type": "stream",
     "text": [
      "c = 12\n"
     ]
    }
   ],
   "source": [
    "variable_c = sum_function(7, 5)\n",
    "print(f'c = {variable_c}')"
   ]
  },
  {
   "cell_type": "code",
   "execution_count": null,
   "id": "210e0551-9d18-4e4a-9685-5c0862320130",
   "metadata": {},
   "outputs": [],
   "source": []
  }
 ],
 "metadata": {
  "kernelspec": {
   "display_name": "Python 3 (ipykernel)",
   "language": "python",
   "name": "python3"
  },
  "language_info": {
   "codemirror_mode": {
    "name": "ipython",
    "version": 3
   },
   "file_extension": ".py",
   "mimetype": "text/x-python",
   "name": "python",
   "nbconvert_exporter": "python",
   "pygments_lexer": "ipython3",
   "version": "3.11.7"
  }
 },
 "nbformat": 4,
 "nbformat_minor": 5
}
