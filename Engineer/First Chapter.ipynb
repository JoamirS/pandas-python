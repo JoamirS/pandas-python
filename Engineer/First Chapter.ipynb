{
 "cells": [
  {
   "cell_type": "code",
   "execution_count": 1,
   "id": "ba667021-5129-4abf-9d8b-950faa5a6356",
   "metadata": {},
   "outputs": [],
   "source": [
    "# Variáveis: Definição de tipos\n",
    "# Declarando 4 variáveis e atribuindo valores a elas\n",
    "a_string = \"Student\"\n",
    "an_interger = 7\n",
    "a_float = 7.584\n",
    "a_boolean = True"
   ]
  },
  {
   "cell_type": "code",
   "execution_count": 2,
   "id": "18dfaef9-b1ed-4fa7-bddc-f9a77dd829b9",
   "metadata": {},
   "outputs": [],
   "source": [
    "# Print a valor and the type of variable"
   ]
  },
  {
   "cell_type": "code",
   "execution_count": 3,
   "id": "cdb5313d-da2b-490b-bc93-d166ee8efba3",
   "metadata": {},
   "outputs": [
    {
     "name": "stdout",
     "output_type": "stream",
     "text": [
      "7.584\n",
      "<class 'float'>\n"
     ]
    }
   ],
   "source": [
    "print(a_float)\n",
    "print(type(a_float))"
   ]
  },
  {
   "cell_type": "code",
   "execution_count": 4,
   "id": "652c9a25-d6cc-4e4a-926c-bb1e9bb9ad3c",
   "metadata": {},
   "outputs": [],
   "source": [
    "# Casting: Converting a variable kind float for string"
   ]
  },
  {
   "cell_type": "code",
   "execution_count": 5,
   "id": "fc2b0f55-8515-452a-b04a-471d288eb899",
   "metadata": {},
   "outputs": [
    {
     "name": "stdout",
     "output_type": "stream",
     "text": [
      "7\n"
     ]
    }
   ],
   "source": [
    "print(int(a_float))"
   ]
  },
  {
   "cell_type": "code",
   "execution_count": 6,
   "id": "5e5468fe-19e9-4582-8e43-27e2e7d0f1ae",
   "metadata": {},
   "outputs": [
    {
     "name": "stdout",
     "output_type": "stream",
     "text": [
      "7.584\n"
     ]
    }
   ],
   "source": [
    "print(str(a_float))"
   ]
  },
  {
   "cell_type": "markdown",
   "id": "d94c3a19-fdb6-4c0c-bf23-21a45dd01bd4",
   "metadata": {},
   "source": [
    "### Arithmetic Operations"
   ]
  },
  {
   "cell_type": "code",
   "execution_count": 8,
   "id": "d63802c7-55b5-4703-a484-2d65ce248769",
   "metadata": {},
   "outputs": [],
   "source": [
    "# Sum, subtraction, multiplication, division"
   ]
  },
  {
   "cell_type": "code",
   "execution_count": 9,
   "id": "3aeeebc9-8f12-40cf-982d-07245f6f1c81",
   "metadata": {},
   "outputs": [],
   "source": [
    "result_1 = 7 + 5\n",
    "result_2 = an_interger - result_1\n",
    "result_3 = result_2 * 3\n",
    "result_4 = result_3 / 4"
   ]
  },
  {
   "cell_type": "code",
   "execution_count": 10,
   "id": "b5113b63-c07b-420e-a878-726d1e45fe67",
   "metadata": {},
   "outputs": [],
   "source": [
    "# Printing the results concatenating a string with numeric result"
   ]
  },
  {
   "cell_type": "code",
   "execution_count": 11,
   "id": "c9e43043-7010-487d-8adc-ddd28e02aa45",
   "metadata": {},
   "outputs": [
    {
     "name": "stdout",
     "output_type": "stream",
     "text": [
      "Result of sum = 12\n"
     ]
    }
   ],
   "source": [
    "print(\"Result of sum = {}\".format(str(result_1)))"
   ]
  },
  {
   "cell_type": "code",
   "execution_count": 12,
   "id": "a59a8fcf-4fa2-4f89-9398-8874e93b555f",
   "metadata": {},
   "outputs": [
    {
     "name": "stdout",
     "output_type": "stream",
     "text": [
      "Result of subtration = -5\n"
     ]
    }
   ],
   "source": [
    "print(\"Result of subtration = {}\".format(str(result_2)))"
   ]
  },
  {
   "cell_type": "code",
   "execution_count": 13,
   "id": "feebfe8c-b791-4f10-985f-59bc3f304ef7",
   "metadata": {},
   "outputs": [
    {
     "name": "stdout",
     "output_type": "stream",
     "text": [
      "Result of multiplication = -15\n"
     ]
    }
   ],
   "source": [
    "print(\"Result of multiplication = {}\".format(str(result_3)))"
   ]
  },
  {
   "cell_type": "code",
   "execution_count": 14,
   "id": "a295332c-5a46-4c4b-927b-7a87817cefb7",
   "metadata": {},
   "outputs": [
    {
     "name": "stdout",
     "output_type": "stream",
     "text": [
      "Result of division = -3.75\n"
     ]
    }
   ],
   "source": [
    "print(\"Result of division = {}\".format(str(result_4)))"
   ]
  },
  {
   "cell_type": "code",
   "execution_count": 15,
   "id": "596109c2-eca3-402f-905e-b6afcbeede44",
   "metadata": {},
   "outputs": [],
   "source": [
    "# Increment and decrement"
   ]
  },
  {
   "cell_type": "code",
   "execution_count": 16,
   "id": "4918eb95-1a55-4449-ab9c-4aca3ba80707",
   "metadata": {},
   "outputs": [
    {
     "name": "stdout",
     "output_type": "stream",
     "text": [
      "Result: 4\n"
     ]
    }
   ],
   "source": [
    "an_interger  -= 3\n",
    "print(\"Result: \" + str(an_interger))"
   ]
  },
  {
   "cell_type": "code",
   "execution_count": 17,
   "id": "f80838a6-d463-4ebd-9bf1-173ba0df5d41",
   "metadata": {},
   "outputs": [
    {
     "name": "stdout",
     "output_type": "stream",
     "text": [
      "Resultado é 9\n"
     ]
    }
   ],
   "source": [
    "an_interger += 5\n",
    "print(f\"Resultado é {str(an_interger)}\")"
   ]
  },
  {
   "cell_type": "code",
   "execution_count": 35,
   "id": "7ff88f8d-9deb-48c7-967b-819b326067ed",
   "metadata": {},
   "outputs": [],
   "source": [
    "# Equality Operators"
   ]
  },
  {
   "cell_type": "code",
   "execution_count": 37,
   "id": "7465ccce-0d19-4638-877a-c8b570db9a9a",
   "metadata": {},
   "outputs": [
    {
     "name": "stdout",
     "output_type": "stream",
     "text": [
      "True\n",
      "True\n"
     ]
    }
   ],
   "source": [
    "variable_01 = 1\n",
    "variable_02 = 2\n",
    "variable_03 = 3\n",
    "\n",
    "print(1 == variable_01)\n",
    "print(2 == variable_02)\n",
    "\n",
    "equality_variable = variable_01 == variable_02\n",
    "not_equality = variable_01 != variable_02"
   ]
  },
  {
   "cell_type": "code",
   "execution_count": 39,
   "id": "8702fe3e-a6ad-4d6d-8a42-d7677b7fd1d9",
   "metadata": {},
   "outputs": [
    {
     "name": "stdout",
     "output_type": "stream",
     "text": [
      "Is one equal to two? False\n"
     ]
    }
   ],
   "source": [
    "print(f\"Is one equal to two? {str(equality_variable)}\")"
   ]
  },
  {
   "cell_type": "code",
   "execution_count": 43,
   "id": "3728150d-9a71-439c-b990-7b4ff42a44ba",
   "metadata": {},
   "outputs": [
    {
     "name": "stdout",
     "output_type": "stream",
     "text": [
      "Is one different from two? True\n"
     ]
    }
   ],
   "source": [
    "print(f'Is one different from two? {str(not_equality)}')"
   ]
  },
  {
   "cell_type": "code",
   "execution_count": 45,
   "id": "2ab201cb-d5b7-40e6-a9d4-f816c6c01dda",
   "metadata": {},
   "outputs": [],
   "source": [
    "# Comparison operators"
   ]
  },
  {
   "cell_type": "code",
   "execution_count": 49,
   "id": "2d4eaffd-6abe-4a3a-9eb7-84b03957634f",
   "metadata": {},
   "outputs": [
    {
     "name": "stdout",
     "output_type": "stream",
     "text": [
      "Is one bigger than two? False\n"
     ]
    }
   ],
   "source": [
    "print(f\"Is one bigger than two? {str(variable_01 > variable_02)}\")"
   ]
  },
  {
   "cell_type": "code",
   "execution_count": 51,
   "id": "25b4dcd0-2cdc-4691-90be-2da75e3809a5",
   "metadata": {},
   "outputs": [
    {
     "name": "stdout",
     "output_type": "stream",
     "text": [
      "Is one less than two? True\n"
     ]
    }
   ],
   "source": [
    "print(f\"Is one less than two? {str(variable_01 < variable_02)}\")"
   ]
  },
  {
   "cell_type": "code",
   "execution_count": 53,
   "id": "caad0da1-3415-4784-ac74-c1f426f8fb75",
   "metadata": {},
   "outputs": [],
   "source": [
    "# Logical Operators"
   ]
  },
  {
   "cell_type": "code",
   "execution_count": 55,
   "id": "f2be1add-0ae3-4361-84de-b377ef168e4c",
   "metadata": {},
   "outputs": [
    {
     "name": "stdout",
     "output_type": "stream",
     "text": [
      "True\n",
      "False\n"
     ]
    }
   ],
   "source": [
    "print((2 > 1) and (3 < 5))\n",
    "print((2 > 1) and (1 > 3))"
   ]
  },
  {
   "cell_type": "code",
   "execution_count": 57,
   "id": "b5e77c66-023b-4e8f-9fd2-c1782acd0e72",
   "metadata": {},
   "outputs": [
    {
     "name": "stdout",
     "output_type": "stream",
     "text": [
      "True\n",
      "False\n",
      "True\n"
     ]
    }
   ],
   "source": [
    "print((3 < 5) or (2 > 1))\n",
    "print((0 > 1) or (0 == -1))\n",
    "print((0 < 1) or (0 == -1))"
   ]
  },
  {
   "cell_type": "code",
   "execution_count": 59,
   "id": "d722ce4a-3ea3-4cd4-8580-20d2e3d3abed",
   "metadata": {},
   "outputs": [],
   "source": [
    "# Concatenation"
   ]
  },
  {
   "cell_type": "code",
   "execution_count": 63,
   "id": "fe5531b8-3161-4d46-9f6b-64f7655b09de",
   "metadata": {},
   "outputs": [
    {
     "name": "stdout",
     "output_type": "stream",
     "text": [
      "Programming OO\n"
     ]
    }
   ],
   "source": [
    "programming = \"Programming\"\n",
    "oo = 'OO'\n",
    "programming_oo = programming + \" \" + oo\n",
    "print(programming_oo)"
   ]
  },
  {
   "cell_type": "code",
   "execution_count": 66,
   "id": "431f446f-c103-477c-954a-d122b06823c0",
   "metadata": {},
   "outputs": [],
   "source": [
    "# length"
   ]
  },
  {
   "cell_type": "code",
   "execution_count": 68,
   "id": "113a1f94-ad22-449c-beed-c3feacc69060",
   "metadata": {},
   "outputs": [
    {
     "name": "stdout",
     "output_type": "stream",
     "text": [
      "14\n"
     ]
    }
   ],
   "source": [
    "print(len(programming_oo))"
   ]
  },
  {
   "cell_type": "code",
   "execution_count": 70,
   "id": "b2f4201c-d3ac-4680-8faf-1f13ad280f4d",
   "metadata": {},
   "outputs": [],
   "source": [
    "# Indexing and Substrings"
   ]
  },
  {
   "cell_type": "code",
   "execution_count": 72,
   "id": "93c4e940-4f37-40fc-8118-1f8a78db943e",
   "metadata": {},
   "outputs": [],
   "source": [
    "phrase = \"Python is very fun!\""
   ]
  },
  {
   "cell_type": "code",
   "execution_count": 74,
   "id": "8a7f2fa2-776a-47c5-88bc-a070445cd12e",
   "metadata": {},
   "outputs": [],
   "source": [
    "# The index starts in 0"
   ]
  },
  {
   "cell_type": "code",
   "execution_count": 76,
   "id": "94893307-d244-40a5-97a2-4b3dcd33b574",
   "metadata": {},
   "outputs": [
    {
     "name": "stdout",
     "output_type": "stream",
     "text": [
      "h\n",
      "!\n",
      "n\n",
      "Pyth\n",
      "very fun!\n",
      "n is \n",
      "Python is very fun!\n"
     ]
    }
   ],
   "source": [
    "print(phrase[3])\n",
    "print(phrase[-1])\n",
    "print(phrase[-2])\n",
    "print(phrase[:4])\n",
    "print(phrase[10:])\n",
    "print(phrase[5:10])\n",
    "print(phrase[:])"
   ]
  },
  {
   "cell_type": "code",
   "execution_count": 78,
   "id": "5d33b38e-c65e-40d6-96ba-3a5a40d12aad",
   "metadata": {},
   "outputs": [],
   "source": [
    "# Multiplying a string by a number"
   ]
  },
  {
   "cell_type": "code",
   "execution_count": 80,
   "id": "9bbcce56-2ab7-4214-bd54-f988baf85f63",
   "metadata": {},
   "outputs": [],
   "source": [
    "hello = 'hello'\n",
    "seven_hello = hello * 7"
   ]
  },
  {
   "cell_type": "code",
   "execution_count": 82,
   "id": "946b1c8e-7268-4cdd-a9c8-c7198faa0ba9",
   "metadata": {},
   "outputs": [
    {
     "name": "stdout",
     "output_type": "stream",
     "text": [
      "hellohellohellohellohellohellohello\n"
     ]
    }
   ],
   "source": [
    "print(seven_hello)"
   ]
  },
  {
   "cell_type": "code",
   "execution_count": 84,
   "id": "3a344218-b677-44e1-a596-5a4d90eac6cf",
   "metadata": {},
   "outputs": [],
   "source": [
    "# Operator In"
   ]
  },
  {
   "cell_type": "code",
   "execution_count": 86,
   "id": "a191ea5b-a776-423c-988a-c3ebac2674d1",
   "metadata": {},
   "outputs": [
    {
     "name": "stdout",
     "output_type": "stream",
     "text": [
      "True\n",
      "False\n",
      "False\n"
     ]
    }
   ],
   "source": [
    "programming_in_python = \"Programming in Python\"\n",
    "# Check if a string contains 'Python'\n",
    "print('Python' in programming_in_python)\n",
    "print('python' in programming_in_python)\n",
    "print('abacate' in programming_in_python)"
   ]
  },
  {
   "cell_type": "code",
   "execution_count": 88,
   "id": "d335822a-1b47-4bd1-9753-e5f812729007",
   "metadata": {},
   "outputs": [],
   "source": [
    "# Escaping"
   ]
  },
  {
   "cell_type": "code",
   "execution_count": 90,
   "id": "65b4f318-2329-4927-8a6b-12b73dd1329d",
   "metadata": {},
   "outputs": [
    {
     "name": "stdout",
     "output_type": "stream",
     "text": [
      "I'm studying\n",
      "Programming in Python\n"
     ]
    }
   ],
   "source": [
    "print(\"I'm studying\\n\" + programming_in_python)"
   ]
  },
  {
   "cell_type": "code",
   "execution_count": 92,
   "id": "58b3bf1e-3165-4bf2-b8e0-29616f26cb36",
   "metadata": {},
   "outputs": [
    {
     "name": "stdout",
     "output_type": "stream",
     "text": [
      "programming in python\n",
      "PROGRAMMING IN PYTHON\n"
     ]
    }
   ],
   "source": [
    "print(programming_in_python.lower())\n",
    "print(programming_in_python.upper())"
   ]
  },
  {
   "cell_type": "code",
   "execution_count": 94,
   "id": "42d18850-3d4b-44ad-b170-53b612179a75",
   "metadata": {},
   "outputs": [
    {
     "name": "stdout",
     "output_type": "stream",
     "text": [
      "Class of python\n"
     ]
    }
   ],
   "source": [
    "all_lowercase = \"class of python\"\n",
    "print(all_lowercase.capitalize())"
   ]
  },
  {
   "cell_type": "code",
   "execution_count": 96,
   "id": "561e7ae3-f4b3-43af-9bcf-0d88a7e1c06a",
   "metadata": {},
   "outputs": [],
   "source": [
    "# Formatting"
   ]
  },
  {
   "cell_type": "code",
   "execution_count": 98,
   "id": "ed54377d-f9e1-42b6-9dac-a43bc19f463f",
   "metadata": {},
   "outputs": [],
   "source": [
    "name = \"Belinha\"\n",
    "interger_number = 7\n",
    "decimal_number = 7.584"
   ]
  },
  {
   "cell_type": "code",
   "execution_count": 100,
   "id": "a1796c91-a05a-40aa-9455-271e881c3046",
   "metadata": {},
   "outputs": [
    {
     "name": "stdout",
     "output_type": "stream",
     "text": [
      "Hello, my name is Belinha! I'm 7 years old and 7 dollars\n"
     ]
    }
   ],
   "source": [
    "print(\"Hello, my name is %s! I'm %d years old and %d dollars\" % (name, interger_number, decimal_number))"
   ]
  },
  {
   "cell_type": "code",
   "execution_count": 102,
   "id": "adaf1f2e-f88b-426d-a9db-81f846181af4",
   "metadata": {},
   "outputs": [
    {
     "name": "stdout",
     "output_type": "stream",
     "text": [
      "Hello, my name is Belinha! I'm 7 years old and 7.584 dollars\n"
     ]
    }
   ],
   "source": [
    "print(f\"Hello, my name is {name}! I'm {interger_number} years old and {decimal_number} dollars\")"
   ]
  },
  {
   "cell_type": "code",
   "execution_count": 106,
   "id": "2e77b01e-988f-4035-a1d4-bc48a21e13be",
   "metadata": {},
   "outputs": [
    {
     "name": "stdout",
     "output_type": "stream",
     "text": [
      "Hello, my name is Belinha! I'm 7 and 7.58 dollars\n"
     ]
    }
   ],
   "source": [
    "print(\"Hello, my name is %s! I'm %d and %.2f dollars\" % (name, interger_number, decimal_number))"
   ]
  },
  {
   "cell_type": "code",
   "execution_count": null,
   "id": "5e7458e6-6776-4119-9411-7d7d20018a60",
   "metadata": {},
   "outputs": [],
   "source": []
  }
 ],
 "metadata": {
  "kernelspec": {
   "display_name": "Python 3 (ipykernel)",
   "language": "python",
   "name": "python3"
  },
  "language_info": {
   "codemirror_mode": {
    "name": "ipython",
    "version": 3
   },
   "file_extension": ".py",
   "mimetype": "text/x-python",
   "name": "python",
   "nbconvert_exporter": "python",
   "pygments_lexer": "ipython3",
   "version": "3.11.7"
  }
 },
 "nbformat": 4,
 "nbformat_minor": 5
}
