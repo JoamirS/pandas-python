{
 "cells": [
  {
   "cell_type": "code",
   "execution_count": 1,
   "id": "ba667021-5129-4abf-9d8b-950faa5a6356",
   "metadata": {},
   "outputs": [],
   "source": [
    "# Variáveis: Definição de tipos\n",
    "# Declarando 4 variáveis e atribuindo valores a elas\n",
    "a_string = \"Student\"\n",
    "an_interger = 7\n",
    "a_float = 7.584\n",
    "a_boolean = True"
   ]
  },
  {
   "cell_type": "code",
   "execution_count": 5,
   "id": "18dfaef9-b1ed-4fa7-bddc-f9a77dd829b9",
   "metadata": {},
   "outputs": [],
   "source": [
    "# Print a valor and the type of variable"
   ]
  },
  {
   "cell_type": "code",
   "execution_count": 9,
   "id": "cdb5313d-da2b-490b-bc93-d166ee8efba3",
   "metadata": {},
   "outputs": [
    {
     "name": "stdout",
     "output_type": "stream",
     "text": [
      "7.584\n",
      "<class 'float'>\n"
     ]
    }
   ],
   "source": [
    "print(a_float)\n",
    "print(type(a_float))"
   ]
  },
  {
   "cell_type": "code",
   "execution_count": 11,
   "id": "652c9a25-d6cc-4e4a-926c-bb1e9bb9ad3c",
   "metadata": {},
   "outputs": [],
   "source": [
    "# Casting: Converting a variable kind float for string"
   ]
  },
  {
   "cell_type": "code",
   "execution_count": 13,
   "id": "fc2b0f55-8515-452a-b04a-471d288eb899",
   "metadata": {},
   "outputs": [
    {
     "name": "stdout",
     "output_type": "stream",
     "text": [
      "7\n"
     ]
    }
   ],
   "source": [
    "print(int(a_float))"
   ]
  },
  {
   "cell_type": "code",
   "execution_count": 15,
   "id": "5e5468fe-19e9-4582-8e43-27e2e7d0f1ae",
   "metadata": {},
   "outputs": [
    {
     "name": "stdout",
     "output_type": "stream",
     "text": [
      "7.584\n"
     ]
    }
   ],
   "source": [
    "print(str(a_float))"
   ]
  },
  {
   "cell_type": "markdown",
   "id": "d94c3a19-fdb6-4c0c-bf23-21a45dd01bd4",
   "metadata": {},
   "source": [
    "### Arithmetic Operations"
   ]
  },
  {
   "cell_type": "code",
   "execution_count": 18,
   "id": "d63802c7-55b5-4703-a484-2d65ce248769",
   "metadata": {},
   "outputs": [],
   "source": [
    "# Sum, subtraction, multiplication, division"
   ]
  },
  {
   "cell_type": "code",
   "execution_count": 20,
   "id": "3aeeebc9-8f12-40cf-982d-07245f6f1c81",
   "metadata": {},
   "outputs": [],
   "source": [
    "result_1 = 7 + 5\n",
    "result_2 = an_interger - result_1\n",
    "result_3 = result_2 * 3\n",
    "result_4 = result_3 / 4"
   ]
  },
  {
   "cell_type": "code",
   "execution_count": 22,
   "id": "b5113b63-c07b-420e-a878-726d1e45fe67",
   "metadata": {},
   "outputs": [],
   "source": [
    "# Printing the results concatenating a string with numeric result"
   ]
  },
  {
   "cell_type": "code",
   "execution_count": 28,
   "id": "c9e43043-7010-487d-8adc-ddd28e02aa45",
   "metadata": {},
   "outputs": [
    {
     "name": "stdout",
     "output_type": "stream",
     "text": [
      "Result of sum = 12\n"
     ]
    }
   ],
   "source": [
    "print(\"Result of sum = {}\".format(str(result_1)))"
   ]
  },
  {
   "cell_type": "code",
   "execution_count": 30,
   "id": "a59a8fcf-4fa2-4f89-9398-8874e93b555f",
   "metadata": {},
   "outputs": [
    {
     "name": "stdout",
     "output_type": "stream",
     "text": [
      "Result of subtration = -5\n"
     ]
    }
   ],
   "source": [
    "print(\"Result of subtration = {}\".format(str(result_2)))"
   ]
  },
  {
   "cell_type": "code",
   "execution_count": 32,
   "id": "feebfe8c-b791-4f10-985f-59bc3f304ef7",
   "metadata": {},
   "outputs": [
    {
     "name": "stdout",
     "output_type": "stream",
     "text": [
      "Result of multiplication = -15\n"
     ]
    }
   ],
   "source": [
    "print(\"Result of multiplication = {}\".format(str(result_3)))"
   ]
  },
  {
   "cell_type": "code",
   "execution_count": 34,
   "id": "a295332c-5a46-4c4b-927b-7a87817cefb7",
   "metadata": {},
   "outputs": [
    {
     "name": "stdout",
     "output_type": "stream",
     "text": [
      "Result of division = -3.75\n"
     ]
    }
   ],
   "source": [
    "print(\"Result of division = {}\".format(str(result_4)))"
   ]
  },
  {
   "cell_type": "code",
   "execution_count": null,
   "id": "596109c2-eca3-402f-905e-b6afcbeede44",
   "metadata": {},
   "outputs": [],
   "source": []
  }
 ],
 "metadata": {
  "kernelspec": {
   "display_name": "Python 3 (ipykernel)",
   "language": "python",
   "name": "python3"
  },
  "language_info": {
   "codemirror_mode": {
    "name": "ipython",
    "version": 3
   },
   "file_extension": ".py",
   "mimetype": "text/x-python",
   "name": "python",
   "nbconvert_exporter": "python",
   "pygments_lexer": "ipython3",
   "version": "3.11.7"
  }
 },
 "nbformat": 4,
 "nbformat_minor": 5
}
