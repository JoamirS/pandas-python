{
 "cells": [
  {
   "cell_type": "markdown",
   "id": "4e474b29-d8bc-46c6-a291-56e771c1c583",
   "metadata": {},
   "source": [
    "### LEITURA E ESCRITA DE ARQUIVOS"
   ]
  },
  {
   "cell_type": "code",
   "execution_count": 6,
   "id": "62f131ee-1600-4466-a304-ba90569d9e2d",
   "metadata": {},
   "outputs": [],
   "source": [
    "naipes = ['copas', 'ouros', 'espadas', 'paus']"
   ]
  },
  {
   "cell_type": "code",
   "execution_count": 7,
   "id": "d83b5783-c95c-486c-b3f3-e8186ee80da9",
   "metadata": {},
   "outputs": [],
   "source": [
    "# write a file"
   ]
  },
  {
   "cell_type": "code",
   "execution_count": 8,
   "id": "4718a578-d1d3-433b-8aff-64957d19e19f",
   "metadata": {},
   "outputs": [],
   "source": [
    "#open a file on write mode"
   ]
  },
  {
   "cell_type": "code",
   "execution_count": 9,
   "id": "368d6ead-336f-4c8c-9861-bc509dd64255",
   "metadata": {},
   "outputs": [],
   "source": [
    "file = open(\"naipes.txt\", \"w\")"
   ]
  },
  {
   "cell_type": "code",
   "execution_count": 10,
   "id": "25fe67e8-d075-47fd-ae39-a5eeaf2f7db0",
   "metadata": {},
   "outputs": [],
   "source": [
    "# write on file"
   ]
  },
  {
   "cell_type": "code",
   "execution_count": 11,
   "id": "a18d60c3-0857-4236-898d-190fe328541e",
   "metadata": {},
   "outputs": [],
   "source": [
    "for counter in naipes:\n",
    "    file.write(counter + \"\\n\")"
   ]
  },
  {
   "cell_type": "code",
   "execution_count": 12,
   "id": "70d78d38-16ab-4f59-a5dd-6132ae6c6dcd",
   "metadata": {},
   "outputs": [],
   "source": [
    "file.close()"
   ]
  },
  {
   "cell_type": "code",
   "execution_count": 13,
   "id": "8eca8050-074a-4eea-bf44-b119673ecb24",
   "metadata": {},
   "outputs": [],
   "source": [
    "# Open file on read mode "
   ]
  },
  {
   "cell_type": "code",
   "execution_count": 14,
   "id": "35eb4925-c1f2-4503-aaee-51c25aacddb4",
   "metadata": {},
   "outputs": [],
   "source": [
    "file = open(\"naipes.txt\", \"r\")"
   ]
  },
  {
   "cell_type": "code",
   "execution_count": 15,
   "id": "47a70162-c7e8-410c-a25f-06f29d5212aa",
   "metadata": {},
   "outputs": [],
   "source": [
    "# read only the first line"
   ]
  },
  {
   "cell_type": "code",
   "execution_count": 16,
   "id": "e4602b25-7ca5-4f38-b659-fc104fc8cc9d",
   "metadata": {},
   "outputs": [
    {
     "name": "stdout",
     "output_type": "stream",
     "text": [
      "copas\n",
      "\n",
      "ouros\n",
      "\n",
      "espadas\n",
      "\n",
      "paus\n",
      "\n"
     ]
    }
   ],
   "source": [
    "for line in file.readlines():\n",
    "    print(line)"
   ]
  },
  {
   "cell_type": "code",
   "execution_count": 17,
   "id": "840f9675-5266-4de9-9f05-4e1175951bc6",
   "metadata": {},
   "outputs": [],
   "source": [
    "file.close()"
   ]
  },
  {
   "cell_type": "code",
   "execution_count": null,
   "id": "ade0e8c1-0345-4918-bdf2-3a407e6f6c26",
   "metadata": {},
   "outputs": [],
   "source": []
  }
 ],
 "metadata": {
  "kernelspec": {
   "display_name": "Python 3 (ipykernel)",
   "language": "python",
   "name": "python3"
  },
  "language_info": {
   "codemirror_mode": {
    "name": "ipython",
    "version": 3
   },
   "file_extension": ".py",
   "mimetype": "text/x-python",
   "name": "python",
   "nbconvert_exporter": "python",
   "pygments_lexer": "ipython3",
   "version": "3.11.7"
  }
 },
 "nbformat": 4,
 "nbformat_minor": 5
}
