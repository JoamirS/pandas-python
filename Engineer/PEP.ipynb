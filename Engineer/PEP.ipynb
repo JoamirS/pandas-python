{
 "cells": [
  {
   "cell_type": "code",
   "execution_count": 1,
   "id": "9b9d07cc-fc09-4cc1-b84c-6ef7471d49be",
   "metadata": {},
   "outputs": [
    {
     "name": "stdout",
     "output_type": "stream",
     "text": [
      "The Zen of Python, by Tim Peters\n",
      "\n",
      "Beautiful is better than ugly.\n",
      "Explicit is better than implicit.\n",
      "Simple is better than complex.\n",
      "Complex is better than complicated.\n",
      "Flat is better than nested.\n",
      "Sparse is better than dense.\n",
      "Readability counts.\n",
      "Special cases aren't special enough to break the rules.\n",
      "Although practicality beats purity.\n",
      "Errors should never pass silently.\n",
      "Unless explicitly silenced.\n",
      "In the face of ambiguity, refuse the temptation to guess.\n",
      "There should be one-- and preferably only one --obvious way to do it.\n",
      "Although that way may not be obvious at first unless you're Dutch.\n",
      "Now is better than never.\n",
      "Although never is often better than *right* now.\n",
      "If the implementation is hard to explain, it's a bad idea.\n",
      "If the implementation is easy to explain, it may be a good idea.\n",
      "Namespaces are one honking great idea -- let's do more of those!\n"
     ]
    }
   ],
   "source": [
    "import this"
   ]
  },
  {
   "cell_type": "code",
   "execution_count": 2,
   "id": "cb221607-a73c-40c3-ad6f-0115010a4284",
   "metadata": {},
   "outputs": [],
   "source": [
    "variable_test = 'Isso é um teste \\\n",
    "        continuando'"
   ]
  },
  {
   "cell_type": "code",
   "execution_count": 4,
   "id": "464f786e-0227-4318-862a-c2da3f386a58",
   "metadata": {},
   "outputs": [
    {
     "name": "stdout",
     "output_type": "stream",
     "text": [
      "Isso é um teste         continuando\n"
     ]
    }
   ],
   "source": [
    "print(variable_test)"
   ]
  },
  {
   "cell_type": "code",
   "execution_count": 8,
   "id": "7ec9af7c-11fb-48ba-bc27-278796a65c76",
   "metadata": {},
   "outputs": [],
   "source": [
    "# Linhas de  comentários  e docstrings devem ter no máximo 72 caracteres"
   ]
  },
  {
   "cell_type": "code",
   "execution_count": 10,
   "id": "4696802a-21fc-4dc2-a5e5-2e9026e98f48",
   "metadata": {},
   "outputs": [],
   "source": [
    "# Use frases completas para comentários, sempre começando com uma letra maiúscula"
   ]
  },
  {
   "cell_type": "code",
   "execution_count": 12,
   "id": "232fbc58-6d6b-4ea0-8af1-981a1bb5f3c0",
   "metadata": {},
   "outputs": [],
   "source": [
    "# Atualize os comentários sempre que alterar o seu código"
   ]
  },
  {
   "cell_type": "code",
   "execution_count": 14,
   "id": "e3eae837-143c-4420-b4b0-8e5d11584070",
   "metadata": {},
   "outputs": [],
   "source": [
    "# Use  blocos  de  comentário  para  documentar  as  seções  do seu  código  e  ajudar  outros  programadores  a compreenderem  seu  propósito  e  funcionalidade"
   ]
  }
 ],
 "metadata": {
  "kernelspec": {
   "display_name": "Python 3 (ipykernel)",
   "language": "python",
   "name": "python3"
  },
  "language_info": {
   "codemirror_mode": {
    "name": "ipython",
    "version": 3
   },
   "file_extension": ".py",
   "mimetype": "text/x-python",
   "name": "python",
   "nbconvert_exporter": "python",
   "pygments_lexer": "ipython3",
   "version": "3.11.7"
  }
 },
 "nbformat": 4,
 "nbformat_minor": 5
}
