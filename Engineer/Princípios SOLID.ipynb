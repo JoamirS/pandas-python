{
 "cells": [
  {
   "cell_type": "markdown",
   "id": "52822e9b-d4b4-4091-b7ab-8acd816df315",
   "metadata": {},
   "source": [
    "### Princípio de Responsabilidade Única (SRP)"
   ]
  },
  {
   "cell_type": "code",
   "execution_count": 3,
   "id": "5e49c140-e06e-4959-8cce-a18accca7eae",
   "metadata": {},
   "outputs": [],
   "source": [
    "class Animal:\n",
    "    def __init__(self, name):\n",
    "        self.__name = name\n",
    "\n",
    "    def get_name(self):\n",
    "        return self.__name\n",
    "\n",
    "class AnimalDAO:\n",
    "    def save_db(self, animal: Animal):\n",
    "        # Save Animal in database\n",
    "        pass"
   ]
  },
  {
   "cell_type": "markdown",
   "id": "5a8ab623-d7eb-4b8f-9ef7-f374d75a52d2",
   "metadata": {},
   "source": [
    "### Princípio Aberto / Fechado (OCP)"
   ]
  },
  {
   "cell_type": "code",
   "execution_count": 6,
   "id": "62b3f4db-d216-44c6-80e5-7c09f4b99a83",
   "metadata": {},
   "outputs": [],
   "source": [
    "class Animal:\n",
    "    def __init__(self, name):\n",
    "        self.__name = name\n",
    "\n",
    "    def get_name(self):\n",
    "        return self.__name\n",
    "\n",
    "    def make_sound(self):\n",
    "        pass\n",
    "\n",
    "\n",
    "class Dog(Animal):\n",
    "    def make_sound(self):\n",
    "        print(\"Au Au\")\n",
    "\n",
    "\n",
    "class Cat(Animal):\n",
    "    def make_sound(self):\n",
    "        print('Miau')"
   ]
  },
  {
   "cell_type": "markdown",
   "id": "60e80804-fa66-440f-bb33-798370983d82",
   "metadata": {},
   "source": [
    "### Princípio da Substituição de Liskov (LSP)"
   ]
  },
  {
   "cell_type": "code",
   "execution_count": 9,
   "id": "6c0ef459-ff27-4800-b01a-dc7379e75138",
   "metadata": {},
   "outputs": [],
   "source": [
    "class Animal:\n",
    "    def make_soud(self):\n",
    "        pass\n",
    "\n",
    "\n",
    "class Dog(Animal):\n",
    "    def make_soud(self):\n",
    "        self.__yap()\n",
    "\n",
    "    def __yap(self):\n",
    "        print('Au au')\n",
    "\n",
    "\n",
    "class Cat(Animal):\n",
    "    def make_sound(self):\n",
    "        self.__meow()\n",
    "\n",
    "\n",
    "    def __meow(self):\n",
    "        print('Miau')\n",
    "\n",
    "\n",
    "class Owner:\n",
    "    def to_stroll(self, animal: Animal):\n",
    "        animal.make_soud()"
   ]
  },
  {
   "cell_type": "markdown",
   "id": "f820c556-b48e-4b2d-8038-e4ea45e72b53",
   "metadata": {},
   "source": [
    "### Princípio da Segregação de Interfaces (ISP)"
   ]
  },
  {
   "cell_type": "code",
   "execution_count": 12,
   "id": "3013976d-5626-4cc7-a5c6-bddc76c1f336",
   "metadata": {},
   "outputs": [],
   "source": [
    "class Printer:\n",
    "    def print_printer(self):\n",
    "        pass\n",
    "\n",
    "\n",
    "class Digitizer:\n",
    "    def scans(self):\n",
    "        pass\n",
    "\n",
    "\n",
    "class Fax:\n",
    "    def send_fax(self):\n",
    "        pass\n",
    "\n",
    "\n",
    "class MultifunctionPrinter(Printer, Digitizer, Fax):\n",
    "    def print_printer(self):\n",
    "        pass\n",
    "\n",
    "\n",
    "    def scan_something(self):\n",
    "        pass\n",
    "\n",
    "\n",
    "    def send_fax(self):\n",
    "        pass"
   ]
  },
  {
   "cell_type": "code",
   "execution_count": 14,
   "id": "0cc61da1-b61d-4b2b-a3b4-f6e68b6802c8",
   "metadata": {},
   "outputs": [],
   "source": [
    "class DefaultPrinter(Printer):\n",
    "    def print_printer(self):\n",
    "        pass"
   ]
  },
  {
   "cell_type": "markdown",
   "id": "52c26ceb-14b1-48aa-81fa-c7e972a98d08",
   "metadata": {},
   "source": [
    "### Princípio da Inversão de Dependências (DIP)"
   ]
  },
  {
   "cell_type": "code",
   "execution_count": 19,
   "id": "d6b6220b-acb9-40e9-ac26-58b358382454",
   "metadata": {},
   "outputs": [],
   "source": [
    "class Animal:\n",
    "    def make_sound(self):\n",
    "        pass\n",
    "\n",
    "\n",
    "class Dog(Animal):\n",
    "    def make_sound(self):\n",
    "        self.latir()\n",
    "\n",
    "    def latir(self):\n",
    "        print('Au au')\n",
    "\n",
    "\n",
    "class Cat(Animal):\n",
    "    def make_sound(self):\n",
    "        self.miar()\n",
    "\n",
    "    def miar(self):\n",
    "        print('Miau')\n",
    "\n",
    "\n",
    "class Owner:\n",
    "    def to_stroll(self, animal: Animal):\n",
    "        animal.make_sound()"
   ]
  },
  {
   "cell_type": "code",
   "execution_count": null,
   "id": "9e0da47f-e3bc-4b6e-a47c-3ee2549e5bbe",
   "metadata": {},
   "outputs": [],
   "source": []
  }
 ],
 "metadata": {
  "kernelspec": {
   "display_name": "Python 3 (ipykernel)",
   "language": "python",
   "name": "python3"
  },
  "language_info": {
   "codemirror_mode": {
    "name": "ipython",
    "version": 3
   },
   "file_extension": ".py",
   "mimetype": "text/x-python",
   "name": "python",
   "nbconvert_exporter": "python",
   "pygments_lexer": "ipython3",
   "version": "3.11.7"
  }
 },
 "nbformat": 4,
 "nbformat_minor": 5
}
