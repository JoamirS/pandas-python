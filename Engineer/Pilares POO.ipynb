{
 "cells": [
  {
   "cell_type": "markdown",
   "id": "8b0a5397-c8a9-47a9-9478-e3e7c87d72a6",
   "metadata": {},
   "source": [
    "## Os 4 pilares da orientação a objetos"
   ]
  },
  {
   "cell_type": "code",
   "execution_count": 2,
   "id": "645d72e1-5032-4705-8bca-8a7c2989c4ad",
   "metadata": {},
   "outputs": [],
   "source": [
    "# Encapsulamento"
   ]
  },
  {
   "cell_type": "code",
   "execution_count": 3,
   "id": "c3b31319-0bd7-484a-b096-0c0d6a45e622",
   "metadata": {},
   "outputs": [
    {
     "data": {
      "text/plain": [
       "1234"
      ]
     },
     "execution_count": 3,
     "metadata": {},
     "output_type": "execute_result"
    }
   ],
   "source": [
    "class Account:\n",
    "    def __init__(self, number, balance):\n",
    "        self.number = number\n",
    "        self.__balance = balance\n",
    "\n",
    "\n",
    "account_01 = Account(1234, 700.84)\n",
    "account_01.number"
   ]
  },
  {
   "cell_type": "code",
   "execution_count": 12,
   "id": "d6f585ce-24d9-4519-980c-ab8bb69024e6",
   "metadata": {},
   "outputs": [
    {
     "ename": "AttributeError",
     "evalue": "'Account' object has no attribute '__balance'",
     "output_type": "error",
     "traceback": [
      "\u001b[1;31m---------------------------------------------------------------------------\u001b[0m",
      "\u001b[1;31mAttributeError\u001b[0m                            Traceback (most recent call last)",
      "Cell \u001b[1;32mIn[12], line 1\u001b[0m\n\u001b[1;32m----> 1\u001b[0m account_01\u001b[38;5;241m.\u001b[39m__balance\n",
      "\u001b[1;31mAttributeError\u001b[0m: 'Account' object has no attribute '__balance'"
     ]
    }
   ],
   "source": [
    "account_01.__balance"
   ]
  },
  {
   "cell_type": "code",
   "execution_count": 14,
   "id": "1c5d1588-dca4-4bbb-8c07-28e79736ea0c",
   "metadata": {},
   "outputs": [],
   "source": [
    "# Má prática"
   ]
  },
  {
   "cell_type": "code",
   "execution_count": 16,
   "id": "1ac1be36-8578-4fe6-a445-2c71436fe432",
   "metadata": {},
   "outputs": [
    {
     "data": {
      "text/plain": [
       "700.84"
      ]
     },
     "execution_count": 16,
     "metadata": {},
     "output_type": "execute_result"
    }
   ],
   "source": [
    "account_01._Account__balance"
   ]
  },
  {
   "cell_type": "code",
   "execution_count": 18,
   "id": "369aa176-83f5-48bb-a423-01e9bbca3485",
   "metadata": {},
   "outputs": [
    {
     "data": {
      "text/plain": [
       "['_Account__balance',\n",
       " '__class__',\n",
       " '__delattr__',\n",
       " '__dict__',\n",
       " '__dir__',\n",
       " '__doc__',\n",
       " '__eq__',\n",
       " '__format__',\n",
       " '__ge__',\n",
       " '__getattribute__',\n",
       " '__getstate__',\n",
       " '__gt__',\n",
       " '__hash__',\n",
       " '__init__',\n",
       " '__init_subclass__',\n",
       " '__le__',\n",
       " '__lt__',\n",
       " '__module__',\n",
       " '__ne__',\n",
       " '__new__',\n",
       " '__reduce__',\n",
       " '__reduce_ex__',\n",
       " '__repr__',\n",
       " '__setattr__',\n",
       " '__sizeof__',\n",
       " '__str__',\n",
       " '__subclasshook__',\n",
       " '__weakref__',\n",
       " 'number']"
      ]
     },
     "execution_count": 18,
     "metadata": {},
     "output_type": "execute_result"
    }
   ],
   "source": [
    "dir(account_01)"
   ]
  },
  {
   "cell_type": "code",
   "execution_count": 20,
   "id": "aa5577a7-0f24-412e-952f-58f299c4e386",
   "metadata": {},
   "outputs": [],
   "source": [
    "account_01.__balance = 1000"
   ]
  },
  {
   "cell_type": "code",
   "execution_count": 22,
   "id": "193196a6-1670-4a3f-8e1b-3b45549efe3e",
   "metadata": {},
   "outputs": [
    {
     "data": {
      "text/plain": [
       "700.84"
      ]
     },
     "execution_count": 22,
     "metadata": {},
     "output_type": "execute_result"
    }
   ],
   "source": [
    "account_01._Account__balance"
   ]
  },
  {
   "cell_type": "code",
   "execution_count": 24,
   "id": "72b90b9e-05a6-44e6-b2be-53f2cf9b5629",
   "metadata": {},
   "outputs": [
    {
     "data": {
      "text/plain": [
       "['_Account__balance',\n",
       " '__balance',\n",
       " '__class__',\n",
       " '__delattr__',\n",
       " '__dict__',\n",
       " '__dir__',\n",
       " '__doc__',\n",
       " '__eq__',\n",
       " '__format__',\n",
       " '__ge__',\n",
       " '__getattribute__',\n",
       " '__getstate__',\n",
       " '__gt__',\n",
       " '__hash__',\n",
       " '__init__',\n",
       " '__init_subclass__',\n",
       " '__le__',\n",
       " '__lt__',\n",
       " '__module__',\n",
       " '__ne__',\n",
       " '__new__',\n",
       " '__reduce__',\n",
       " '__reduce_ex__',\n",
       " '__repr__',\n",
       " '__setattr__',\n",
       " '__sizeof__',\n",
       " '__str__',\n",
       " '__subclasshook__',\n",
       " '__weakref__',\n",
       " 'number']"
      ]
     },
     "execution_count": 24,
     "metadata": {},
     "output_type": "execute_result"
    }
   ],
   "source": [
    "dir(account_01)"
   ]
  },
  {
   "cell_type": "code",
   "execution_count": 26,
   "id": "e2751cea-b7f6-487f-a56d-11ebc859de32",
   "metadata": {},
   "outputs": [
    {
     "data": {
      "text/plain": [
       "500.1"
      ]
     },
     "execution_count": 26,
     "metadata": {},
     "output_type": "execute_result"
    }
   ],
   "source": [
    "class Account:\n",
    "    def __init__(self, number, balance):\n",
    "        self.__number = number\n",
    "        self.__balance = balance\n",
    "\n",
    "\n",
    "    def query_balance(self):\n",
    "        return self.__balance\n",
    "\n",
    "\n",
    "account_01 = Account(1000, 500.10)\n",
    "account_01.query_balance()"
   ]
  },
  {
   "cell_type": "code",
   "execution_count": 28,
   "id": "a287c47a-c92f-43c7-838a-b695d6d4fb78",
   "metadata": {},
   "outputs": [],
   "source": [
    "# Heritage"
   ]
  },
  {
   "cell_type": "code",
   "execution_count": 54,
   "id": "d2918f30-aa16-4992-82d5-e14eae19c654",
   "metadata": {},
   "outputs": [],
   "source": [
    "class Person:\n",
    "    def __init__(self, name, login, password):\n",
    "        self.__name = name\n",
    "        self.__login = login\n",
    "        self.__password = password\n",
    "\n",
    "    def query_name(self):\n",
    "        return self.__name"
   ]
  },
  {
   "cell_type": "markdown",
   "id": "a2bfb2c5-06f3-4702-8e33-3bbef667ac3d",
   "metadata": {},
   "source": [
    "'''\n",
    "Como  boa  prática,  os  atributos  de\n",
    "instância  são  non-public  e  a  maioria  dos  métodos,  public.  Isso\n",
    "possibilita  que  a  conversa  entre  objetos  seja  feita  por  troca  de\n",
    "mensagens'''"
   ]
  },
  {
   "cell_type": "code",
   "execution_count": 59,
   "id": "345ecc0a-4051-45a8-aaa8-f851616b3a00",
   "metadata": {},
   "outputs": [],
   "source": [
    "class Student(Person):\n",
    "    def __init__(self, name, login, password, course):\n",
    "        Person.__init__(self, name, login, password)\n",
    "        self.__course = course\n",
    "\n",
    "\n",
    "    def query_course(self):\n",
    "        return self.__course"
   ]
  },
  {
   "cell_type": "code",
   "execution_count": 61,
   "id": "b8a3163f-5a2e-4d7d-a90a-007fb14ba608",
   "metadata": {},
   "outputs": [],
   "source": [
    "class Teacher(Person):\n",
    "    def __init__(self, name, login, password, titration):\n",
    "        Person.__init__(self, name, login, password)\n",
    "        self.__titration = titration\n",
    "\n",
    "\n",
    "    def query_titration(self):\n",
    "        return self.__titration"
   ]
  },
  {
   "cell_type": "code",
   "execution_count": 63,
   "id": "3888c36f-a059-4d50-97be-e0720576020e",
   "metadata": {},
   "outputs": [
    {
     "name": "stdout",
     "output_type": "stream",
     "text": [
      "Maria\n"
     ]
    }
   ],
   "source": [
    "person_02 = Person('Maria', 'Mary', 'maria123')\n",
    "print(person_02.query_name())"
   ]
  },
  {
   "cell_type": "code",
   "execution_count": 65,
   "id": "610a55e3-122e-479a-89be-f3e98502e955",
   "metadata": {},
   "outputs": [
    {
     "name": "stdout",
     "output_type": "stream",
     "text": [
      "Paulo\n",
      "IT\n"
     ]
    }
   ],
   "source": [
    "student_01 = Student('Paulo', 'Paul', 'p456', 'IT')\n",
    "print(student_01.query_name())\n",
    "print(student_01.query_course())"
   ]
  },
  {
   "cell_type": "code",
   "execution_count": 67,
   "id": "d98dc655-91ac-4ace-b19f-672378f43cdd",
   "metadata": {},
   "outputs": [
    {
     "name": "stdout",
     "output_type": "stream",
     "text": [
      "Tatiana\n",
      "Doutorado\n"
     ]
    }
   ],
   "source": [
    "teacher_01 = Teacher('Tatiana', 'titi', 'tata879', 'Doutorado')\n",
    "print(teacher_01.query_name())\n",
    "print(teacher_01.query_titration())"
   ]
  },
  {
   "cell_type": "code",
   "execution_count": 69,
   "id": "8575f46f-9625-4338-afd8-afa50535d0a7",
   "metadata": {},
   "outputs": [],
   "source": [
    "# Polymorphism"
   ]
  },
  {
   "cell_type": "markdown",
   "id": "0d01861d-c6e1-4b54-84f3-718fd2422554",
   "metadata": {},
   "source": [
    "'''polimorfismo permite que um método seja definido em uma classe base, mas que tenha diferentes implementações em suas subclasses, permitindo que o mesmo método possa ser chamado de diferentes formas dependendo do objeto que o utiliza.'''"
   ]
  },
  {
   "cell_type": "code",
   "execution_count": 72,
   "id": "16449801-6b25-465c-a172-dfff1be0c27c",
   "metadata": {},
   "outputs": [],
   "source": [
    "class IntoUniversity:\n",
    "\n",
    "    def __init__(self):\n",
    "        pass\n",
    "\n",
    "    def allow_entry(self, person):\n",
    "        print('Pode entrar, ' + person_02.query_name())"
   ]
  },
  {
   "cell_type": "code",
   "execution_count": 74,
   "id": "beacf916-c6f3-44be-a0c2-633a929f6d52",
   "metadata": {},
   "outputs": [],
   "source": [
    "into_test = IntoUniversity()"
   ]
  },
  {
   "cell_type": "code",
   "execution_count": 76,
   "id": "2bdb2753-4b8e-4720-be40-8e758ecb934b",
   "metadata": {},
   "outputs": [
    {
     "name": "stdout",
     "output_type": "stream",
     "text": [
      "Pode entrar, Maria\n"
     ]
    }
   ],
   "source": [
    "into_test.allow_entry(teacher_01)"
   ]
  },
  {
   "cell_type": "code",
   "execution_count": 80,
   "id": "9190d2b3-e446-4c05-a386-da3237c92cae",
   "metadata": {},
   "outputs": [],
   "source": [
    "class Coordinator(Person):\n",
    "    def __init__(self, name, login, password):\n",
    "        Person.__init__(self, name, login, password)"
   ]
  },
  {
   "cell_type": "code",
   "execution_count": 82,
   "id": "2ff950a4-787f-463e-9217-b56736a158cc",
   "metadata": {},
   "outputs": [],
   "source": [
    "coordinator_01 = Coordinator('Joamir', 'crowntoyota', 'tacoma')"
   ]
  },
  {
   "cell_type": "code",
   "execution_count": 86,
   "id": "22aa7bcf-bd00-4f44-96ba-e885b8e56086",
   "metadata": {},
   "outputs": [
    {
     "name": "stdout",
     "output_type": "stream",
     "text": [
      "Pode entrar, Maria\n"
     ]
    }
   ],
   "source": [
    "into_test.allow_entry(coordinator_01)"
   ]
  },
  {
   "cell_type": "code",
   "execution_count": 90,
   "id": "7d1bc455-f6dc-46ba-b5a5-1672e4c2f0dc",
   "metadata": {},
   "outputs": [],
   "source": [
    "class Animal:\n",
    "    def sound(self):\n",
    "        pass\n",
    "\n",
    "\n",
    "class Dog(Animal):\n",
    "    def sound(self):\n",
    "        return 'Woof!'\n",
    "\n",
    "\n",
    "class Cat(Animal):\n",
    "    def sound(self):\n",
    "        return 'Meow!'"
   ]
  },
  {
   "cell_type": "code",
   "execution_count": 92,
   "id": "fd216a53-40de-4f6c-9ba9-e9d64f22224b",
   "metadata": {},
   "outputs": [],
   "source": [
    "# Abstraction"
   ]
  },
  {
   "cell_type": "code",
   "execution_count": 94,
   "id": "2f7cfc2e-e276-4668-a31a-5ae7e93e01e0",
   "metadata": {},
   "outputs": [],
   "source": [
    "import abc"
   ]
  },
  {
   "cell_type": "code",
   "execution_count": 96,
   "id": "dc23a679-9ba5-4c11-8387-069905240a02",
   "metadata": {},
   "outputs": [],
   "source": [
    "class Person(abc.ABC):\n",
    "\n",
    "    def __init__(self, name, login, password):\n",
    "        self.name = name\n",
    "        self.login = login\n",
    "        self.password = password\n",
    "\n",
    "\n",
    "    @abc.abstractmethod\n",
    "    def query_name(self):\n",
    "        raise NotImplementedError()"
   ]
  },
  {
   "cell_type": "code",
   "execution_count": 98,
   "id": "7c90b25d-6dbc-43cd-ab30-80b6a3b34b2d",
   "metadata": {},
   "outputs": [
    {
     "ename": "TypeError",
     "evalue": "Can't instantiate abstract class Person with abstract method query_name",
     "output_type": "error",
     "traceback": [
      "\u001b[1;31m---------------------------------------------------------------------------\u001b[0m",
      "\u001b[1;31mTypeError\u001b[0m                                 Traceback (most recent call last)",
      "Cell \u001b[1;32mIn[98], line 1\u001b[0m\n\u001b[1;32m----> 1\u001b[0m person_03 \u001b[38;5;241m=\u001b[39m Person()\n",
      "\u001b[1;31mTypeError\u001b[0m: Can't instantiate abstract class Person with abstract method query_name"
     ]
    }
   ],
   "source": [
    "person_03 = Person()"
   ]
  },
  {
   "cell_type": "code",
   "execution_count": 100,
   "id": "f4fb2b58-415c-46d6-9ea5-35474ae32f6e",
   "metadata": {},
   "outputs": [],
   "source": [
    "# Association"
   ]
  },
  {
   "cell_type": "code",
   "execution_count": 110,
   "id": "9c110b79-6917-45a9-8f47-3dff339dea7a",
   "metadata": {},
   "outputs": [],
   "source": [
    "class Student(Person):\n",
    "    def __init__(self, name, login, password, course, supervising_teacher):\n",
    "        Person.__init__(self, name, login, password)\n",
    "        self.__course = course\n",
    "        self.__supervising_teacher = supervising_teacher\n",
    "\n",
    "    def query_course(self):\n",
    "        return self.__course\n",
    "\n",
    "    def query_supervising_teacher(self):\n",
    "        return self.__supervising_teacher\n",
    "\n",
    "    def query_name(self):\n",
    "        return self.name"
   ]
  },
  {
   "cell_type": "code",
   "execution_count": 112,
   "id": "0d04d8cb-3e9c-463e-98cd-f5773b7c9bf7",
   "metadata": {},
   "outputs": [],
   "source": [
    "teacher_02 = Teacher('Joamir', 'moraes', 'swenden2027', 'Doctor')"
   ]
  },
  {
   "cell_type": "code",
   "execution_count": 114,
   "id": "aa67913e-1d00-42ae-9bfd-9a01d6aa23df",
   "metadata": {},
   "outputs": [],
   "source": [
    "student_02 = Student('Isabela', 'isa', 'norway', 'Engineer', teacher_02)"
   ]
  },
  {
   "cell_type": "code",
   "execution_count": null,
   "id": "7aa45fce-7817-4c7e-b5b0-3f3b3b1924f2",
   "metadata": {},
   "outputs": [],
   "source": []
  }
 ],
 "metadata": {
  "kernelspec": {
   "display_name": "Python 3 (ipykernel)",
   "language": "python",
   "name": "python3"
  },
  "language_info": {
   "codemirror_mode": {
    "name": "ipython",
    "version": 3
   },
   "file_extension": ".py",
   "mimetype": "text/x-python",
   "name": "python",
   "nbconvert_exporter": "python",
   "pygments_lexer": "ipython3",
   "version": "3.11.7"
  }
 },
 "nbformat": 4,
 "nbformat_minor": 5
}
