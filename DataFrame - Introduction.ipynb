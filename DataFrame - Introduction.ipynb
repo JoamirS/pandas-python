{
 "cells": [
  {
   "cell_type": "code",
   "execution_count": 1,
   "id": "43dbf9de",
   "metadata": {},
   "outputs": [],
   "source": [
    "import pandas as pd"
   ]
  },
  {
   "cell_type": "markdown",
   "id": "7a3bf171",
   "metadata": {},
   "source": [
    "O DataFrame  é  um dicionário de Series, todas do mesmo tamanho ( size ). Tanto as\n",
    "suas linhas como as suas colunas podem ser indexadas e rotuladas"
   ]
  },
  {
   "cell_type": "code",
   "execution_count": 2,
   "id": "24161e9c",
   "metadata": {},
   "outputs": [],
   "source": [
    "data = {'name': ['Argentina', 'Brasil', 'França', 'Itália', 'Reino Unido'],\n",
    "       'continente': ['América', 'América', 'Europa', 'Europa', 'Europa'],\n",
    "       'extensao': [2780, 8511, 644, 301, 244],\n",
    "       'corVerde': [0, 1, 0, 1, 0]}"
   ]
  },
  {
   "cell_type": "code",
   "execution_count": 3,
   "id": "3dfe0ccd",
   "metadata": {},
   "outputs": [],
   "source": [
    "acronym = ['AR', 'BR', 'FR', 'IT', 'UK']"
   ]
  },
  {
   "cell_type": "code",
   "execution_count": 4,
   "id": "e7304d85",
   "metadata": {},
   "outputs": [],
   "source": [
    "countries = pd.DataFrame(data, index=acronym)"
   ]
  },
  {
   "cell_type": "code",
   "execution_count": 5,
   "id": "b6a04951",
   "metadata": {},
   "outputs": [
    {
     "name": "stdout",
     "output_type": "stream",
     "text": [
      "           name continente  extensao  corVerde\n",
      "AR    Argentina    América      2780         0\n",
      "BR       Brasil    América      8511         1\n",
      "FR       França     Europa       644         0\n",
      "IT       Itália     Europa       301         1\n",
      "UK  Reino Unido     Europa       244         0\n"
     ]
    }
   ],
   "source": [
    "print(countries)"
   ]
  },
  {
   "cell_type": "code",
   "execution_count": 6,
   "id": "01cadf71",
   "metadata": {},
   "outputs": [
    {
     "name": "stdout",
     "output_type": "stream",
     "text": [
      "--------\n",
      "Número de linhas: 5\n",
      "Numero de colunas 4\n",
      "Rótulo das linhas Index(['AR', 'BR', 'FR', 'IT', 'UK'], dtype='object')\n",
      "Rótulos das colunas Index(['name', 'continente', 'extensao', 'corVerde'], dtype='object')\n",
      "Tipo (type): <class 'pandas.core.frame.DataFrame'>\n",
      "Dtypes das colunas:\n",
      " name          object\n",
      "continente    object\n",
      "extensao       int64\n",
      "corVerde       int64\n",
      "dtype: object\n",
      "Dtypes dos rótulos das linhas: object\n"
     ]
    }
   ],
   "source": [
    "print('--------')\n",
    "number_lines = countries.shape[0]\n",
    "number_columns = countries.shape[1]\n",
    "index_countries = countries.index\n",
    "columns = countries.columns\n",
    "countries_type = type(countries)\n",
    "countries_dtypes = countries.dtypes\n",
    "countries_idx_dtype = countries.index.dtype\n",
    "\n",
    "print('Número de linhas:', number_lines)\n",
    "print('Numero de colunas', number_columns)\n",
    "print('Rótulo das linhas', index_countries)\n",
    "print('Rótulos das colunas', columns)\n",
    "print('Tipo (type):', countries_type)\n",
    "print('Dtypes das colunas:\\n', countries_dtypes)\n",
    "print('Dtypes dos rótulos das linhas:', countries_idx_dtype)"
   ]
  },
  {
   "cell_type": "markdown",
   "id": "4be5c8ba",
   "metadata": {},
   "source": [
    "#### Indexação básica de células\n",
    "<img src=\"Consulta_e_modificacao_dos_dados.png\">"
   ]
  },
  {
   "cell_type": "code",
   "execution_count": 7,
   "id": "eca55be6",
   "metadata": {},
   "outputs": [
    {
     "data": {
      "text/plain": [
       "'Brasil'"
      ]
     },
     "execution_count": 7,
     "metadata": {},
     "output_type": "execute_result"
    }
   ],
   "source": [
    "countries.iloc[1][0]"
   ]
  },
  {
   "cell_type": "code",
   "execution_count": 8,
   "id": "4d205ee1",
   "metadata": {},
   "outputs": [
    {
     "data": {
      "text/plain": [
       "'Reino Unido'"
      ]
     },
     "execution_count": 8,
     "metadata": {},
     "output_type": "execute_result"
    }
   ],
   "source": [
    "countries.iloc[4][0]"
   ]
  },
  {
   "cell_type": "code",
   "execution_count": 9,
   "id": "1c48b09a",
   "metadata": {},
   "outputs": [
    {
     "data": {
      "text/plain": [
       "'Europa'"
      ]
     },
     "execution_count": 9,
     "metadata": {},
     "output_type": "execute_result"
    }
   ],
   "source": [
    "countries.iat[3, 1]"
   ]
  },
  {
   "cell_type": "code",
   "execution_count": 10,
   "id": "c7bfb117",
   "metadata": {},
   "outputs": [
    {
     "data": {
      "text/plain": [
       "1"
      ]
     },
     "execution_count": 10,
     "metadata": {},
     "output_type": "execute_result"
    }
   ],
   "source": [
    "countries.iloc[3]['corVerde']"
   ]
  },
  {
   "cell_type": "code",
   "execution_count": 11,
   "id": "09201b03",
   "metadata": {},
   "outputs": [
    {
     "data": {
      "text/plain": [
       "'Brasil'"
      ]
     },
     "execution_count": 11,
     "metadata": {},
     "output_type": "execute_result"
    }
   ],
   "source": [
    "countries.loc['BR'][0]"
   ]
  },
  {
   "cell_type": "code",
   "execution_count": 12,
   "id": "b453c617",
   "metadata": {},
   "outputs": [
    {
     "data": {
      "text/plain": [
       "'França'"
      ]
     },
     "execution_count": 12,
     "metadata": {},
     "output_type": "execute_result"
    }
   ],
   "source": [
    "countries.loc['FR']['name']"
   ]
  },
  {
   "cell_type": "code",
   "execution_count": 13,
   "id": "bb501d1d",
   "metadata": {},
   "outputs": [
    {
     "data": {
      "text/plain": [
       "'França'"
      ]
     },
     "execution_count": 13,
     "metadata": {},
     "output_type": "execute_result"
    }
   ],
   "source": [
    "countries.at['FR', 'name']"
   ]
  },
  {
   "cell_type": "code",
   "execution_count": 15,
   "id": "5ed0ed92",
   "metadata": {},
   "outputs": [
    {
     "data": {
      "text/plain": [
       "AR      Argentina\n",
       "BR         Brasil\n",
       "FR         França\n",
       "IT         Itália\n",
       "UK    Reino Unido\n",
       "Name: name, dtype: object"
      ]
     },
     "execution_count": 15,
     "metadata": {},
     "output_type": "execute_result"
    }
   ],
   "source": [
    "countries['name']"
   ]
  },
  {
   "cell_type": "code",
   "execution_count": 16,
   "id": "53b75447",
   "metadata": {},
   "outputs": [
    {
     "data": {
      "text/plain": [
       "AR      Argentina\n",
       "BR         Brasil\n",
       "FR         França\n",
       "IT         Itália\n",
       "UK    Reino Unido\n",
       "Name: name, dtype: object"
      ]
     },
     "execution_count": 16,
     "metadata": {},
     "output_type": "execute_result"
    }
   ],
   "source": [
    "countries.name"
   ]
  },
  {
   "cell_type": "code",
   "execution_count": 18,
   "id": "4d059979",
   "metadata": {},
   "outputs": [
    {
     "data": {
      "text/plain": [
       "name           Brasil\n",
       "continente    América\n",
       "extensao         8511\n",
       "corVerde            1\n",
       "Name: BR, dtype: object"
      ]
     },
     "execution_count": 18,
     "metadata": {},
     "output_type": "execute_result"
    }
   ],
   "source": [
    "countries.loc['BR']"
   ]
  },
  {
   "cell_type": "code",
   "execution_count": 19,
   "id": "6579cae4",
   "metadata": {},
   "outputs": [
    {
     "data": {
      "text/plain": [
       "name          França\n",
       "continente    Europa\n",
       "extensao         644\n",
       "corVerde           0\n",
       "Name: FR, dtype: object"
      ]
     },
     "execution_count": 19,
     "metadata": {},
     "output_type": "execute_result"
    }
   ],
   "source": [
    "countries.iloc[2]"
   ]
  },
  {
   "cell_type": "code",
   "execution_count": 20,
   "id": "3f288b11",
   "metadata": {},
   "outputs": [
    {
     "data": {
      "text/html": [
       "<div>\n",
       "<style scoped>\n",
       "    .dataframe tbody tr th:only-of-type {\n",
       "        vertical-align: middle;\n",
       "    }\n",
       "\n",
       "    .dataframe tbody tr th {\n",
       "        vertical-align: top;\n",
       "    }\n",
       "\n",
       "    .dataframe thead th {\n",
       "        text-align: right;\n",
       "    }\n",
       "</style>\n",
       "<table border=\"1\" class=\"dataframe\">\n",
       "  <thead>\n",
       "    <tr style=\"text-align: right;\">\n",
       "      <th></th>\n",
       "      <th>name</th>\n",
       "      <th>continente</th>\n",
       "    </tr>\n",
       "  </thead>\n",
       "  <tbody>\n",
       "    <tr>\n",
       "      <th>AR</th>\n",
       "      <td>Argentina</td>\n",
       "      <td>América</td>\n",
       "    </tr>\n",
       "    <tr>\n",
       "      <th>BR</th>\n",
       "      <td>Brasil</td>\n",
       "      <td>América</td>\n",
       "    </tr>\n",
       "    <tr>\n",
       "      <th>FR</th>\n",
       "      <td>França</td>\n",
       "      <td>Europa</td>\n",
       "    </tr>\n",
       "  </tbody>\n",
       "</table>\n",
       "</div>"
      ],
      "text/plain": [
       "         name continente\n",
       "AR  Argentina    América\n",
       "BR     Brasil    América\n",
       "FR     França     Europa"
      ]
     },
     "execution_count": 20,
     "metadata": {},
     "output_type": "execute_result"
    }
   ],
   "source": [
    "countries.iloc[:3, :2]"
   ]
  },
  {
   "cell_type": "code",
   "execution_count": 23,
   "id": "0d1cadb5",
   "metadata": {},
   "outputs": [
    {
     "data": {
      "text/plain": [
       "BR    1\n",
       "IT    1\n",
       "Name: corVerde, dtype: int64"
      ]
     },
     "execution_count": 23,
     "metadata": {},
     "output_type": "execute_result"
    }
   ],
   "source": [
    "countries.loc[['BR', 'IT'], 'corVerde']"
   ]
  },
  {
   "cell_type": "code",
   "execution_count": 25,
   "id": "54e86806",
   "metadata": {},
   "outputs": [
    {
     "data": {
      "text/html": [
       "<div>\n",
       "<style scoped>\n",
       "    .dataframe tbody tr th:only-of-type {\n",
       "        vertical-align: middle;\n",
       "    }\n",
       "\n",
       "    .dataframe tbody tr th {\n",
       "        vertical-align: top;\n",
       "    }\n",
       "\n",
       "    .dataframe thead th {\n",
       "        text-align: right;\n",
       "    }\n",
       "</style>\n",
       "<table border=\"1\" class=\"dataframe\">\n",
       "  <thead>\n",
       "    <tr style=\"text-align: right;\">\n",
       "      <th></th>\n",
       "      <th>name</th>\n",
       "      <th>continente</th>\n",
       "      <th>extensao</th>\n",
       "      <th>corVerde</th>\n",
       "    </tr>\n",
       "  </thead>\n",
       "  <tbody>\n",
       "    <tr>\n",
       "      <th>AR</th>\n",
       "      <td>Argentina</td>\n",
       "      <td>América</td>\n",
       "      <td>2780</td>\n",
       "      <td>0</td>\n",
       "    </tr>\n",
       "    <tr>\n",
       "      <th>BR</th>\n",
       "      <td>Brasil</td>\n",
       "      <td>América</td>\n",
       "      <td>8511</td>\n",
       "      <td>1</td>\n",
       "    </tr>\n",
       "  </tbody>\n",
       "</table>\n",
       "</div>"
      ],
      "text/plain": [
       "         name continente  extensao  corVerde\n",
       "AR  Argentina    América      2780         0\n",
       "BR     Brasil    América      8511         1"
      ]
     },
     "execution_count": 25,
     "metadata": {},
     "output_type": "execute_result"
    }
   ],
   "source": [
    "countries.loc[countries['continente'] == 'América']"
   ]
  },
  {
   "cell_type": "code",
   "execution_count": null,
   "id": "f1d1419e",
   "metadata": {},
   "outputs": [],
   "source": []
  }
 ],
 "metadata": {
  "kernelspec": {
   "display_name": "Python 3 (ipykernel)",
   "language": "python",
   "name": "python3"
  },
  "language_info": {
   "codemirror_mode": {
    "name": "ipython",
    "version": 3
   },
   "file_extension": ".py",
   "mimetype": "text/x-python",
   "name": "python",
   "nbconvert_exporter": "python",
   "pygments_lexer": "ipython3",
   "version": "3.9.7"
  }
 },
 "nbformat": 4,
 "nbformat_minor": 5
}
