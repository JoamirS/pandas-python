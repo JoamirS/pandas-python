{
 "cells": [
  {
   "cell_type": "code",
   "execution_count": 1,
   "id": "b2fe1dc9",
   "metadata": {},
   "outputs": [],
   "source": [
    "import pandas as pd"
   ]
  },
  {
   "cell_type": "markdown",
   "id": "160d6d9a",
   "metadata": {},
   "source": [
    "#### Ranqueamento e ordenação"
   ]
  },
  {
   "cell_type": "code",
   "execution_count": 3,
   "id": "3aaf4b6e",
   "metadata": {},
   "outputs": [],
   "source": [
    "data_rank = {\n",
    "    \"nadador\": [\"Simonas Bilis\", \"Benjamin Proud\", \"Anthony Ervin\",\"Florent Manaudou\", \"Andriy Hovorov\", \"Nathan Adrian\",\n",
    "                \"Bruno Fratus\",\"Brad Tandy\"],\n",
    "    \"nacionalidade\": [\"Lituânia\",\"Grã-Bretanha\",\"Estados Unidos\",\"França\",\"Ucrânia\",\"Estados Unidos\",\"Brasil\",\"África do Sul\"],\n",
    "    \"tempo\": [22.08,21.68,21.40,21.41,21.74,21.49,21.79,21.79]\n",
    "}"
   ]
  },
  {
   "cell_type": "code",
   "execution_count": 4,
   "id": "086f5263",
   "metadata": {},
   "outputs": [],
   "source": [
    "swimming_lane = list(range(1,9))"
   ]
  },
  {
   "cell_type": "code",
   "execution_count": 5,
   "id": "4cd7089a",
   "metadata": {},
   "outputs": [
    {
     "name": "stdout",
     "output_type": "stream",
     "text": [
      "[1, 2, 3, 4, 5, 6, 7, 8]\n"
     ]
    }
   ],
   "source": [
    "print(swimming_lane)"
   ]
  },
  {
   "cell_type": "code",
   "execution_count": 6,
   "id": "f683fd03",
   "metadata": {},
   "outputs": [],
   "source": [
    "# Cria o dataframe"
   ]
  },
  {
   "cell_type": "code",
   "execution_count": 7,
   "id": "09f6c541",
   "metadata": {},
   "outputs": [],
   "source": [
    "meter_race_50 = pd.DataFrame(data_rank, index=swimming_lane)\n",
    "meter_race_50.index.name = 'Raia'"
   ]
  },
  {
   "cell_type": "code",
   "execution_count": 8,
   "id": "b74c468c",
   "metadata": {},
   "outputs": [
    {
     "data": {
      "text/html": [
       "<div>\n",
       "<style scoped>\n",
       "    .dataframe tbody tr th:only-of-type {\n",
       "        vertical-align: middle;\n",
       "    }\n",
       "\n",
       "    .dataframe tbody tr th {\n",
       "        vertical-align: top;\n",
       "    }\n",
       "\n",
       "    .dataframe thead th {\n",
       "        text-align: right;\n",
       "    }\n",
       "</style>\n",
       "<table border=\"1\" class=\"dataframe\">\n",
       "  <thead>\n",
       "    <tr style=\"text-align: right;\">\n",
       "      <th></th>\n",
       "      <th>nadador</th>\n",
       "      <th>nacionalidade</th>\n",
       "      <th>tempo</th>\n",
       "    </tr>\n",
       "    <tr>\n",
       "      <th>Raia</th>\n",
       "      <th></th>\n",
       "      <th></th>\n",
       "      <th></th>\n",
       "    </tr>\n",
       "  </thead>\n",
       "  <tbody>\n",
       "    <tr>\n",
       "      <th>1</th>\n",
       "      <td>Simonas Bilis</td>\n",
       "      <td>Lituânia</td>\n",
       "      <td>22.08</td>\n",
       "    </tr>\n",
       "    <tr>\n",
       "      <th>2</th>\n",
       "      <td>Benjamin Proud</td>\n",
       "      <td>Grã-Bretanha</td>\n",
       "      <td>21.68</td>\n",
       "    </tr>\n",
       "    <tr>\n",
       "      <th>3</th>\n",
       "      <td>Anthony Ervin</td>\n",
       "      <td>Estados Unidos</td>\n",
       "      <td>21.40</td>\n",
       "    </tr>\n",
       "    <tr>\n",
       "      <th>4</th>\n",
       "      <td>Florent Manaudou</td>\n",
       "      <td>França</td>\n",
       "      <td>21.41</td>\n",
       "    </tr>\n",
       "    <tr>\n",
       "      <th>5</th>\n",
       "      <td>Andriy Hovorov</td>\n",
       "      <td>Ucrânia</td>\n",
       "      <td>21.74</td>\n",
       "    </tr>\n",
       "    <tr>\n",
       "      <th>6</th>\n",
       "      <td>Nathan Adrian</td>\n",
       "      <td>Estados Unidos</td>\n",
       "      <td>21.49</td>\n",
       "    </tr>\n",
       "    <tr>\n",
       "      <th>7</th>\n",
       "      <td>Bruno Fratus</td>\n",
       "      <td>Brasil</td>\n",
       "      <td>21.79</td>\n",
       "    </tr>\n",
       "    <tr>\n",
       "      <th>8</th>\n",
       "      <td>Brad Tandy</td>\n",
       "      <td>África do Sul</td>\n",
       "      <td>21.79</td>\n",
       "    </tr>\n",
       "  </tbody>\n",
       "</table>\n",
       "</div>"
      ],
      "text/plain": [
       "               nadador   nacionalidade  tempo\n",
       "Raia                                         \n",
       "1        Simonas Bilis        Lituânia  22.08\n",
       "2       Benjamin Proud    Grã-Bretanha  21.68\n",
       "3        Anthony Ervin  Estados Unidos  21.40\n",
       "4     Florent Manaudou          França  21.41\n",
       "5       Andriy Hovorov         Ucrânia  21.74\n",
       "6        Nathan Adrian  Estados Unidos  21.49\n",
       "7         Bruno Fratus          Brasil  21.79\n",
       "8           Brad Tandy   África do Sul  21.79"
      ]
     },
     "execution_count": 8,
     "metadata": {},
     "output_type": "execute_result"
    }
   ],
   "source": [
    "meter_race_50"
   ]
  },
  {
   "cell_type": "code",
   "execution_count": 9,
   "id": "34a10d38",
   "metadata": {},
   "outputs": [],
   "source": [
    "# Ordena pelo tempo de forma crescente"
   ]
  },
  {
   "cell_type": "code",
   "execution_count": 10,
   "id": "439856db",
   "metadata": {},
   "outputs": [
    {
     "name": "stdout",
     "output_type": "stream",
     "text": [
      "Resultado final por tempo\n"
     ]
    },
    {
     "data": {
      "text/html": [
       "<div>\n",
       "<style scoped>\n",
       "    .dataframe tbody tr th:only-of-type {\n",
       "        vertical-align: middle;\n",
       "    }\n",
       "\n",
       "    .dataframe tbody tr th {\n",
       "        vertical-align: top;\n",
       "    }\n",
       "\n",
       "    .dataframe thead th {\n",
       "        text-align: right;\n",
       "    }\n",
       "</style>\n",
       "<table border=\"1\" class=\"dataframe\">\n",
       "  <thead>\n",
       "    <tr style=\"text-align: right;\">\n",
       "      <th></th>\n",
       "      <th>nadador</th>\n",
       "      <th>nacionalidade</th>\n",
       "      <th>tempo</th>\n",
       "    </tr>\n",
       "    <tr>\n",
       "      <th>Raia</th>\n",
       "      <th></th>\n",
       "      <th></th>\n",
       "      <th></th>\n",
       "    </tr>\n",
       "  </thead>\n",
       "  <tbody>\n",
       "    <tr>\n",
       "      <th>3</th>\n",
       "      <td>Anthony Ervin</td>\n",
       "      <td>Estados Unidos</td>\n",
       "      <td>21.40</td>\n",
       "    </tr>\n",
       "    <tr>\n",
       "      <th>4</th>\n",
       "      <td>Florent Manaudou</td>\n",
       "      <td>França</td>\n",
       "      <td>21.41</td>\n",
       "    </tr>\n",
       "    <tr>\n",
       "      <th>6</th>\n",
       "      <td>Nathan Adrian</td>\n",
       "      <td>Estados Unidos</td>\n",
       "      <td>21.49</td>\n",
       "    </tr>\n",
       "    <tr>\n",
       "      <th>2</th>\n",
       "      <td>Benjamin Proud</td>\n",
       "      <td>Grã-Bretanha</td>\n",
       "      <td>21.68</td>\n",
       "    </tr>\n",
       "    <tr>\n",
       "      <th>5</th>\n",
       "      <td>Andriy Hovorov</td>\n",
       "      <td>Ucrânia</td>\n",
       "      <td>21.74</td>\n",
       "    </tr>\n",
       "    <tr>\n",
       "      <th>7</th>\n",
       "      <td>Bruno Fratus</td>\n",
       "      <td>Brasil</td>\n",
       "      <td>21.79</td>\n",
       "    </tr>\n",
       "    <tr>\n",
       "      <th>8</th>\n",
       "      <td>Brad Tandy</td>\n",
       "      <td>África do Sul</td>\n",
       "      <td>21.79</td>\n",
       "    </tr>\n",
       "    <tr>\n",
       "      <th>1</th>\n",
       "      <td>Simonas Bilis</td>\n",
       "      <td>Lituânia</td>\n",
       "      <td>22.08</td>\n",
       "    </tr>\n",
       "  </tbody>\n",
       "</table>\n",
       "</div>"
      ],
      "text/plain": [
       "               nadador   nacionalidade  tempo\n",
       "Raia                                         \n",
       "3        Anthony Ervin  Estados Unidos  21.40\n",
       "4     Florent Manaudou          França  21.41\n",
       "6        Nathan Adrian  Estados Unidos  21.49\n",
       "2       Benjamin Proud    Grã-Bretanha  21.68\n",
       "5       Andriy Hovorov         Ucrânia  21.74\n",
       "7         Bruno Fratus          Brasil  21.79\n",
       "8           Brad Tandy   África do Sul  21.79\n",
       "1        Simonas Bilis        Lituânia  22.08"
      ]
     },
     "execution_count": 10,
     "metadata": {},
     "output_type": "execute_result"
    }
   ],
   "source": [
    "meter_race_50 = meter_race_50.sort_values(by=\"tempo\")\n",
    "print('Resultado final por tempo')\n",
    "meter_race_50"
   ]
  },
  {
   "cell_type": "code",
   "execution_count": 11,
   "id": "4832b8a1",
   "metadata": {},
   "outputs": [],
   "source": [
    "# Gera rankings"
   ]
  },
  {
   "cell_type": "code",
   "execution_count": 12,
   "id": "1a8f55e9",
   "metadata": {},
   "outputs": [
    {
     "name": "stdout",
     "output_type": "stream",
     "text": [
      "Posição de cada nadador por raia\n"
     ]
    },
    {
     "data": {
      "text/plain": [
       "Raia\n",
       "3    1.0\n",
       "4    2.0\n",
       "6    3.0\n",
       "2    4.0\n",
       "5    5.0\n",
       "7    6.0\n",
       "8    6.0\n",
       "1    8.0\n",
       "Name: tempo, dtype: float64"
      ]
     },
     "execution_count": 12,
     "metadata": {},
     "output_type": "execute_result"
    }
   ],
   "source": [
    "Result_by_lane = meter_race_50['tempo'].rank(method='min')\n",
    "print('Posição de cada nadador por raia')\n",
    "Result_by_lane"
   ]
  },
  {
   "cell_type": "markdown",
   "id": "856128b8",
   "metadata": {},
   "source": [
    "### Produzindo tabulações"
   ]
  },
  {
   "attachments": {
    "image.png": {
     "image/png": "[encoded data removed]"
    }
   },
   "cell_type": "markdown",
   "id": "eced9cec",
   "metadata": {},
   "source": [
    "![image.png](attachment:image.png)"
   ]
  },
  {
   "cell_type": "code",
   "execution_count": 15,
   "id": "1da5c607",
   "metadata": {},
   "outputs": [],
   "source": [
    "dados = {\"sexo\": [\"F\",\"M\",\"F\",\"F\",\"F\",\"M\"],\n",
    "        \"bairro\": [\"Belverde\", \"Belverde\", \"Savassi\", \"Anchieta\", None, \"Savassi\"],\n",
    "        \"valor\": [150.00, 35.00, 80.00, 250.00, 9.90, 25.00],                   \n",
    "        \"cartao\": [\"Master\", \"Visa\", \"Visa\", \"Amex\", \"Elo\", \"Master\"]}"
   ]
  },
  {
   "cell_type": "code",
   "execution_count": 16,
   "id": "60a79ccf",
   "metadata": {},
   "outputs": [],
   "source": [
    "id_costumers = [1, 2, 3, 4, 5, 6]"
   ]
  },
  {
   "cell_type": "code",
   "execution_count": 17,
   "id": "d34c0664",
   "metadata": {},
   "outputs": [],
   "source": [
    "sales_data_frame = pd.DataFrame(dados, index=id_costumers)"
   ]
  },
  {
   "cell_type": "code",
   "execution_count": 18,
   "id": "aafee451",
   "metadata": {},
   "outputs": [],
   "source": [
    "# Retorna o domínio dos atributos categóricos"
   ]
  },
  {
   "cell_type": "code",
   "execution_count": 19,
   "id": "d290e141",
   "metadata": {},
   "outputs": [
    {
     "name": "stdout",
     "output_type": "stream",
     "text": [
      "Domínio dos atributos categóricos: \n",
      "Sexo:  ['F' 'M']\n",
      "Bairro:  ['Belverde' 'Savassi' 'Anchieta' None]\n",
      "Cartão:  ['Master' 'Visa' 'Amex' 'Elo']\n"
     ]
    }
   ],
   "source": [
    "print('Domínio dos atributos categóricos: ')\n",
    "print('Sexo: ', sales_data_frame['sexo'].unique())\n",
    "print('Bairro: ', sales_data_frame['bairro'].unique())\n",
    "print('Cartão: ', sales_data_frame['cartao'].unique())"
   ]
  },
  {
   "cell_type": "code",
   "execution_count": 20,
   "id": "6a3a1d2d",
   "metadata": {},
   "outputs": [],
   "source": [
    "# Retorna as frequências dos valores de cada coluna"
   ]
  },
  {
   "cell_type": "code",
   "execution_count": 21,
   "id": "76e8a256",
   "metadata": {},
   "outputs": [
    {
     "name": "stdout",
     "output_type": "stream",
     "text": [
      "Tabela de frequência: \n",
      "sexo\n",
      "F    4\n",
      "M    2\n",
      "Name: count, dtype: int64\n",
      "-\n",
      "bairro\n",
      "Belverde    2\n",
      "Savassi     2\n",
      "Anchieta    1\n",
      "Name: count, dtype: int64\n",
      "-\n",
      "cartao\n",
      "Master    2\n",
      "Visa      2\n",
      "Amex      1\n",
      "Elo       1\n",
      "Name: count, dtype: int64\n"
     ]
    }
   ],
   "source": [
    "print('Tabela de frequência: ')\n",
    "print(sales_data_frame['sexo'].value_counts())\n",
    "print('-')\n",
    "print(sales_data_frame['bairro'].value_counts())\n",
    "print('-')\n",
    "print(sales_data_frame['cartao'].value_counts())"
   ]
  },
  {
   "cell_type": "markdown",
   "id": "f7ea5223-78e1-4a0f-a688-d3bee7db6971",
   "metadata": {},
   "source": [
    "#### Agregações"
   ]
  },
  {
   "cell_type": "code",
   "execution_count": 26,
   "id": "5675f15f-1807-4105-9526-f38da61ecea5",
   "metadata": {},
   "outputs": [],
   "source": [
    "# Agregação é uma operação que visa computar estatísticas para grupos  de  linhas  de  um  DataFrame. s. "
   ]
  },
  {
   "cell_type": "code",
   "execution_count": 28,
   "id": "0420c43a-9356-4a57-9f04-0aea26ebad35",
   "metadata": {},
   "outputs": [],
   "source": [
    "# Gera a variável \"grouped\" onde a chave é \"bairro\" e a medida \"valor\""
   ]
  },
  {
   "cell_type": "code",
   "execution_count": 30,
   "id": "9a1d3166-922d-4cfd-9eee-5441d789902f",
   "metadata": {},
   "outputs": [],
   "source": [
    "group_neighbor_value = sales_data_frame['valor'].groupby(sales_data_frame['bairro'])"
   ]
  },
  {
   "cell_type": "code",
   "execution_count": 32,
   "id": "1f683b4b-7d1d-4e46-83a7-4f9e2d31f2e9",
   "metadata": {},
   "outputs": [
    {
     "data": {
      "text/plain": [
       "<pandas.core.groupby.generic.SeriesGroupBy object at 0x000001B89A048A90>"
      ]
     },
     "execution_count": 32,
     "metadata": {},
     "output_type": "execute_result"
    }
   ],
   "source": [
    "group_neighbor_value"
   ]
  },
  {
   "cell_type": "code",
   "execution_count": 34,
   "id": "e6262508-9b17-402b-8d5f-e38f01df62eb",
   "metadata": {},
   "outputs": [
    {
     "data": {
      "text/plain": [
       "1    150.0\n",
       "2     35.0\n",
       "3     80.0\n",
       "4    250.0\n",
       "6     25.0\n",
       "Name: valor, dtype: float64"
      ]
     },
     "execution_count": 34,
     "metadata": {},
     "output_type": "execute_result"
    }
   ],
   "source": [
    "group_neighbor_value.head()"
   ]
  },
  {
   "cell_type": "code",
   "execution_count": 36,
   "id": "751d8020-f1af-4c1c-bc4f-bab2300954d8",
   "metadata": {},
   "outputs": [],
   "source": [
    "# Computa agregados a partir da variável gerada"
   ]
  },
  {
   "cell_type": "code",
   "execution_count": 38,
   "id": "216d4240-b39c-408d-a55f-015c86c2594b",
   "metadata": {},
   "outputs": [
    {
     "name": "stdout",
     "output_type": "stream",
     "text": [
      "Quantidade de clientes por bairro:\n",
      "  bairro\n",
      "Anchieta    1\n",
      "Belverde    2\n",
      "Savassi     2\n",
      "Name: valor, dtype: int64\n",
      "Valor total das vendas, por bairro:\n",
      "  bairro\n",
      "Anchieta    250.0\n",
      "Belverde    185.0\n",
      "Savassi     105.0\n",
      "Name: valor, dtype: float64\n",
      "Valor médio das vendas, por bairro:\n",
      "  bairro\n",
      "Anchieta    250.0\n",
      "Belverde     92.5\n",
      "Savassi      52.5\n",
      "Name: valor, dtype: float64\n"
     ]
    }
   ],
   "source": [
    "print('Quantidade de clientes por bairro:\\n ', group_neighbor_value.count())\n",
    "print('Valor total das vendas, por bairro:\\n ', group_neighbor_value.sum())\n",
    "print('Valor médio das vendas, por bairro:\\n ', group_neighbor_value.mean())"
   ]
  },
  {
   "cell_type": "code",
   "execution_count": 40,
   "id": "df094746-a65d-4c47-82d5-69c4abdee1b1",
   "metadata": {},
   "outputs": [],
   "source": [
    "# Criando um objeto grouped cruzando o valor da compra por sexo e bairro, você deve utilizar a sintaxe a seguir:"
   ]
  },
  {
   "cell_type": "code",
   "execution_count": 42,
   "id": "d9759bd4-1ad5-432e-bc18-9071f4b576b3",
   "metadata": {},
   "outputs": [],
   "source": [
    "group_value_sex_neghbor = sales_data_frame['valor'].groupby([sales_data_frame['sexo'], sales_data_frame['bairro']])"
   ]
  },
  {
   "cell_type": "code",
   "execution_count": 44,
   "id": "349385f5-b037-4819-8c7c-6c529ada6412",
   "metadata": {},
   "outputs": [
    {
     "data": {
      "text/plain": [
       "<pandas.core.groupby.generic.SeriesGroupBy object at 0x000001B89ACB6B50>"
      ]
     },
     "execution_count": 44,
     "metadata": {},
     "output_type": "execute_result"
    }
   ],
   "source": [
    "group_value_sex_neghbor"
   ]
  },
  {
   "cell_type": "code",
   "execution_count": 54,
   "id": "17743099-0365-4518-9a10-713619a86c4f",
   "metadata": {},
   "outputs": [
    {
     "name": "stdout",
     "output_type": "stream",
     "text": [
      "Quatidade de clientes por bairro e sexo:\n",
      "  sexo  bairro  \n",
      "F     Anchieta    1\n",
      "      Belverde    1\n",
      "      Savassi     1\n",
      "M     Belverde    1\n",
      "      Savassi     1\n",
      "Name: valor, dtype: int64\n"
     ]
    }
   ],
   "source": [
    "print('Quatidade de clientes por bairro e sexo:\\n ', group_value_sex_neghbor.count())"
   ]
  },
  {
   "cell_type": "code",
   "execution_count": 56,
   "id": "23bcb978-3d7e-47ed-b4a9-0436adeb0ae9",
   "metadata": {},
   "outputs": [
    {
     "name": "stdout",
     "output_type": "stream",
     "text": [
      "Valor total de vendas por bairro e sexo:\n",
      " sexo  bairro  \n",
      "F     Anchieta    250.0\n",
      "      Belverde    150.0\n",
      "      Savassi      80.0\n",
      "M     Belverde     35.0\n",
      "      Savassi      25.0\n",
      "Name: valor, dtype: float64\n"
     ]
    }
   ],
   "source": [
    "print('Valor total de vendas por bairro e sexo:\\n', group_value_sex_neghbor.sum())"
   ]
  },
  {
   "cell_type": "code",
   "execution_count": 60,
   "id": "8151c434-99bd-4530-b63f-45735efda4f0",
   "metadata": {},
   "outputs": [
    {
     "name": "stdout",
     "output_type": "stream",
     "text": [
      "Valor médio das vendas, por bairro e sexo:\n",
      " sexo  bairro  \n",
      "F     Anchieta    250.0\n",
      "      Belverde    150.0\n",
      "      Savassi      80.0\n",
      "M     Belverde     35.0\n",
      "      Savassi      25.0\n",
      "Name: valor, dtype: float64\n"
     ]
    }
   ],
   "source": [
    "print('Valor médio das vendas, por bairro e sexo:\\n', group_value_sex_neghbor.mean())"
   ]
  },
  {
   "cell_type": "markdown",
   "id": "568a2ec2-bcef-415b-a740-33e551e8452e",
   "metadata": {},
   "source": [
    "## Gráfico de linhas"
   ]
  },
  {
   "cell_type": "code",
   "execution_count": 63,
   "id": "b74f7fdf-07f7-483c-9a26-8e8be5ec5b8e",
   "metadata": {},
   "outputs": [],
   "source": [
    "dataframe_graphic = pd.DataFrame({\"x\": list(range(1,11))})"
   ]
  },
  {
   "cell_type": "code",
   "execution_count": 71,
   "id": "c318df03-62a0-4f85-abac-abab442ccd7d",
   "metadata": {},
   "outputs": [],
   "source": [
    "dataframe_graphic[\"y\"] = (dataframe_graphic . x * 2) + 3"
   ]
  },
  {
   "cell_type": "code",
   "execution_count": 73,
   "id": "65294e8f-5fc3-4d1d-a205-75d42b979498",
   "metadata": {},
   "outputs": [
    {
     "data": {
      "image/png": "[encoded data removed]",
      "text/plain": [
       "<Figure size 640x480 with 1 Axes>"
      ]
     },
     "metadata": {},
     "output_type": "display_data"
    }
   ],
   "source": [
    "lines = dataframe_graphic.plot.line(x=\"x\",y=\"y\", legend=False)"
   ]
  },
  {
   "cell_type": "code",
   "execution_count": null,
   "id": "4ed004ef-53e6-44ca-8af1-5dbb46289315",
   "metadata": {},
   "outputs": [],
   "source": []
  }
 ],
 "metadata": {
  "kernelspec": {
   "display_name": "Python 3 (ipykernel)",
   "language": "python",
   "name": "python3"
  },
  "language_info": {
   "codemirror_mode": {
    "name": "ipython",
    "version": 3
   },
   "file_extension": ".py",
   "mimetype": "text/x-python",
   "name": "python",
   "nbconvert_exporter": "python",
   "pygments_lexer": "ipython3",
   "version": "3.11.7"
  }
 },
 "nbformat": 4,
 "nbformat_minor": 5
}
