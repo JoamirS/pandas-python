{
 "cells": [
  {
   "cell_type": "code",
   "execution_count": 1,
   "id": "b2fe1dc9",
   "metadata": {},
   "outputs": [],
   "source": [
    "import pandas as pd"
   ]
  },
  {
   "cell_type": "markdown",
   "id": "160d6d9a",
   "metadata": {},
   "source": [
    "#### Ranqueamento e ordenação"
   ]
  },
  {
   "cell_type": "code",
   "execution_count": 2,
   "id": "3aaf4b6e",
   "metadata": {},
   "outputs": [],
   "source": [
    "data_rank = {\n",
    "    \"nadador\": [\"Simonas Bilis\", \"Benjamin Proud\", \"Anthony Ervin\",\"Florent Manaudou\", \"Andriy Hovorov\", \"Nathan Adrian\",\n",
    "                \"Bruno Fratus\",\"Brad Tandy\"],\n",
    "    \"nacionalidade\": [\"Lituânia\",\"Grã-Bretanha\",\"Estados Unidos\",\"França\",\"Ucrânia\",\"Estados Unidos\",\"Brasil\",\"África do Sul\"],\n",
    "    \"tempo\": [22.08,21.68,21.40,21.41,21.74,21.49,21.79,21.79]\n",
    "}"
   ]
  },
  {
   "cell_type": "code",
   "execution_count": 3,
   "id": "086f5263",
   "metadata": {},
   "outputs": [],
   "source": [
    "swimming_lane = list(range(1,9))"
   ]
  },
  {
   "cell_type": "code",
   "execution_count": 4,
   "id": "4cd7089a",
   "metadata": {},
   "outputs": [
    {
     "name": "stdout",
     "output_type": "stream",
     "text": [
      "[1, 2, 3, 4, 5, 6, 7, 8]\n"
     ]
    }
   ],
   "source": [
    "print(swimming_lane)"
   ]
  },
  {
   "cell_type": "code",
   "execution_count": 5,
   "id": "f683fd03",
   "metadata": {},
   "outputs": [],
   "source": [
    "# Cria o dataframe"
   ]
  },
  {
   "cell_type": "code",
   "execution_count": 6,
   "id": "09f6c541",
   "metadata": {},
   "outputs": [],
   "source": [
    "meter_race_50 = pd.DataFrame(data_rank, index=swimming_lane)\n",
    "meter_race_50.index.name = 'Raia'"
   ]
  },
  {
   "cell_type": "code",
   "execution_count": 7,
   "id": "b74c468c",
   "metadata": {},
   "outputs": [
    {
     "data": {
      "text/html": [
       "<div>\n",
       "<style scoped>\n",
       "    .dataframe tbody tr th:only-of-type {\n",
       "        vertical-align: middle;\n",
       "    }\n",
       "\n",
       "    .dataframe tbody tr th {\n",
       "        vertical-align: top;\n",
       "    }\n",
       "\n",
       "    .dataframe thead th {\n",
       "        text-align: right;\n",
       "    }\n",
       "</style>\n",
       "<table border=\"1\" class=\"dataframe\">\n",
       "  <thead>\n",
       "    <tr style=\"text-align: right;\">\n",
       "      <th></th>\n",
       "      <th>nadador</th>\n",
       "      <th>nacionalidade</th>\n",
       "      <th>tempo</th>\n",
       "    </tr>\n",
       "    <tr>\n",
       "      <th>Raia</th>\n",
       "      <th></th>\n",
       "      <th></th>\n",
       "      <th></th>\n",
       "    </tr>\n",
       "  </thead>\n",
       "  <tbody>\n",
       "    <tr>\n",
       "      <th>1</th>\n",
       "      <td>Simonas Bilis</td>\n",
       "      <td>Lituânia</td>\n",
       "      <td>22.08</td>\n",
       "    </tr>\n",
       "    <tr>\n",
       "      <th>2</th>\n",
       "      <td>Benjamin Proud</td>\n",
       "      <td>Grã-Bretanha</td>\n",
       "      <td>21.68</td>\n",
       "    </tr>\n",
       "    <tr>\n",
       "      <th>3</th>\n",
       "      <td>Anthony Ervin</td>\n",
       "      <td>Estados Unidos</td>\n",
       "      <td>21.40</td>\n",
       "    </tr>\n",
       "    <tr>\n",
       "      <th>4</th>\n",
       "      <td>Florent Manaudou</td>\n",
       "      <td>França</td>\n",
       "      <td>21.41</td>\n",
       "    </tr>\n",
       "    <tr>\n",
       "      <th>5</th>\n",
       "      <td>Andriy Hovorov</td>\n",
       "      <td>Ucrânia</td>\n",
       "      <td>21.74</td>\n",
       "    </tr>\n",
       "    <tr>\n",
       "      <th>6</th>\n",
       "      <td>Nathan Adrian</td>\n",
       "      <td>Estados Unidos</td>\n",
       "      <td>21.49</td>\n",
       "    </tr>\n",
       "    <tr>\n",
       "      <th>7</th>\n",
       "      <td>Bruno Fratus</td>\n",
       "      <td>Brasil</td>\n",
       "      <td>21.79</td>\n",
       "    </tr>\n",
       "    <tr>\n",
       "      <th>8</th>\n",
       "      <td>Brad Tandy</td>\n",
       "      <td>África do Sul</td>\n",
       "      <td>21.79</td>\n",
       "    </tr>\n",
       "  </tbody>\n",
       "</table>\n",
       "</div>"
      ],
      "text/plain": [
       "               nadador   nacionalidade  tempo\n",
       "Raia                                         \n",
       "1        Simonas Bilis        Lituânia  22.08\n",
       "2       Benjamin Proud    Grã-Bretanha  21.68\n",
       "3        Anthony Ervin  Estados Unidos  21.40\n",
       "4     Florent Manaudou          França  21.41\n",
       "5       Andriy Hovorov         Ucrânia  21.74\n",
       "6        Nathan Adrian  Estados Unidos  21.49\n",
       "7         Bruno Fratus          Brasil  21.79\n",
       "8           Brad Tandy   África do Sul  21.79"
      ]
     },
     "execution_count": 7,
     "metadata": {},
     "output_type": "execute_result"
    }
   ],
   "source": [
    "meter_race_50"
   ]
  },
  {
   "cell_type": "code",
   "execution_count": 8,
   "id": "34a10d38",
   "metadata": {},
   "outputs": [],
   "source": [
    "# Ordena pelo tempo de forma crescente"
   ]
  },
  {
   "cell_type": "code",
   "execution_count": 9,
   "id": "7eeece91",
   "metadata": {},
   "outputs": [
    {
     "name": "stdout",
     "output_type": "stream",
     "text": [
      "Resultado final por tempo\n"
     ]
    },
    {
     "data": {
      "text/html": [
       "<div>\n",
       "<style scoped>\n",
       "    .dataframe tbody tr th:only-of-type {\n",
       "        vertical-align: middle;\n",
       "    }\n",
       "\n",
       "    .dataframe tbody tr th {\n",
       "        vertical-align: top;\n",
       "    }\n",
       "\n",
       "    .dataframe thead th {\n",
       "        text-align: right;\n",
       "    }\n",
       "</style>\n",
       "<table border=\"1\" class=\"dataframe\">\n",
       "  <thead>\n",
       "    <tr style=\"text-align: right;\">\n",
       "      <th></th>\n",
       "      <th>nadador</th>\n",
       "      <th>nacionalidade</th>\n",
       "      <th>tempo</th>\n",
       "    </tr>\n",
       "    <tr>\n",
       "      <th>Raia</th>\n",
       "      <th></th>\n",
       "      <th></th>\n",
       "      <th></th>\n",
       "    </tr>\n",
       "  </thead>\n",
       "  <tbody>\n",
       "    <tr>\n",
       "      <th>3</th>\n",
       "      <td>Anthony Ervin</td>\n",
       "      <td>Estados Unidos</td>\n",
       "      <td>21.40</td>\n",
       "    </tr>\n",
       "    <tr>\n",
       "      <th>4</th>\n",
       "      <td>Florent Manaudou</td>\n",
       "      <td>França</td>\n",
       "      <td>21.41</td>\n",
       "    </tr>\n",
       "    <tr>\n",
       "      <th>6</th>\n",
       "      <td>Nathan Adrian</td>\n",
       "      <td>Estados Unidos</td>\n",
       "      <td>21.49</td>\n",
       "    </tr>\n",
       "    <tr>\n",
       "      <th>2</th>\n",
       "      <td>Benjamin Proud</td>\n",
       "      <td>Grã-Bretanha</td>\n",
       "      <td>21.68</td>\n",
       "    </tr>\n",
       "    <tr>\n",
       "      <th>5</th>\n",
       "      <td>Andriy Hovorov</td>\n",
       "      <td>Ucrânia</td>\n",
       "      <td>21.74</td>\n",
       "    </tr>\n",
       "    <tr>\n",
       "      <th>7</th>\n",
       "      <td>Bruno Fratus</td>\n",
       "      <td>Brasil</td>\n",
       "      <td>21.79</td>\n",
       "    </tr>\n",
       "    <tr>\n",
       "      <th>8</th>\n",
       "      <td>Brad Tandy</td>\n",
       "      <td>África do Sul</td>\n",
       "      <td>21.79</td>\n",
       "    </tr>\n",
       "    <tr>\n",
       "      <th>1</th>\n",
       "      <td>Simonas Bilis</td>\n",
       "      <td>Lituânia</td>\n",
       "      <td>22.08</td>\n",
       "    </tr>\n",
       "  </tbody>\n",
       "</table>\n",
       "</div>"
      ],
      "text/plain": [
       "               nadador   nacionalidade  tempo\n",
       "Raia                                         \n",
       "3        Anthony Ervin  Estados Unidos  21.40\n",
       "4     Florent Manaudou          França  21.41\n",
       "6        Nathan Adrian  Estados Unidos  21.49\n",
       "2       Benjamin Proud    Grã-Bretanha  21.68\n",
       "5       Andriy Hovorov         Ucrânia  21.74\n",
       "7         Bruno Fratus          Brasil  21.79\n",
       "8           Brad Tandy   África do Sul  21.79\n",
       "1        Simonas Bilis        Lituânia  22.08"
      ]
     },
     "execution_count": 9,
     "metadata": {},
     "output_type": "execute_result"
    }
   ],
   "source": [
    "meter_race_50 = meter_race_50.sort_values(by=\"tempo\")\n",
    "print('Resultado final por tempo')\n",
    "meter_race_50"
   ]
  },
  {
   "cell_type": "code",
   "execution_count": 10,
   "id": "c629ffea",
   "metadata": {},
   "outputs": [],
   "source": [
    "# Gera rankings"
   ]
  },
  {
   "cell_type": "code",
   "execution_count": 14,
   "id": "823c0414",
   "metadata": {},
   "outputs": [
    {
     "name": "stdout",
     "output_type": "stream",
     "text": [
      "Posição de cada nadador por raia\n"
     ]
    },
    {
     "data": {
      "text/plain": [
       "Raia\n",
       "3    1.0\n",
       "4    2.0\n",
       "6    3.0\n",
       "2    4.0\n",
       "5    5.0\n",
       "7    6.0\n",
       "8    6.0\n",
       "1    8.0\n",
       "Name: tempo, dtype: float64"
      ]
     },
     "execution_count": 14,
     "metadata": {},
     "output_type": "execute_result"
    }
   ],
   "source": [
    "Result_by_lane = meter_race_50['tempo'].rank(method='min')\n",
    "print('Posição de cada nadador por raia')\n",
    "Result_by_lane"
   ]
  },
  {
   "cell_type": "code",
   "execution_count": null,
   "id": "85dd8f8e",
   "metadata": {},
   "outputs": [],
   "source": []
  }
 ],
 "metadata": {
  "kernelspec": {
   "display_name": "Python 3 (ipykernel)",
   "language": "python",
   "name": "python3"
  },
  "language_info": {
   "codemirror_mode": {
    "name": "ipython",
    "version": 3
   },
   "file_extension": ".py",
   "mimetype": "text/x-python",
   "name": "python",
   "nbconvert_exporter": "python",
   "pygments_lexer": "ipython3",
   "version": "3.9.7"
  }
 },
 "nbformat": 4,
 "nbformat_minor": 5
}
