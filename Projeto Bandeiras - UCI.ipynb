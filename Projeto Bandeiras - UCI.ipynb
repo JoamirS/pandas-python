{
 "cells": [
  {
   "cell_type": "code",
   "execution_count": 1,
   "id": "52fad694",
   "metadata": {},
   "outputs": [],
   "source": [
    "import pandas as pd"
   ]
  },
  {
   "cell_type": "code",
   "execution_count": 2,
   "id": "909c7cfb",
   "metadata": {},
   "outputs": [],
   "source": [
    "# Quais são os países que também têm verde, amarelo, azul e branco entre as cores de sua bandeira nacional?"
   ]
  },
  {
   "cell_type": "code",
   "execution_count": 3,
   "id": "8aff9273",
   "metadata": {},
   "outputs": [],
   "source": [
    "flags = pd.read_csv('flags.csv')"
   ]
  },
  {
   "cell_type": "code",
   "execution_count": 4,
   "id": "9c5bfe57",
   "metadata": {},
   "outputs": [
    {
     "data": {
      "text/html": [
       "<div>\n",
       "<style scoped>\n",
       "    .dataframe tbody tr th:only-of-type {\n",
       "        vertical-align: middle;\n",
       "    }\n",
       "\n",
       "    .dataframe tbody tr th {\n",
       "        vertical-align: top;\n",
       "    }\n",
       "\n",
       "    .dataframe thead th {\n",
       "        text-align: right;\n",
       "    }\n",
       "</style>\n",
       "<table border=\"1\" class=\"dataframe\">\n",
       "  <thead>\n",
       "    <tr style=\"text-align: right;\">\n",
       "      <th></th>\n",
       "      <th>name</th>\n",
       "      <th>landmass</th>\n",
       "      <th>zone</th>\n",
       "      <th>area</th>\n",
       "      <th>population</th>\n",
       "      <th>language</th>\n",
       "      <th>religion</th>\n",
       "      <th>bars</th>\n",
       "      <th>stripes</th>\n",
       "      <th>colours</th>\n",
       "      <th>...</th>\n",
       "      <th>saltires</th>\n",
       "      <th>quarters</th>\n",
       "      <th>sunstars</th>\n",
       "      <th>crescent</th>\n",
       "      <th>triangle</th>\n",
       "      <th>icon</th>\n",
       "      <th>animate</th>\n",
       "      <th>text</th>\n",
       "      <th>topleft</th>\n",
       "      <th>botright</th>\n",
       "    </tr>\n",
       "  </thead>\n",
       "  <tbody>\n",
       "    <tr>\n",
       "      <th>0</th>\n",
       "      <td>Afghanistan</td>\n",
       "      <td>5</td>\n",
       "      <td>1</td>\n",
       "      <td>648</td>\n",
       "      <td>16</td>\n",
       "      <td>10</td>\n",
       "      <td>2</td>\n",
       "      <td>0</td>\n",
       "      <td>3</td>\n",
       "      <td>5</td>\n",
       "      <td>...</td>\n",
       "      <td>0</td>\n",
       "      <td>0</td>\n",
       "      <td>1</td>\n",
       "      <td>0</td>\n",
       "      <td>0</td>\n",
       "      <td>1</td>\n",
       "      <td>0</td>\n",
       "      <td>0</td>\n",
       "      <td>black</td>\n",
       "      <td>green</td>\n",
       "    </tr>\n",
       "    <tr>\n",
       "      <th>1</th>\n",
       "      <td>Albania</td>\n",
       "      <td>3</td>\n",
       "      <td>1</td>\n",
       "      <td>29</td>\n",
       "      <td>3</td>\n",
       "      <td>6</td>\n",
       "      <td>6</td>\n",
       "      <td>0</td>\n",
       "      <td>0</td>\n",
       "      <td>3</td>\n",
       "      <td>...</td>\n",
       "      <td>0</td>\n",
       "      <td>0</td>\n",
       "      <td>1</td>\n",
       "      <td>0</td>\n",
       "      <td>0</td>\n",
       "      <td>0</td>\n",
       "      <td>1</td>\n",
       "      <td>0</td>\n",
       "      <td>red</td>\n",
       "      <td>red</td>\n",
       "    </tr>\n",
       "    <tr>\n",
       "      <th>2</th>\n",
       "      <td>Algeria</td>\n",
       "      <td>4</td>\n",
       "      <td>1</td>\n",
       "      <td>2388</td>\n",
       "      <td>20</td>\n",
       "      <td>8</td>\n",
       "      <td>2</td>\n",
       "      <td>2</td>\n",
       "      <td>0</td>\n",
       "      <td>3</td>\n",
       "      <td>...</td>\n",
       "      <td>0</td>\n",
       "      <td>0</td>\n",
       "      <td>1</td>\n",
       "      <td>1</td>\n",
       "      <td>0</td>\n",
       "      <td>0</td>\n",
       "      <td>0</td>\n",
       "      <td>0</td>\n",
       "      <td>green</td>\n",
       "      <td>white</td>\n",
       "    </tr>\n",
       "    <tr>\n",
       "      <th>3</th>\n",
       "      <td>American-Samoa</td>\n",
       "      <td>6</td>\n",
       "      <td>3</td>\n",
       "      <td>0</td>\n",
       "      <td>0</td>\n",
       "      <td>1</td>\n",
       "      <td>1</td>\n",
       "      <td>0</td>\n",
       "      <td>0</td>\n",
       "      <td>5</td>\n",
       "      <td>...</td>\n",
       "      <td>0</td>\n",
       "      <td>0</td>\n",
       "      <td>0</td>\n",
       "      <td>0</td>\n",
       "      <td>1</td>\n",
       "      <td>1</td>\n",
       "      <td>1</td>\n",
       "      <td>0</td>\n",
       "      <td>blue</td>\n",
       "      <td>red</td>\n",
       "    </tr>\n",
       "    <tr>\n",
       "      <th>4</th>\n",
       "      <td>Andorra</td>\n",
       "      <td>3</td>\n",
       "      <td>1</td>\n",
       "      <td>0</td>\n",
       "      <td>0</td>\n",
       "      <td>6</td>\n",
       "      <td>0</td>\n",
       "      <td>3</td>\n",
       "      <td>0</td>\n",
       "      <td>3</td>\n",
       "      <td>...</td>\n",
       "      <td>0</td>\n",
       "      <td>0</td>\n",
       "      <td>0</td>\n",
       "      <td>0</td>\n",
       "      <td>0</td>\n",
       "      <td>0</td>\n",
       "      <td>0</td>\n",
       "      <td>0</td>\n",
       "      <td>blue</td>\n",
       "      <td>red</td>\n",
       "    </tr>\n",
       "  </tbody>\n",
       "</table>\n",
       "<p>5 rows × 30 columns</p>\n",
       "</div>"
      ],
      "text/plain": [
       "             name  landmass  zone  area  population  language  religion  bars  \\\n",
       "0     Afghanistan         5     1   648          16        10         2     0   \n",
       "1         Albania         3     1    29           3         6         6     0   \n",
       "2         Algeria         4     1  2388          20         8         2     2   \n",
       "3  American-Samoa         6     3     0           0         1         1     0   \n",
       "4         Andorra         3     1     0           0         6         0     3   \n",
       "\n",
       "   stripes  colours  ...  saltires  quarters  sunstars  crescent  triangle  \\\n",
       "0        3        5  ...         0         0         1         0         0   \n",
       "1        0        3  ...         0         0         1         0         0   \n",
       "2        0        3  ...         0         0         1         1         0   \n",
       "3        0        5  ...         0         0         0         0         1   \n",
       "4        0        3  ...         0         0         0         0         0   \n",
       "\n",
       "   icon  animate text  topleft  botright  \n",
       "0     1        0    0    black     green  \n",
       "1     0        1    0      red       red  \n",
       "2     0        0    0    green     white  \n",
       "3     1        1    0     blue       red  \n",
       "4     0        0    0     blue       red  \n",
       "\n",
       "[5 rows x 30 columns]"
      ]
     },
     "execution_count": 4,
     "metadata": {},
     "output_type": "execute_result"
    }
   ],
   "source": [
    "flags.head()"
   ]
  },
  {
   "cell_type": "code",
   "execution_count": 5,
   "id": "ddb81e62",
   "metadata": {},
   "outputs": [
    {
     "data": {
      "text/html": [
       "<div>\n",
       "<style scoped>\n",
       "    .dataframe tbody tr th:only-of-type {\n",
       "        vertical-align: middle;\n",
       "    }\n",
       "\n",
       "    .dataframe tbody tr th {\n",
       "        vertical-align: top;\n",
       "    }\n",
       "\n",
       "    .dataframe thead th {\n",
       "        text-align: right;\n",
       "    }\n",
       "</style>\n",
       "<table border=\"1\" class=\"dataframe\">\n",
       "  <thead>\n",
       "    <tr style=\"text-align: right;\">\n",
       "      <th></th>\n",
       "      <th>name</th>\n",
       "      <th>landmass</th>\n",
       "      <th>zone</th>\n",
       "      <th>area</th>\n",
       "      <th>population</th>\n",
       "      <th>language</th>\n",
       "      <th>religion</th>\n",
       "      <th>bars</th>\n",
       "      <th>stripes</th>\n",
       "      <th>colours</th>\n",
       "      <th>...</th>\n",
       "      <th>saltires</th>\n",
       "      <th>quarters</th>\n",
       "      <th>sunstars</th>\n",
       "      <th>crescent</th>\n",
       "      <th>triangle</th>\n",
       "      <th>icon</th>\n",
       "      <th>animate</th>\n",
       "      <th>text</th>\n",
       "      <th>topleft</th>\n",
       "      <th>botright</th>\n",
       "    </tr>\n",
       "  </thead>\n",
       "  <tbody>\n",
       "    <tr>\n",
       "      <th>189</th>\n",
       "      <td>Western-Samoa</td>\n",
       "      <td>6</td>\n",
       "      <td>3</td>\n",
       "      <td>3</td>\n",
       "      <td>0</td>\n",
       "      <td>1</td>\n",
       "      <td>1</td>\n",
       "      <td>0</td>\n",
       "      <td>0</td>\n",
       "      <td>3</td>\n",
       "      <td>...</td>\n",
       "      <td>0</td>\n",
       "      <td>1</td>\n",
       "      <td>5</td>\n",
       "      <td>0</td>\n",
       "      <td>0</td>\n",
       "      <td>0</td>\n",
       "      <td>0</td>\n",
       "      <td>0</td>\n",
       "      <td>blue</td>\n",
       "      <td>red</td>\n",
       "    </tr>\n",
       "    <tr>\n",
       "      <th>190</th>\n",
       "      <td>Yugoslavia</td>\n",
       "      <td>3</td>\n",
       "      <td>1</td>\n",
       "      <td>256</td>\n",
       "      <td>22</td>\n",
       "      <td>6</td>\n",
       "      <td>6</td>\n",
       "      <td>0</td>\n",
       "      <td>3</td>\n",
       "      <td>4</td>\n",
       "      <td>...</td>\n",
       "      <td>0</td>\n",
       "      <td>0</td>\n",
       "      <td>1</td>\n",
       "      <td>0</td>\n",
       "      <td>0</td>\n",
       "      <td>0</td>\n",
       "      <td>0</td>\n",
       "      <td>0</td>\n",
       "      <td>blue</td>\n",
       "      <td>red</td>\n",
       "    </tr>\n",
       "    <tr>\n",
       "      <th>191</th>\n",
       "      <td>Zaire</td>\n",
       "      <td>4</td>\n",
       "      <td>2</td>\n",
       "      <td>905</td>\n",
       "      <td>28</td>\n",
       "      <td>10</td>\n",
       "      <td>5</td>\n",
       "      <td>0</td>\n",
       "      <td>0</td>\n",
       "      <td>4</td>\n",
       "      <td>...</td>\n",
       "      <td>0</td>\n",
       "      <td>0</td>\n",
       "      <td>0</td>\n",
       "      <td>0</td>\n",
       "      <td>0</td>\n",
       "      <td>1</td>\n",
       "      <td>1</td>\n",
       "      <td>0</td>\n",
       "      <td>green</td>\n",
       "      <td>green</td>\n",
       "    </tr>\n",
       "    <tr>\n",
       "      <th>192</th>\n",
       "      <td>Zambia</td>\n",
       "      <td>4</td>\n",
       "      <td>2</td>\n",
       "      <td>753</td>\n",
       "      <td>6</td>\n",
       "      <td>10</td>\n",
       "      <td>5</td>\n",
       "      <td>3</td>\n",
       "      <td>0</td>\n",
       "      <td>4</td>\n",
       "      <td>...</td>\n",
       "      <td>0</td>\n",
       "      <td>0</td>\n",
       "      <td>0</td>\n",
       "      <td>0</td>\n",
       "      <td>0</td>\n",
       "      <td>0</td>\n",
       "      <td>1</td>\n",
       "      <td>0</td>\n",
       "      <td>green</td>\n",
       "      <td>brown</td>\n",
       "    </tr>\n",
       "    <tr>\n",
       "      <th>193</th>\n",
       "      <td>Zimbabwe</td>\n",
       "      <td>4</td>\n",
       "      <td>2</td>\n",
       "      <td>391</td>\n",
       "      <td>8</td>\n",
       "      <td>10</td>\n",
       "      <td>5</td>\n",
       "      <td>0</td>\n",
       "      <td>7</td>\n",
       "      <td>5</td>\n",
       "      <td>...</td>\n",
       "      <td>0</td>\n",
       "      <td>0</td>\n",
       "      <td>1</td>\n",
       "      <td>0</td>\n",
       "      <td>1</td>\n",
       "      <td>1</td>\n",
       "      <td>1</td>\n",
       "      <td>0</td>\n",
       "      <td>green</td>\n",
       "      <td>green</td>\n",
       "    </tr>\n",
       "  </tbody>\n",
       "</table>\n",
       "<p>5 rows × 30 columns</p>\n",
       "</div>"
      ],
      "text/plain": [
       "              name  landmass  zone  area  population  language  religion  \\\n",
       "189  Western-Samoa         6     3     3           0         1         1   \n",
       "190     Yugoslavia         3     1   256          22         6         6   \n",
       "191          Zaire         4     2   905          28        10         5   \n",
       "192         Zambia         4     2   753           6        10         5   \n",
       "193       Zimbabwe         4     2   391           8        10         5   \n",
       "\n",
       "     bars  stripes  colours  ...  saltires  quarters  sunstars  crescent  \\\n",
       "189     0        0        3  ...         0         1         5         0   \n",
       "190     0        3        4  ...         0         0         1         0   \n",
       "191     0        0        4  ...         0         0         0         0   \n",
       "192     3        0        4  ...         0         0         0         0   \n",
       "193     0        7        5  ...         0         0         1         0   \n",
       "\n",
       "     triangle  icon  animate text  topleft  botright  \n",
       "189         0     0        0    0     blue       red  \n",
       "190         0     0        0    0     blue       red  \n",
       "191         0     1        1    0    green     green  \n",
       "192         0     0        1    0    green     brown  \n",
       "193         1     1        1    0    green     green  \n",
       "\n",
       "[5 rows x 30 columns]"
      ]
     },
     "execution_count": 5,
     "metadata": {},
     "output_type": "execute_result"
    }
   ],
   "source": [
    "flags.tail()"
   ]
  },
  {
   "cell_type": "markdown",
   "id": "b8cc7aa8",
   "metadata": {},
   "source": [
    "###### Separa as cores"
   ]
  },
  {
   "cell_type": "code",
   "execution_count": 6,
   "id": "78de4c68",
   "metadata": {},
   "outputs": [],
   "source": [
    "green_color = flags['green']\n",
    "yellow_color = flags['gold']\n",
    "blue_color = flags['blue']\n",
    "white_color = flags['white']\n",
    "sum_all_colors = green_color + yellow_color + blue_color + white_color"
   ]
  },
  {
   "cell_type": "markdown",
   "id": "5f94a9e2",
   "metadata": {},
   "source": [
    "##### Gera um vetor booleano com True para quem tem as 4 cores"
   ]
  },
  {
   "cell_type": "code",
   "execution_count": 7,
   "id": "bfa44671",
   "metadata": {},
   "outputs": [],
   "source": [
    "has_all = (sum_all_colors==4)"
   ]
  },
  {
   "cell_type": "markdown",
   "id": "6cc5bb86",
   "metadata": {},
   "source": [
    "##### Imprime os nomes dos países com as quatro cores"
   ]
  },
  {
   "cell_type": "code",
   "execution_count": 8,
   "id": "694f1fab",
   "metadata": {},
   "outputs": [
    {
     "name": "stdout",
     "output_type": "stream",
     "text": [
      "Paises com as 4 cores\n",
      "17                       Belize\n",
      "19                      Bermuda\n",
      "23                       Brazil\n",
      "24         British-Virgin-Isles\n",
      "26                     Bulgaria\n",
      "33               Cayman-Islands\n",
      "34     Central-African-Republic\n",
      "48                     Dominica\n",
      "56           Falklands-Malvinas\n",
      "57                         Fiji\n",
      "71                         Guam\n",
      "78                    Hong-Kong\n",
      "116                  Montserrat\n",
      "135                     Parguay\n",
      "139                    Portugal\n",
      "142                     Romania\n",
      "151             Soloman-Islands\n",
      "158                   St-Helena\n",
      "161                  St-Vincent\n",
      "176         Turks-Cocos-Islands\n",
      "182             US-Virgin-Isles\n",
      "187                   Venezuela\n",
      "Name: name, dtype: object\n"
     ]
    }
   ],
   "source": [
    "print('Paises com as 4 cores')\n",
    "print(flags[has_all]['name'])"
   ]
  },
  {
   "cell_type": "markdown",
   "id": "9cadffc1",
   "metadata": {},
   "source": [
    "Variáveis Discretas\n",
    "\n",
    "    Definição: Variáveis discretas são aquelas que podem assumir um número finito ou contável de valores distintos."
   ]
  },
  {
   "cell_type": "markdown",
   "id": "271caa18",
   "metadata": {},
   "source": [
    "Variáveis Contínuas\n",
    "\n",
    "    Definição: Variáveis contínuas são aquelas que podem assumir qualquer valor dentro de um intervalo contínuo."
   ]
  },
  {
   "cell_type": "markdown",
   "id": "420f45ac",
   "metadata": {},
   "source": [
    "#### Nos  DataFrames  Python,  os  atributos discretos  são  armazenados  em  colunas  cujo   dtype   é   int64  enquanto os contínuos ocupam colunas  float64 "
   ]
  },
  {
   "cell_type": "markdown",
   "id": "9ba61f04",
   "metadata": {},
   "source": [
    "Características de Atributos Categóricos\n",
    "\n",
    "    Natureza Qualitativa: Os valores representam diferentes categorias ou tipos, e não quantidades.\n",
    "    \n",
    "    Valores Discretos: Os valores são distintos e não podem ser subdivididos de maneira significativa.\n",
    "    \n",
    "    Não Ordenados (Nominais): Não há uma ordem intrínseca nos valores das categorias. Por exemplo, cores (vermelho, azul, verde) ou tipos de animais (cachorro, gato, peixe).\n",
    "    \n",
    "    Ordenados (Ordinais): Algumas variáveis categóricas têm uma ordem ou hierarquia natural, embora as diferenças entre os valores não sejam quantificáveis. Por exemplo, classificações (baixo, médio, alto) ou níveis educacionais (fundamental, médio, superior).\n",
    "\n",
    "Exemplos de Atributos Categóricos\n",
    "\n",
    "    Nominais:\n",
    "        Cores de carros: vermelho, azul, preto, branco.\n",
    "        Tipo de fruta: maçã, banana, laranja, uva.\n",
    "        Estado civil: solteiro, casado, divorciado, viúvo.\n",
    "\n",
    "    Ordinais:\n",
    "        Níveis de satisfação: insatisfeito, neutro, satisfeito, muito satisfeito.\n",
    "        Classificação de risco: baixo, médio, alto.\n",
    "        Grau de escolaridade: fundamental, médio, superior."
   ]
  },
  {
   "attachments": {
    "image.png": {
     "image/png": "[encoded data removed]"
    }
   },
   "cell_type": "markdown",
   "id": "09e6cea8",
   "metadata": {},
   "source": [
    "![image.png](attachment:image.png)"
   ]
  },
  {
   "cell_type": "code",
   "execution_count": 9,
   "id": "f0a69597",
   "metadata": {},
   "outputs": [],
   "source": [
    "# Tipos de Atributos"
   ]
  },
  {
   "cell_type": "code",
   "execution_count": 10,
   "id": "58924b8a",
   "metadata": {},
   "outputs": [],
   "source": [
    "data_research = {\n",
    "    \"income\": [6.46, 1.50, 0.00, 2.57, 9.90, 6.22],\n",
    "    \"job\": [1, 1, 0, 1, 2, 3],\n",
    "    \"sex\": [\"F\", \"M\", \"F\", \"M\", \"M\", \"F\"],\n",
    "    \"education\": ['Postgraduate', 'elementary School', 'high school', 'high school', 'University education', 'high school']\n",
    "}"
   ]
  },
  {
   "cell_type": "code",
   "execution_count": 11,
   "id": "99fb4180",
   "metadata": {},
   "outputs": [],
   "source": [
    "pme = pd.DataFrame(data_research)"
   ]
  },
  {
   "cell_type": "code",
   "execution_count": 12,
   "id": "c61b5012",
   "metadata": {},
   "outputs": [
    {
     "name": "stdout",
     "output_type": "stream",
     "text": [
      "Atributos e seus Dtypes:\n",
      "income       float64\n",
      "job            int64\n",
      "sex           object\n",
      "education     object\n",
      "dtype: object\n"
     ]
    }
   ],
   "source": [
    "print(\"Atributos e seus Dtypes:\")\n",
    "print(pme.dtypes)"
   ]
  },
  {
   "cell_type": "code",
   "execution_count": 13,
   "id": "9b24ee3d",
   "metadata": {},
   "outputs": [],
   "source": [
    "data_infringiment = {\n",
    "    'jogador': ['Marcelo', 'Pedro', 'Marcelo', 'Adriano', 'Mauro', 'Pedro', 'Marcelo'],\n",
    "    'infração': ['Falta Violenta', 'Reclamação', 'Falta Comum', 'Reclamação', 'Falta Comum', 'Falta violenta', 'Reclamação'],\n",
    "    'punição': [4, 1, 3, 2, 4, 4, 2]\n",
    "}"
   ]
  },
  {
   "cell_type": "code",
   "execution_count": 14,
   "id": "fc0ae025",
   "metadata": {},
   "outputs": [],
   "source": [
    "data_frame_infrigiment = pd.DataFrame(data_infringiment)"
   ]
  },
  {
   "cell_type": "code",
   "execution_count": 15,
   "id": "2296eb7b",
   "metadata": {},
   "outputs": [],
   "source": [
    "# Calcula as medidas de tendência central"
   ]
  },
  {
   "cell_type": "code",
   "execution_count": 16,
   "id": "6a1889ed",
   "metadata": {},
   "outputs": [
    {
     "name": "stdout",
     "output_type": "stream",
     "text": [
      "Média:  2.857142857142857\n"
     ]
    }
   ],
   "source": [
    "print(\"Média: \", data_frame_infrigiment['punição'].mean())"
   ]
  },
  {
   "cell_type": "code",
   "execution_count": 17,
   "id": "793cf6b4",
   "metadata": {},
   "outputs": [
    {
     "name": "stdout",
     "output_type": "stream",
     "text": [
      "Mediana:  3.0\n"
     ]
    }
   ],
   "source": [
    "print('Mediana: ', data_frame_infrigiment['punição'].median())"
   ]
  },
  {
   "cell_type": "code",
   "execution_count": 18,
   "id": "199ebc18",
   "metadata": {},
   "outputs": [
    {
     "name": "stdout",
     "output_type": "stream",
     "text": [
      "Moda:  [4]\n"
     ]
    }
   ],
   "source": [
    "print('Moda: ', data_frame_infrigiment['punição'].mode().values)"
   ]
  },
  {
   "cell_type": "code",
   "execution_count": 19,
   "id": "60d3f8da",
   "metadata": {},
   "outputs": [
    {
     "name": "stdout",
     "output_type": "stream",
     "text": [
      "Moda:  0    4\n",
      "dtype: int64\n"
     ]
    }
   ],
   "source": [
    "print('Moda: ', data_frame_infrigiment['punição'].mode())"
   ]
  },
  {
   "attachments": {
    "image.png": {
     "image/png": "[encoded data removed]"
    }
   },
   "cell_type": "markdown",
   "id": "c40f7821",
   "metadata": {},
   "source": [
    "![image.png](attachment:image.png)"
   ]
  },
  {
   "cell_type": "code",
   "execution_count": 20,
   "id": "06b001c7",
   "metadata": {},
   "outputs": [],
   "source": [
    "data_infrigiment_with_judge = {\n",
    "    \"jogador\": [\"Marcelo\", \"Pedro\",\"Marcelo\", \"Adriano\",\"Mauro\", \"Pedro\",\"Marcelo\"],\n",
    "    \"infracao\": [\"FALTA VIOLENTA\", \"RECLAMACAO\",\"FALTA COMUM\",\"RECLAMACAO\",\"FALTA COMUM\",\"FALTA VIOLENTA\",\"RECLAMACAO\"],\n",
    "    \"juiz_A\": [4,1,3,2,4,4,2],\n",
    "    \"juiz_B\": [2,1,4,1,1,5,6]\n",
    "}"
   ]
  },
  {
   "cell_type": "code",
   "execution_count": 21,
   "id": "a4894186",
   "metadata": {},
   "outputs": [],
   "source": [
    "data_frame_infrigiment_with_judge = pd.DataFrame(data_infrigiment_with_judge)"
   ]
  },
  {
   "cell_type": "code",
   "execution_count": 22,
   "id": "5f4a251e",
   "metadata": {},
   "outputs": [],
   "source": [
    "# Calcula as medidas de variabilidade"
   ]
  },
  {
   "cell_type": "code",
   "execution_count": 23,
   "id": "e00d996a",
   "metadata": {},
   "outputs": [
    {
     "name": "stdout",
     "output_type": "stream",
     "text": [
      "Juiz A\n",
      "Amplitude:  3\n",
      "Variancia:  1.476190476190476\n",
      "Desvio Padrão:  1.2149857925879117\n"
     ]
    }
   ],
   "source": [
    "print('Juiz A')\n",
    "print('Amplitude: ', data_frame_infrigiment_with_judge['juiz_A'].max() - data_frame_infrigiment_with_judge['juiz_A'].min())\n",
    "print('Variancia: ', data_frame_infrigiment_with_judge['juiz_A'].var())\n",
    "print('Desvio Padrão: ', data_frame_infrigiment_with_judge['juiz_A'].std())"
   ]
  },
  {
   "cell_type": "code",
   "execution_count": 24,
   "id": "7e064917",
   "metadata": {},
   "outputs": [
    {
     "name": "stdout",
     "output_type": "stream",
     "text": [
      "Juiz B\n",
      "Amplitude:  5\n",
      "Variancia:  4.476190476190476\n",
      "Desvio Padrão:  2.1157009420498154\n"
     ]
    }
   ],
   "source": [
    "print('Juiz B')\n",
    "print('Amplitude: ', data_frame_infrigiment_with_judge['juiz_B'].max() - data_frame_infrigiment_with_judge['juiz_B'].min())\n",
    "print('Variancia: ', data_frame_infrigiment_with_judge['juiz_B'].var())\n",
    "print('Desvio Padrão: ', data_frame_infrigiment_with_judge['juiz_B'].std())"
   ]
  },
  {
   "cell_type": "markdown",
   "id": "bd4e7da3",
   "metadata": {},
   "source": [
    "## Boxplot"
   ]
  },
  {
   "cell_type": "markdown",
   "id": "c4892d17",
   "metadata": {},
   "source": [
    "#### Boxplot  é  uma  técnica  gráfica  popularmente  utilizada  para exibir  vários  aspectos de um  conjunto de dados."
   ]
  },
  {
   "cell_type": "code",
   "execution_count": 25,
   "id": "ec095096",
   "metadata": {},
   "outputs": [],
   "source": [
    "men = [4, 2, 7, 3, 1, 4, 2, 4, 8, 1]\n",
    "women = [5, 4, 6, 5, 4, 2, 6, 6, 4, 3]"
   ]
  },
  {
   "cell_type": "markdown",
   "id": "8a8ba147",
   "metadata": {},
   "source": [
    "#### Através de um boxplot você consegue visualizar em um mesmo gráfico a média, mediana, desvio padrão e amplitude dos homens e mulheres, o que facilita a tarefa de comparar o comportamento dos dois grupos."
   ]
  },
  {
   "attachments": {
    "image.png": {
     "image/png": "[encoded data removed]"
    }
   },
   "cell_type": "markdown",
   "id": "7101960c",
   "metadata": {},
   "source": [
    "![image.png](attachment:image.png)"
   ]
  },
  {
   "cell_type": "code",
   "execution_count": 26,
   "id": "aaf6b379",
   "metadata": {},
   "outputs": [],
   "source": [
    "data_box_plot_men_women = {\n",
    "    'Men': men,\n",
    "    'Women': women\n",
    "}"
   ]
  },
  {
   "cell_type": "code",
   "execution_count": 27,
   "id": "0d3e00c0",
   "metadata": {},
   "outputs": [],
   "source": [
    "data_frame_data_box_plot_men_women = pd.DataFrame(data_box_plot_men_women)"
   ]
  },
  {
   "cell_type": "code",
   "execution_count": 28,
   "id": "576f71ca",
   "metadata": {},
   "outputs": [
    {
     "data": {
      "text/html": [
       "<div>\n",
       "<style scoped>\n",
       "    .dataframe tbody tr th:only-of-type {\n",
       "        vertical-align: middle;\n",
       "    }\n",
       "\n",
       "    .dataframe tbody tr th {\n",
       "        vertical-align: top;\n",
       "    }\n",
       "\n",
       "    .dataframe thead th {\n",
       "        text-align: right;\n",
       "    }\n",
       "</style>\n",
       "<table border=\"1\" class=\"dataframe\">\n",
       "  <thead>\n",
       "    <tr style=\"text-align: right;\">\n",
       "      <th></th>\n",
       "      <th>Men</th>\n",
       "      <th>Women</th>\n",
       "    </tr>\n",
       "  </thead>\n",
       "  <tbody>\n",
       "    <tr>\n",
       "      <th>0</th>\n",
       "      <td>4</td>\n",
       "      <td>5</td>\n",
       "    </tr>\n",
       "    <tr>\n",
       "      <th>1</th>\n",
       "      <td>2</td>\n",
       "      <td>4</td>\n",
       "    </tr>\n",
       "    <tr>\n",
       "      <th>2</th>\n",
       "      <td>7</td>\n",
       "      <td>6</td>\n",
       "    </tr>\n",
       "    <tr>\n",
       "      <th>3</th>\n",
       "      <td>3</td>\n",
       "      <td>5</td>\n",
       "    </tr>\n",
       "    <tr>\n",
       "      <th>4</th>\n",
       "      <td>1</td>\n",
       "      <td>4</td>\n",
       "    </tr>\n",
       "    <tr>\n",
       "      <th>5</th>\n",
       "      <td>4</td>\n",
       "      <td>2</td>\n",
       "    </tr>\n",
       "    <tr>\n",
       "      <th>6</th>\n",
       "      <td>2</td>\n",
       "      <td>6</td>\n",
       "    </tr>\n",
       "    <tr>\n",
       "      <th>7</th>\n",
       "      <td>4</td>\n",
       "      <td>6</td>\n",
       "    </tr>\n",
       "    <tr>\n",
       "      <th>8</th>\n",
       "      <td>8</td>\n",
       "      <td>4</td>\n",
       "    </tr>\n",
       "    <tr>\n",
       "      <th>9</th>\n",
       "      <td>1</td>\n",
       "      <td>3</td>\n",
       "    </tr>\n",
       "  </tbody>\n",
       "</table>\n",
       "</div>"
      ],
      "text/plain": [
       "   Men  Women\n",
       "0    4      5\n",
       "1    2      4\n",
       "2    7      6\n",
       "3    3      5\n",
       "4    1      4\n",
       "5    4      2\n",
       "6    2      6\n",
       "7    4      6\n",
       "8    8      4\n",
       "9    1      3"
      ]
     },
     "execution_count": 28,
     "metadata": {},
     "output_type": "execute_result"
    }
   ],
   "source": [
    "data_frame_data_box_plot_men_women"
   ]
  },
  {
   "cell_type": "code",
   "execution_count": 29,
   "id": "01c70126",
   "metadata": {},
   "outputs": [
    {
     "data": {
      "image/png": "[encoded data removed]",
      "text/plain": [
       "<Figure size 432x288 with 1 Axes>"
      ]
     },
     "metadata": {
      "needs_background": "light"
     },
     "output_type": "display_data"
    }
   ],
   "source": [
    "box_plot = data_frame_data_box_plot_men_women.boxplot(column=['Men', 'Women'], showmeans=True)"
   ]
  },
  {
   "cell_type": "code",
   "execution_count": 30,
   "id": "4df98734",
   "metadata": {},
   "outputs": [
    {
     "name": "stdout",
     "output_type": "stream",
     "text": [
      "Mediana:  3.5\n"
     ]
    }
   ],
   "source": [
    "print('Mediana: ', data_frame_data_box_plot_men_women['Men'].median())"
   ]
  },
  {
   "cell_type": "code",
   "execution_count": 31,
   "id": "3eb739af",
   "metadata": {},
   "outputs": [
    {
     "name": "stdout",
     "output_type": "stream",
     "text": [
      "Média:  3.6\n"
     ]
    }
   ],
   "source": [
    "print(\"Média: \", data_frame_data_box_plot_men_women['Men'].mean())"
   ]
  },
  {
   "cell_type": "code",
   "execution_count": 32,
   "id": "272466c8",
   "metadata": {},
   "outputs": [
    {
     "name": "stdout",
     "output_type": "stream",
     "text": [
      "Moda:  [4]\n"
     ]
    }
   ],
   "source": [
    "print('Moda: ', data_frame_data_box_plot_men_women['Men'].mode().values)"
   ]
  },
  {
   "cell_type": "code",
   "execution_count": 33,
   "id": "fb89e6a7",
   "metadata": {},
   "outputs": [
    {
     "name": "stdout",
     "output_type": "stream",
     "text": [
      "Mediana:  4.5\n",
      "Média:  4.5\n",
      "Moda:  [4 6]\n"
     ]
    }
   ],
   "source": [
    "print('Mediana: ', data_frame_data_box_plot_men_women['Women'].median())\n",
    "print(\"Média: \", data_frame_data_box_plot_men_women['Women'].mean())\n",
    "print('Moda: ', data_frame_data_box_plot_men_women['Women'].mode().values)"
   ]
  },
  {
   "cell_type": "code",
   "execution_count": 34,
   "id": "cd483119",
   "metadata": {},
   "outputs": [],
   "source": [
    "q1_men = data_frame_data_box_plot_men_women['Men'].quantile(0.25)\n",
    "q3_men = data_frame_data_box_plot_men_women['Men'].quantile(0.75)"
   ]
  },
  {
   "cell_type": "code",
   "execution_count": 35,
   "id": "c0ffc258",
   "metadata": {},
   "outputs": [],
   "source": [
    "q1_women = data_frame_data_box_plot_men_women['Women'].quantile(0.25)\n",
    "q3_women = data_frame_data_box_plot_men_women['Women'].quantile(0.75)"
   ]
  },
  {
   "cell_type": "code",
   "execution_count": 36,
   "id": "dd2e8eca",
   "metadata": {},
   "outputs": [
    {
     "data": {
      "text/plain": [
       "(2.0, 4.0, 4.0, 5.75)"
      ]
     },
     "execution_count": 36,
     "metadata": {},
     "output_type": "execute_result"
    }
   ],
   "source": [
    "q1_men, q3_men, q1_women, q3_women"
   ]
  },
  {
   "cell_type": "code",
   "execution_count": 40,
   "id": "a0f279e7",
   "metadata": {},
   "outputs": [],
   "source": [
    "grade_students = pd.DataFrame({\"A1\": [9.8, 7.2, 8.0],\n",
    "                                \"A2\": [5.3, 4.0, 3.5], \n",
    "                                   \"A3\": [5.5, 8.1, 7.2],\n",
    "                                       \"A4\": [7.0, 7.5, 6.5]},\n",
    "                                index=[\"P1\", \"P2\", \"P3\"])"
   ]
  },
  {
   "cell_type": "code",
   "execution_count": 41,
   "id": "961004be",
   "metadata": {},
   "outputs": [
    {
     "data": {
      "text/html": [
       "<div>\n",
       "<style scoped>\n",
       "    .dataframe tbody tr th:only-of-type {\n",
       "        vertical-align: middle;\n",
       "    }\n",
       "\n",
       "    .dataframe tbody tr th {\n",
       "        vertical-align: top;\n",
       "    }\n",
       "\n",
       "    .dataframe thead th {\n",
       "        text-align: right;\n",
       "    }\n",
       "</style>\n",
       "<table border=\"1\" class=\"dataframe\">\n",
       "  <thead>\n",
       "    <tr style=\"text-align: right;\">\n",
       "      <th></th>\n",
       "      <th>A1</th>\n",
       "      <th>A2</th>\n",
       "      <th>A3</th>\n",
       "      <th>A4</th>\n",
       "    </tr>\n",
       "  </thead>\n",
       "  <tbody>\n",
       "    <tr>\n",
       "      <th>P1</th>\n",
       "      <td>9.8</td>\n",
       "      <td>5.3</td>\n",
       "      <td>5.5</td>\n",
       "      <td>7.0</td>\n",
       "    </tr>\n",
       "    <tr>\n",
       "      <th>P2</th>\n",
       "      <td>7.2</td>\n",
       "      <td>4.0</td>\n",
       "      <td>8.1</td>\n",
       "      <td>7.5</td>\n",
       "    </tr>\n",
       "    <tr>\n",
       "      <th>P3</th>\n",
       "      <td>8.0</td>\n",
       "      <td>3.5</td>\n",
       "      <td>7.2</td>\n",
       "      <td>6.5</td>\n",
       "    </tr>\n",
       "  </tbody>\n",
       "</table>\n",
       "</div>"
      ],
      "text/plain": [
       "     A1   A2   A3   A4\n",
       "P1  9.8  5.3  5.5  7.0\n",
       "P2  7.2  4.0  8.1  7.5\n",
       "P3  8.0  3.5  7.2  6.5"
      ]
     },
     "execution_count": 41,
     "metadata": {},
     "output_type": "execute_result"
    }
   ],
   "source": [
    "grade_students"
   ]
  },
  {
   "cell_type": "code",
   "execution_count": 42,
   "id": "42e7c239",
   "metadata": {},
   "outputs": [
    {
     "name": "stdout",
     "output_type": "stream",
     "text": [
      "A1    8.333333\n",
      "A2    4.266667\n",
      "A3    6.933333\n",
      "A4    7.000000\n",
      "dtype: float64\n"
     ]
    }
   ],
   "source": [
    "print(grade_students.mean())"
   ]
  },
  {
   "cell_type": "code",
   "execution_count": 43,
   "id": "e68b3ddf",
   "metadata": {},
   "outputs": [
    {
     "name": "stdout",
     "output_type": "stream",
     "text": [
      "Maior nota de cada aluno\n",
      "A1    9.8\n",
      "A2    5.3\n",
      "A3    8.1\n",
      "A4    7.5\n",
      "dtype: float64\n"
     ]
    }
   ],
   "source": [
    "print('Maior nota de cada aluno')\n",
    "print(grade_students.max())"
   ]
  },
  {
   "cell_type": "code",
   "execution_count": 45,
   "id": "5f4a2ee7",
   "metadata": {},
   "outputs": [
    {
     "name": "stdout",
     "output_type": "stream",
     "text": [
      "Média de cada prova\n",
      "P1    6.9\n",
      "P2    6.7\n",
      "P3    6.3\n",
      "dtype: float64\n"
     ]
    }
   ],
   "source": [
    "print('Média de cada prova')\n",
    "print(grade_students.mean(axis=1))"
   ]
  },
  {
   "cell_type": "code",
   "execution_count": 47,
   "id": "a606a098",
   "metadata": {},
   "outputs": [
    {
     "name": "stdout",
     "output_type": "stream",
     "text": [
      "Maior nota de cada prova\n",
      "P1    9.8\n",
      "P2    8.1\n",
      "P3    8.0\n",
      "dtype: float64\n"
     ]
    }
   ],
   "source": [
    "print('Maior nota de cada prova')\n",
    "print(grade_students.max(axis=1))"
   ]
  },
  {
   "cell_type": "code",
   "execution_count": null,
   "id": "26d95158",
   "metadata": {},
   "outputs": [],
   "source": []
  }
 ],
 "metadata": {
  "kernelspec": {
   "display_name": "Python 3 (ipykernel)",
   "language": "python",
   "name": "python3"
  },
  "language_info": {
   "codemirror_mode": {
    "name": "ipython",
    "version": 3
   },
   "file_extension": ".py",
   "mimetype": "text/x-python",
   "name": "python",
   "nbconvert_exporter": "python",
   "pygments_lexer": "ipython3",
   "version": "3.9.7"
  }
 },
 "nbformat": 4,
 "nbformat_minor": 5
}
