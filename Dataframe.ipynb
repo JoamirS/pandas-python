{
 "cells": [
  {
   "cell_type": "markdown",
   "id": "30c8f27e",
   "metadata": {},
   "source": [
    "##### Dataframe é um dicícionário de séries e cada coluna é uma séries"
   ]
  },
  {
   "cell_type": "code",
   "execution_count": 126,
   "id": "6c0d38be",
   "metadata": {},
   "outputs": [],
   "source": [
    "import pandas as pd"
   ]
  },
  {
   "cell_type": "code",
   "execution_count": 127,
   "id": "3c0d0cac",
   "metadata": {},
   "outputs": [],
   "source": [
    "data_all_countries = {\n",
    "    'name': ['Argentina', 'Brasil', 'França', 'Itália', 'Reino Unido'],\n",
    "    'continente': ['América', 'América', 'Europa', 'Europa', 'Europa'],\n",
    "    'extensao': [2780, 8511, 644, 301, 244],\n",
    "    'corVerde': [0, 1, 0, 1, 0]\n",
    "}"
   ]
  },
  {
   "cell_type": "code",
   "execution_count": 128,
   "id": "b573e657",
   "metadata": {},
   "outputs": [],
   "source": [
    "acronyms_countries = ['AR', 'BR', 'FR', 'IT', 'UK']"
   ]
  },
  {
   "cell_type": "code",
   "execution_count": 129,
   "id": "60910615",
   "metadata": {},
   "outputs": [],
   "source": [
    "countries = pd.DataFrame(data_all_countries, index=acronyms_countries)"
   ]
  },
  {
   "cell_type": "code",
   "execution_count": 130,
   "id": "4ab739a6",
   "metadata": {},
   "outputs": [
    {
     "name": "stdout",
     "output_type": "stream",
     "text": [
      "           name continente  extensao  corVerde\n",
      "AR    Argentina    América      2780         0\n",
      "BR       Brasil    América      8511         1\n",
      "FR       França     Europa       644         0\n",
      "IT       Itália     Europa       301         1\n",
      "UK  Reino Unido     Europa       244         0\n"
     ]
    }
   ],
   "source": [
    "print(countries)"
   ]
  },
  {
   "cell_type": "markdown",
   "id": "9e2ebf7d",
   "metadata": {},
   "source": [
    "### Todo  DataFrame  é  um  objeto  do  tipo pandas.core.frame.DataFrame\n",
    "que  possui  as  seguintes propriedades básicas:\n",
    "\n",
    "shape : formato do DataFrame, ou seja, o seu número de linhas ( shape[0] ) e de colunas ( shape[1] );\n",
    "\n",
    "index : lista com os rótulos das linhas;\n",
    "\n",
    "columns : lista com os rótulos das colunas;\n",
    "\n",
    "dtypes :  retorna  uma  Series  com  os   dtypes   de  cada coluna;\n",
    "\n",
    "index.dtype :  dtype  dos rótulos das linhas"
   ]
  },
  {
   "cell_type": "code",
   "execution_count": 131,
   "id": "2741b17c",
   "metadata": {},
   "outputs": [],
   "source": [
    "# Recupera e imprime as propriedades"
   ]
  },
  {
   "cell_type": "code",
   "execution_count": 132,
   "id": "0f2d6a22",
   "metadata": {},
   "outputs": [],
   "source": [
    "number_of_lines = countries.shape[0]\n",
    "number_of_columns = countries.shape[1]\n",
    "index_contries = countries.index\n",
    "columns_countries = countries.columns\n",
    "countries_type = type(countries)\n",
    "countries_dtypes = countries.dtypes\n",
    "countries_index_dtype = countries.index.dtype"
   ]
  },
  {
   "cell_type": "code",
   "execution_count": 133,
   "id": "66f2e7dc",
   "metadata": {},
   "outputs": [
    {
     "name": "stdout",
     "output_type": "stream",
     "text": [
      "Número de linhas:  5\n",
      "Numéro de colunas:  4\n",
      "Rótulos das linhas:  Index(['AR', 'BR', 'FR', 'IT', 'UK'], dtype='object')\n",
      "Rótulos das colunas:  Index(['name', 'continente', 'extensao', 'corVerde'], dtype='object')\n",
      "Tipo (type):  <class 'pandas.core.frame.DataFrame'>\n",
      "Dtypes das colunas: \n",
      " name          object\n",
      "continente    object\n",
      "extensao       int64\n",
      "corVerde       int64\n",
      "dtype: object\n",
      "Dtype dos rótulos das linhas:  object\n"
     ]
    }
   ],
   "source": [
    "print('Número de linhas: ', number_of_lines)\n",
    "print('Numéro de colunas: ', number_of_columns)\n",
    "print('Rótulos das linhas: ', index_contries)\n",
    "print('Rótulos das colunas: ', columns_countries)\n",
    "print('Tipo (type): ', countries_type)\n",
    "print('Dtypes das colunas: \\n', countries_dtypes)\n",
    "print('Dtype dos rótulos das linhas: ', countries_index_dtype)"
   ]
  },
  {
   "cell_type": "code",
   "execution_count": 134,
   "id": "c220d2c1",
   "metadata": {},
   "outputs": [
    {
     "data": {
      "text/html": [
       "<div>\n",
       "<style scoped>\n",
       "    .dataframe tbody tr th:only-of-type {\n",
       "        vertical-align: middle;\n",
       "    }\n",
       "\n",
       "    .dataframe tbody tr th {\n",
       "        vertical-align: top;\n",
       "    }\n",
       "\n",
       "    .dataframe thead th {\n",
       "        text-align: right;\n",
       "    }\n",
       "</style>\n",
       "<table border=\"1\" class=\"dataframe\">\n",
       "  <thead>\n",
       "    <tr style=\"text-align: right;\">\n",
       "      <th></th>\n",
       "      <th>name</th>\n",
       "      <th>continente</th>\n",
       "      <th>extensao</th>\n",
       "      <th>corVerde</th>\n",
       "    </tr>\n",
       "  </thead>\n",
       "  <tbody>\n",
       "    <tr>\n",
       "      <th>AR</th>\n",
       "      <td>Argentina</td>\n",
       "      <td>América</td>\n",
       "      <td>2780</td>\n",
       "      <td>0</td>\n",
       "    </tr>\n",
       "    <tr>\n",
       "      <th>BR</th>\n",
       "      <td>Brasil</td>\n",
       "      <td>América</td>\n",
       "      <td>8511</td>\n",
       "      <td>1</td>\n",
       "    </tr>\n",
       "    <tr>\n",
       "      <th>FR</th>\n",
       "      <td>França</td>\n",
       "      <td>Europa</td>\n",
       "      <td>644</td>\n",
       "      <td>0</td>\n",
       "    </tr>\n",
       "    <tr>\n",
       "      <th>IT</th>\n",
       "      <td>Itália</td>\n",
       "      <td>Europa</td>\n",
       "      <td>301</td>\n",
       "      <td>1</td>\n",
       "    </tr>\n",
       "    <tr>\n",
       "      <th>UK</th>\n",
       "      <td>Reino Unido</td>\n",
       "      <td>Europa</td>\n",
       "      <td>244</td>\n",
       "      <td>0</td>\n",
       "    </tr>\n",
       "  </tbody>\n",
       "</table>\n",
       "</div>"
      ],
      "text/plain": [
       "           name continente  extensao  corVerde\n",
       "AR    Argentina    América      2780         0\n",
       "BR       Brasil    América      8511         1\n",
       "FR       França     Europa       644         0\n",
       "IT       Itália     Europa       301         1\n",
       "UK  Reino Unido     Europa       244         0"
      ]
     },
     "execution_count": 134,
     "metadata": {},
     "output_type": "execute_result"
    }
   ],
   "source": [
    "countries"
   ]
  },
  {
   "cell_type": "code",
   "execution_count": 135,
   "id": "156d1868",
   "metadata": {},
   "outputs": [
    {
     "data": {
      "text/plain": [
       "'América'"
      ]
     },
     "execution_count": 135,
     "metadata": {},
     "output_type": "execute_result"
    }
   ],
   "source": [
    "countries.iloc[1][1]"
   ]
  },
  {
   "cell_type": "code",
   "execution_count": 136,
   "id": "e1db6022",
   "metadata": {},
   "outputs": [
    {
     "data": {
      "text/plain": [
       "'América'"
      ]
     },
     "execution_count": 136,
     "metadata": {},
     "output_type": "execute_result"
    }
   ],
   "source": [
    "countries.iat[0, 1]"
   ]
  },
  {
   "cell_type": "code",
   "execution_count": 137,
   "id": "025926db",
   "metadata": {},
   "outputs": [
    {
     "data": {
      "text/plain": [
       "'Brasil'"
      ]
     },
     "execution_count": 137,
     "metadata": {},
     "output_type": "execute_result"
    }
   ],
   "source": [
    "countries.iloc[1]['name']"
   ]
  },
  {
   "cell_type": "code",
   "execution_count": 138,
   "id": "026b179f",
   "metadata": {},
   "outputs": [
    {
     "data": {
      "text/plain": [
       "644"
      ]
     },
     "execution_count": 138,
     "metadata": {},
     "output_type": "execute_result"
    }
   ],
   "source": [
    "countries.loc['FR']['extensao']"
   ]
  },
  {
   "cell_type": "code",
   "execution_count": 139,
   "id": "3881ab82",
   "metadata": {},
   "outputs": [
    {
     "data": {
      "text/plain": [
       "'Reino Unido'"
      ]
     },
     "execution_count": 139,
     "metadata": {},
     "output_type": "execute_result"
    }
   ],
   "source": [
    "countries.loc['UK'][0]"
   ]
  },
  {
   "cell_type": "code",
   "execution_count": 140,
   "id": "f92e1096",
   "metadata": {},
   "outputs": [
    {
     "data": {
      "text/plain": [
       "1"
      ]
     },
     "execution_count": 140,
     "metadata": {},
     "output_type": "execute_result"
    }
   ],
   "source": [
    "countries.at['BR', 'corVerde']"
   ]
  },
  {
   "cell_type": "code",
   "execution_count": 141,
   "id": "6027aadb",
   "metadata": {},
   "outputs": [
    {
     "data": {
      "text/plain": [
       "AR      Argentina\n",
       "BR         Brasil\n",
       "FR         França\n",
       "IT         Itália\n",
       "UK    Reino Unido\n",
       "Name: name, dtype: object"
      ]
     },
     "execution_count": 141,
     "metadata": {},
     "output_type": "execute_result"
    }
   ],
   "source": [
    "countries['name']"
   ]
  },
  {
   "cell_type": "code",
   "execution_count": 142,
   "id": "4795e155",
   "metadata": {},
   "outputs": [
    {
     "data": {
      "text/plain": [
       "AR      Argentina\n",
       "BR         Brasil\n",
       "FR         França\n",
       "IT         Itália\n",
       "UK    Reino Unido\n",
       "Name: name, dtype: object"
      ]
     },
     "execution_count": 142,
     "metadata": {},
     "output_type": "execute_result"
    }
   ],
   "source": [
    "countries.name"
   ]
  },
  {
   "cell_type": "code",
   "execution_count": 143,
   "id": "89e1130d",
   "metadata": {},
   "outputs": [
    {
     "data": {
      "text/plain": [
       "name           Brasil\n",
       "continente    América\n",
       "extensao         8511\n",
       "corVerde            1\n",
       "Name: BR, dtype: object"
      ]
     },
     "execution_count": 143,
     "metadata": {},
     "output_type": "execute_result"
    }
   ],
   "source": [
    "countries.loc['BR']"
   ]
  },
  {
   "cell_type": "code",
   "execution_count": 144,
   "id": "07458c7d",
   "metadata": {},
   "outputs": [
    {
     "data": {
      "text/plain": [
       "name          Argentina\n",
       "continente      América\n",
       "extensao           2780\n",
       "corVerde              0\n",
       "Name: AR, dtype: object"
      ]
     },
     "execution_count": 144,
     "metadata": {},
     "output_type": "execute_result"
    }
   ],
   "source": [
    "countries.iloc[0]"
   ]
  },
  {
   "cell_type": "markdown",
   "id": "e8871f4b",
   "metadata": {},
   "source": [
    "### Fatiamento"
   ]
  },
  {
   "cell_type": "code",
   "execution_count": 145,
   "id": "8f5e902f",
   "metadata": {},
   "outputs": [
    {
     "data": {
      "text/html": [
       "<div>\n",
       "<style scoped>\n",
       "    .dataframe tbody tr th:only-of-type {\n",
       "        vertical-align: middle;\n",
       "    }\n",
       "\n",
       "    .dataframe tbody tr th {\n",
       "        vertical-align: top;\n",
       "    }\n",
       "\n",
       "    .dataframe thead th {\n",
       "        text-align: right;\n",
       "    }\n",
       "</style>\n",
       "<table border=\"1\" class=\"dataframe\">\n",
       "  <thead>\n",
       "    <tr style=\"text-align: right;\">\n",
       "      <th></th>\n",
       "      <th>name</th>\n",
       "      <th>continente</th>\n",
       "    </tr>\n",
       "  </thead>\n",
       "  <tbody>\n",
       "    <tr>\n",
       "      <th>AR</th>\n",
       "      <td>Argentina</td>\n",
       "      <td>América</td>\n",
       "    </tr>\n",
       "    <tr>\n",
       "      <th>BR</th>\n",
       "      <td>Brasil</td>\n",
       "      <td>América</td>\n",
       "    </tr>\n",
       "    <tr>\n",
       "      <th>FR</th>\n",
       "      <td>França</td>\n",
       "      <td>Europa</td>\n",
       "    </tr>\n",
       "  </tbody>\n",
       "</table>\n",
       "</div>"
      ],
      "text/plain": [
       "         name continente\n",
       "AR  Argentina    América\n",
       "BR     Brasil    América\n",
       "FR     França     Europa"
      ]
     },
     "execution_count": 145,
     "metadata": {},
     "output_type": "execute_result"
    }
   ],
   "source": [
    "countries.iloc[:3, :2]"
   ]
  },
  {
   "cell_type": "code",
   "execution_count": 146,
   "id": "48b959c7",
   "metadata": {},
   "outputs": [
    {
     "data": {
      "text/plain": [
       "BR    1\n",
       "IT    1\n",
       "Name: corVerde, dtype: int64"
      ]
     },
     "execution_count": 146,
     "metadata": {},
     "output_type": "execute_result"
    }
   ],
   "source": [
    "countries.loc[['BR', 'IT'], 'corVerde']"
   ]
  },
  {
   "cell_type": "code",
   "execution_count": 147,
   "id": "10ccd82e",
   "metadata": {},
   "outputs": [
    {
     "data": {
      "text/html": [
       "<div>\n",
       "<style scoped>\n",
       "    .dataframe tbody tr th:only-of-type {\n",
       "        vertical-align: middle;\n",
       "    }\n",
       "\n",
       "    .dataframe tbody tr th {\n",
       "        vertical-align: top;\n",
       "    }\n",
       "\n",
       "    .dataframe thead th {\n",
       "        text-align: right;\n",
       "    }\n",
       "</style>\n",
       "<table border=\"1\" class=\"dataframe\">\n",
       "  <thead>\n",
       "    <tr style=\"text-align: right;\">\n",
       "      <th></th>\n",
       "      <th>continente</th>\n",
       "      <th>extensao</th>\n",
       "    </tr>\n",
       "  </thead>\n",
       "  <tbody>\n",
       "    <tr>\n",
       "      <th>IT</th>\n",
       "      <td>Europa</td>\n",
       "      <td>301</td>\n",
       "    </tr>\n",
       "    <tr>\n",
       "      <th>UK</th>\n",
       "      <td>Europa</td>\n",
       "      <td>244</td>\n",
       "    </tr>\n",
       "  </tbody>\n",
       "</table>\n",
       "</div>"
      ],
      "text/plain": [
       "   continente  extensao\n",
       "IT     Europa       301\n",
       "UK     Europa       244"
      ]
     },
     "execution_count": 147,
     "metadata": {},
     "output_type": "execute_result"
    }
   ],
   "source": [
    "countries.iloc[-2:,1:3]"
   ]
  },
  {
   "cell_type": "code",
   "execution_count": 148,
   "id": "df4bea49",
   "metadata": {},
   "outputs": [],
   "source": [
    "# Testa se um dado rótulo de linha existe"
   ]
  },
  {
   "cell_type": "code",
   "execution_count": 149,
   "id": "88337984",
   "metadata": {},
   "outputs": [],
   "source": [
    "has_BR = 'BR' in countries.index"
   ]
  },
  {
   "cell_type": "code",
   "execution_count": 150,
   "id": "0216ca41",
   "metadata": {},
   "outputs": [],
   "source": [
    "has_US = 'US' in countries.index"
   ]
  },
  {
   "cell_type": "code",
   "execution_count": 151,
   "id": "659c646e",
   "metadata": {},
   "outputs": [
    {
     "name": "stdout",
     "output_type": "stream",
     "text": [
      "Existe o rótulo 'BR' -> True\n",
      "Existe o rótulo \"US\" -> False\n"
     ]
    }
   ],
   "source": [
    "print(\"Existe o rótulo 'BR' ->\", has_BR)\n",
    "print('Existe o rótulo \"US\" ->', has_US)"
   ]
  },
  {
   "cell_type": "code",
   "execution_count": 152,
   "id": "84e3da90",
   "metadata": {},
   "outputs": [],
   "source": [
    "# Testa se um dado rótulo de coluna existe"
   ]
  },
  {
   "cell_type": "code",
   "execution_count": 153,
   "id": "89f3ce9e",
   "metadata": {},
   "outputs": [],
   "source": [
    "has_green_color = 'corVerde' in countries.columns\n",
    "has_blue_color = 'corAzul' in countries.columns"
   ]
  },
  {
   "cell_type": "code",
   "execution_count": 154,
   "id": "4b0f4a68",
   "metadata": {},
   "outputs": [
    {
     "name": "stdout",
     "output_type": "stream",
     "text": [
      "Existe o rótulo 'corVerde' ->  True\n",
      "Existe o rótulo 'corAzul' ->  False\n"
     ]
    }
   ],
   "source": [
    "print(\"Existe o rótulo 'corVerde' -> \", has_green_color)\n",
    "print(\"Existe o rótulo 'corAzul' -> \", has_blue_color)"
   ]
  },
  {
   "cell_type": "code",
   "execution_count": 155,
   "id": "60e628c1",
   "metadata": {},
   "outputs": [],
   "source": [
    "# Testa se o valor faz parte de uma coluna"
   ]
  },
  {
   "cell_type": "code",
   "execution_count": 156,
   "id": "754698a2",
   "metadata": {},
   "outputs": [],
   "source": [
    "has_Brasil = countries['name'].isin(['Brasil'])"
   ]
  },
  {
   "cell_type": "code",
   "execution_count": 157,
   "id": "3d87683d",
   "metadata": {},
   "outputs": [
    {
     "name": "stdout",
     "output_type": "stream",
     "text": [
      "Existe o valor 'Brasil' na coluna 'name'?\n",
      "AR    False\n",
      "BR     True\n",
      "FR    False\n",
      "IT    False\n",
      "UK    False\n",
      "Name: name, dtype: bool\n"
     ]
    }
   ],
   "source": [
    "print(\"Existe o valor 'Brasil' na coluna 'name'?\")\n",
    "print(has_Brasil)"
   ]
  },
  {
   "cell_type": "code",
   "execution_count": 158,
   "id": "2cfe1a6d",
   "metadata": {},
   "outputs": [],
   "source": [
    "# Testa se o valor faz parte da coluna extensão"
   ]
  },
  {
   "cell_type": "code",
   "execution_count": 159,
   "id": "b56d7e98",
   "metadata": {},
   "outputs": [],
   "source": [
    "list_in_extensao_validacao = [2780, 8511, 644, 302, 244]"
   ]
  },
  {
   "cell_type": "code",
   "execution_count": 160,
   "id": "1ab6051e",
   "metadata": {},
   "outputs": [],
   "source": [
    "has_number_in_extensao = countries['extensao'].isin(list_in_extensao_validacao)"
   ]
  },
  {
   "cell_type": "code",
   "execution_count": 161,
   "id": "3f954f7f",
   "metadata": {},
   "outputs": [
    {
     "name": "stdout",
     "output_type": "stream",
     "text": [
      "Os valores de [2780, 8511, 644, 302, 244] estão na coluna extensao?\n",
      "AR     True\n",
      "BR     True\n",
      "FR     True\n",
      "IT    False\n",
      "UK     True\n",
      "Name: extensao, dtype: bool\n"
     ]
    }
   ],
   "source": [
    "print(f'Os valores de {list_in_extensao_validacao} estão na coluna extensao?')\n",
    "print(has_number_in_extensao)"
   ]
  },
  {
   "cell_type": "code",
   "execution_count": 162,
   "id": "6549c50b",
   "metadata": {},
   "outputs": [],
   "source": [
    "# Insere o país Japão (JP)"
   ]
  },
  {
   "cell_type": "code",
   "execution_count": 163,
   "id": "e92ae332",
   "metadata": {},
   "outputs": [],
   "source": [
    "countries.loc['JP'] = {'name': 'Japão', 'continente': 'Ásia', 'extensao': 372, 'corVerde': 0}"
   ]
  },
  {
   "cell_type": "code",
   "execution_count": 164,
   "id": "42777b34",
   "metadata": {},
   "outputs": [],
   "source": [
    "# Altera a extensão do Brasil"
   ]
  },
  {
   "cell_type": "code",
   "execution_count": 165,
   "id": "efa4dbf4",
   "metadata": {},
   "outputs": [],
   "source": [
    "countries.at['BR', 'extensao'] = 8512"
   ]
  },
  {
   "cell_type": "code",
   "execution_count": 166,
   "id": "b5a10e17",
   "metadata": {},
   "outputs": [],
   "source": [
    "# Remove a Argentina e o Reino Unido"
   ]
  },
  {
   "cell_type": "code",
   "execution_count": 167,
   "id": "7e33140f",
   "metadata": {},
   "outputs": [],
   "source": [
    "countries = countries.drop(['AR', 'UK'])"
   ]
  },
  {
   "cell_type": "code",
   "execution_count": 168,
   "id": "0a716520",
   "metadata": {},
   "outputs": [
    {
     "name": "stdout",
     "output_type": "stream",
     "text": [
      "Dataframe após as alterações: \n",
      "\n",
      "      name continente  extensao  corVerde\n",
      "BR  Brasil    América      8512         1\n",
      "FR  França     Europa       644         0\n",
      "IT  Itália     Europa       301         1\n",
      "JP   Japão       Ásia       372         0\n"
     ]
    }
   ],
   "source": [
    "print('Dataframe após as alterações: ')\n",
    "print()\n",
    "print(countries)"
   ]
  },
  {
   "cell_type": "markdown",
   "id": "23b308f5",
   "metadata": {},
   "source": [
    "'''\n",
    "O método  read_csv()   é  extremamente  flexível,  possuindo uma série de parâmetros que podem ser utilizados para permitir a\n",
    "importação de arquivos CSV estruturados de diferentes maneiras.\n",
    "\n",
    "Os principais parâmetros são relacionados e explicados a seguir:\n",
    "\n",
    " sep : caractere ou expressão regular utilizada para separar\n",
    "campos em cada linha;\n",
    "\n",
    " skiprows :  número  de  linhas  no  início  do  arquivo  que\n",
    "devem ser ignoradas;\n",
    "\n",
    " skip_footer : número de linhas no final do arquivo que\n",
    "devem ser ignoradas;\n",
    "\n",
    "  encoding  :  padrão  de  codificação  do  arquivo.  A\n",
    "codificação  default  da  pandas  é  utf-8.  Se  o  seu  arquivo\n",
    "estiver  codificado  no  formato  ANSI,  você  deverá  utilizar\n",
    " encoding='ansi' .\n",
    " \n",
    "  header  :  número  da  linha  que  contém  o  cabeçalho\n",
    "(default=0).  Se  não  houver  cabeçalho,  deve-se  especificar\n",
    " header=None   ou  passar  uma  lista  de  nomes  através  do\n",
    "parâmetro  names ;\n",
    "\n",
    " names :  permite  especificar  uma  lista  de  nomes  para  as\n",
    "colunas;\n",
    "\n",
    "index_col  :  permite  que  uma  das  colunas  seja\n",
    "transformada em índice de linhas;\n",
    "\n",
    "  na_values  :  sequência  de  valores  que  deverão  ser\n",
    "substituídos por  NA . Útil para transformação de dados;\n",
    "\n",
    "  thousands  :  definição  do  separador  de  milhar,  por\n",
    "exemplo  .  ou  , ;\n",
    "'''"
   ]
  },
  {
   "cell_type": "code",
   "execution_count": null,
   "id": "22d4a849",
   "metadata": {},
   "outputs": [],
   "source": []
  }
 ],
 "metadata": {
  "kernelspec": {
   "display_name": "Python 3 (ipykernel)",
   "language": "python",
   "name": "python3"
  },
  "language_info": {
   "codemirror_mode": {
    "name": "ipython",
    "version": 3
   },
   "file_extension": ".py",
   "mimetype": "text/x-python",
   "name": "python",
   "nbconvert_exporter": "python",
   "pygments_lexer": "ipython3",
   "version": "3.9.7"
  }
 },
 "nbformat": 4,
 "nbformat_minor": 5
}
